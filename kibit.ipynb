{
 "cells": [
  {
   "cell_type": "code",
   "execution_count": 2,
   "metadata": {
    "collapsed": true
   },
   "outputs": [],
   "source": [
    "import pandas as pd\n",
    "from sklearn.ensemble import GradientBoostingClassifier\n",
    "from sklearn.cross_validation import cross_val_score\n",
    "from sklearn.ensemble import RandomForestClassifier"
   ]
  },
  {
   "cell_type": "code",
   "execution_count": 3,
   "metadata": {
    "collapsed": false
   },
   "outputs": [],
   "source": [
    "d_1 = pd.read_csv(\"data1.csv\")\n",
    "d_2 = pd.read_csv(\"data2.csv\")\n",
    "d_3 = pd.read_csv(\"data3.csv\")\n",
    "d_4 = pd.read_csv(\"data4.csv\")\n",
    "d_5 = pd.read_csv(\"data5.csv\")\n",
    "d = d_1.append(d_2).append(d_3).append(d_4).append(d_5)"
   ]
  },
  {
   "cell_type": "code",
   "execution_count": 4,
   "metadata": {
    "collapsed": false
   },
   "outputs": [
    {
     "name": "stdout",
     "output_type": "stream",
     "text": [
      "337331\n"
     ]
    }
   ],
   "source": [
    "print len(d)"
   ]
  },
  {
   "cell_type": "code",
   "execution_count": 5,
   "metadata": {
    "collapsed": false
   },
   "outputs": [],
   "source": [
    "train_labels = pd.read_csv(\"../data/train_v2.csv\")"
   ]
  },
  {
   "cell_type": "code",
   "execution_count": 6,
   "metadata": {
    "collapsed": false
   },
   "outputs": [],
   "source": [
    "d = d.fillna(0)\n",
    "train = train_labels.merge(d, on='file', how='left')"
   ]
  },
  {
   "cell_type": "code",
   "execution_count": 7,
   "metadata": {
    "collapsed": true
   },
   "outputs": [],
   "source": [
    "train = train.dropna()"
   ]
  },
  {
   "cell_type": "code",
   "execution_count": 8,
   "metadata": {
    "collapsed": false,
    "scrolled": true
   },
   "outputs": [
    {
     "name": "stdout",
     "output_type": "stream",
     "text": [
      "337042\n"
     ]
    },
    {
     "data": {
      "text/html": [
       "<div style=\"max-height:1000px;max-width:1500px;overflow:auto;\">\n",
       "<table border=\"1\" class=\"dataframe\">\n",
       "  <thead>\n",
       "    <tr style=\"text-align: right;\">\n",
       "      <th></th>\n",
       "      <th>file</th>\n",
       "      <th>sponsored</th>\n",
       "      <th>Unnamed: 0</th>\n",
       "      <th>bad_links_number</th>\n",
       "      <th>braces</th>\n",
       "      <th>brackets</th>\n",
       "      <th>len_meta_content</th>\n",
       "      <th>length</th>\n",
       "      <th>lines</th>\n",
       "      <th>median_scale</th>\n",
       "      <th>num_all_links</th>\n",
       "      <th>num_image_class</th>\n",
       "      <th>num_image_src</th>\n",
       "      <th>num_links</th>\n",
       "      <th>num_script_src</th>\n",
       "      <th>num_script_type</th>\n",
       "      <th>spaces</th>\n",
       "      <th>tabs</th>\n",
       "      <th>widgets</th>\n",
       "      <th>words</th>\n",
       "    </tr>\n",
       "  </thead>\n",
       "  <tbody>\n",
       "    <tr>\n",
       "      <th>1 </th>\n",
       "      <td>  845185_raw_html.txt</td>\n",
       "      <td> 0</td>\n",
       "      <td> 64647</td>\n",
       "      <td>  952</td>\n",
       "      <td>  41</td>\n",
       "      <td>  20</td>\n",
       "      <td> 35</td>\n",
       "      <td>  14347</td>\n",
       "      <td>  150</td>\n",
       "      <td>     1</td>\n",
       "      <td>   6</td>\n",
       "      <td> 0</td>\n",
       "      <td>  1</td>\n",
       "      <td>   0</td>\n",
       "      <td>  5</td>\n",
       "      <td>  6</td>\n",
       "      <td>   828</td>\n",
       "      <td>   0</td>\n",
       "      <td>  0</td>\n",
       "      <td>  605</td>\n",
       "    </tr>\n",
       "    <tr>\n",
       "      <th>2 </th>\n",
       "      <td> 3370996_raw_html.txt</td>\n",
       "      <td> 0</td>\n",
       "      <td> 43967</td>\n",
       "      <td>  427</td>\n",
       "      <td>   0</td>\n",
       "      <td>   0</td>\n",
       "      <td>  1</td>\n",
       "      <td>     88</td>\n",
       "      <td>    4</td>\n",
       "      <td>     0</td>\n",
       "      <td>   0</td>\n",
       "      <td> 0</td>\n",
       "      <td>  0</td>\n",
       "      <td>   0</td>\n",
       "      <td>  0</td>\n",
       "      <td>  0</td>\n",
       "      <td>     7</td>\n",
       "      <td>   0</td>\n",
       "      <td>  0</td>\n",
       "      <td>    8</td>\n",
       "    </tr>\n",
       "    <tr>\n",
       "      <th>3 </th>\n",
       "      <td> 3370996_raw_html.txt</td>\n",
       "      <td> 0</td>\n",
       "      <td> 43967</td>\n",
       "      <td>  427</td>\n",
       "      <td>   0</td>\n",
       "      <td>   0</td>\n",
       "      <td>  1</td>\n",
       "      <td>     88</td>\n",
       "      <td>    4</td>\n",
       "      <td>     0</td>\n",
       "      <td>   0</td>\n",
       "      <td> 0</td>\n",
       "      <td>  0</td>\n",
       "      <td>   0</td>\n",
       "      <td>  0</td>\n",
       "      <td>  0</td>\n",
       "      <td>     7</td>\n",
       "      <td>   0</td>\n",
       "      <td>  0</td>\n",
       "      <td>    8</td>\n",
       "    </tr>\n",
       "    <tr>\n",
       "      <th>5 </th>\n",
       "      <td> 3273416_raw_html.txt</td>\n",
       "      <td> 0</td>\n",
       "      <td> 41954</td>\n",
       "      <td> 4009</td>\n",
       "      <td> 124</td>\n",
       "      <td>  49</td>\n",
       "      <td> 18</td>\n",
       "      <td> 104343</td>\n",
       "      <td> 1993</td>\n",
       "      <td> 50520</td>\n",
       "      <td> 119</td>\n",
       "      <td> 4</td>\n",
       "      <td> 23</td>\n",
       "      <td>  71</td>\n",
       "      <td> 25</td>\n",
       "      <td> 28</td>\n",
       "      <td> 15435</td>\n",
       "      <td> 155</td>\n",
       "      <td> 32</td>\n",
       "      <td> 7829</td>\n",
       "    </tr>\n",
       "    <tr>\n",
       "      <th>8 </th>\n",
       "      <td>  781426_raw_html.txt</td>\n",
       "      <td> 0</td>\n",
       "      <td> 63656</td>\n",
       "      <td> 3730</td>\n",
       "      <td> 245</td>\n",
       "      <td>  64</td>\n",
       "      <td> 52</td>\n",
       "      <td>  83032</td>\n",
       "      <td> 1952</td>\n",
       "      <td>     0</td>\n",
       "      <td>  90</td>\n",
       "      <td> 0</td>\n",
       "      <td>  7</td>\n",
       "      <td>  77</td>\n",
       "      <td>  6</td>\n",
       "      <td> 27</td>\n",
       "      <td> 20263</td>\n",
       "      <td>   0</td>\n",
       "      <td> 32</td>\n",
       "      <td> 4624</td>\n",
       "    </tr>\n",
       "    <tr>\n",
       "      <th>9 </th>\n",
       "      <td>  781426_raw_html.txt</td>\n",
       "      <td> 0</td>\n",
       "      <td> 63655</td>\n",
       "      <td> 3730</td>\n",
       "      <td> 245</td>\n",
       "      <td>  64</td>\n",
       "      <td> 52</td>\n",
       "      <td>  83032</td>\n",
       "      <td> 1952</td>\n",
       "      <td>     0</td>\n",
       "      <td>  90</td>\n",
       "      <td> 0</td>\n",
       "      <td>  7</td>\n",
       "      <td>  77</td>\n",
       "      <td>  6</td>\n",
       "      <td> 27</td>\n",
       "      <td> 20263</td>\n",
       "      <td>   0</td>\n",
       "      <td> 32</td>\n",
       "      <td> 4624</td>\n",
       "    </tr>\n",
       "    <tr>\n",
       "      <th>10</th>\n",
       "      <td> 2825110_raw_html.txt</td>\n",
       "      <td> 0</td>\n",
       "      <td> 33756</td>\n",
       "      <td> 2931</td>\n",
       "      <td>  36</td>\n",
       "      <td> 186</td>\n",
       "      <td> 34</td>\n",
       "      <td>  53581</td>\n",
       "      <td> 1118</td>\n",
       "      <td>     0</td>\n",
       "      <td> 120</td>\n",
       "      <td> 8</td>\n",
       "      <td>  8</td>\n",
       "      <td> 100</td>\n",
       "      <td> 12</td>\n",
       "      <td> 15</td>\n",
       "      <td> 10001</td>\n",
       "      <td>   0</td>\n",
       "      <td> 13</td>\n",
       "      <td> 3143</td>\n",
       "    </tr>\n",
       "    <tr>\n",
       "      <th>11</th>\n",
       "      <td> 2825110_raw_html.txt</td>\n",
       "      <td> 0</td>\n",
       "      <td> 33756</td>\n",
       "      <td> 2931</td>\n",
       "      <td>  36</td>\n",
       "      <td> 186</td>\n",
       "      <td> 34</td>\n",
       "      <td>  53581</td>\n",
       "      <td> 1118</td>\n",
       "      <td>     0</td>\n",
       "      <td> 120</td>\n",
       "      <td> 8</td>\n",
       "      <td>  8</td>\n",
       "      <td> 100</td>\n",
       "      <td> 12</td>\n",
       "      <td> 15</td>\n",
       "      <td> 10001</td>\n",
       "      <td>   0</td>\n",
       "      <td> 13</td>\n",
       "      <td> 3143</td>\n",
       "    </tr>\n",
       "    <tr>\n",
       "      <th>12</th>\n",
       "      <td> 3536138_raw_html.txt</td>\n",
       "      <td> 0</td>\n",
       "      <td> 46711</td>\n",
       "      <td>  524</td>\n",
       "      <td>   1</td>\n",
       "      <td>   0</td>\n",
       "      <td>  3</td>\n",
       "      <td>   7021</td>\n",
       "      <td>  210</td>\n",
       "      <td>  4900</td>\n",
       "      <td>  26</td>\n",
       "      <td> 0</td>\n",
       "      <td>  9</td>\n",
       "      <td>  17</td>\n",
       "      <td>  0</td>\n",
       "      <td>  0</td>\n",
       "      <td>  2212</td>\n",
       "      <td>   0</td>\n",
       "      <td>  0</td>\n",
       "      <td>  479</td>\n",
       "    </tr>\n",
       "    <tr>\n",
       "      <th>13</th>\n",
       "      <td> 2691934_raw_html.txt</td>\n",
       "      <td> 0</td>\n",
       "      <td> 31297</td>\n",
       "      <td> 3116</td>\n",
       "      <td>  33</td>\n",
       "      <td>  21</td>\n",
       "      <td> 20</td>\n",
       "      <td>  42501</td>\n",
       "      <td>  951</td>\n",
       "      <td> 31200</td>\n",
       "      <td>  79</td>\n",
       "      <td> 0</td>\n",
       "      <td> 16</td>\n",
       "      <td>  53</td>\n",
       "      <td> 10</td>\n",
       "      <td> 26</td>\n",
       "      <td>  7229</td>\n",
       "      <td> 115</td>\n",
       "      <td>  2</td>\n",
       "      <td> 3007</td>\n",
       "    </tr>\n",
       "  </tbody>\n",
       "</table>\n",
       "</div>"
      ],
      "text/plain": [
       "                    file  sponsored  Unnamed: 0  bad_links_number  braces  \\\n",
       "1    845185_raw_html.txt          0       64647               952      41   \n",
       "2   3370996_raw_html.txt          0       43967               427       0   \n",
       "3   3370996_raw_html.txt          0       43967               427       0   \n",
       "5   3273416_raw_html.txt          0       41954              4009     124   \n",
       "8    781426_raw_html.txt          0       63656              3730     245   \n",
       "9    781426_raw_html.txt          0       63655              3730     245   \n",
       "10  2825110_raw_html.txt          0       33756              2931      36   \n",
       "11  2825110_raw_html.txt          0       33756              2931      36   \n",
       "12  3536138_raw_html.txt          0       46711               524       1   \n",
       "13  2691934_raw_html.txt          0       31297              3116      33   \n",
       "\n",
       "    brackets  len_meta_content  length  lines  median_scale  num_all_links  \\\n",
       "1         20                35   14347    150             1              6   \n",
       "2          0                 1      88      4             0              0   \n",
       "3          0                 1      88      4             0              0   \n",
       "5         49                18  104343   1993         50520            119   \n",
       "8         64                52   83032   1952             0             90   \n",
       "9         64                52   83032   1952             0             90   \n",
       "10       186                34   53581   1118             0            120   \n",
       "11       186                34   53581   1118             0            120   \n",
       "12         0                 3    7021    210          4900             26   \n",
       "13        21                20   42501    951         31200             79   \n",
       "\n",
       "    num_image_class  num_image_src  num_links  num_script_src  \\\n",
       "1                 0              1          0               5   \n",
       "2                 0              0          0               0   \n",
       "3                 0              0          0               0   \n",
       "5                 4             23         71              25   \n",
       "8                 0              7         77               6   \n",
       "9                 0              7         77               6   \n",
       "10                8              8        100              12   \n",
       "11                8              8        100              12   \n",
       "12                0              9         17               0   \n",
       "13                0             16         53              10   \n",
       "\n",
       "    num_script_type  spaces  tabs  widgets  words  \n",
       "1                 6     828     0        0    605  \n",
       "2                 0       7     0        0      8  \n",
       "3                 0       7     0        0      8  \n",
       "5                28   15435   155       32   7829  \n",
       "8                27   20263     0       32   4624  \n",
       "9                27   20263     0       32   4624  \n",
       "10               15   10001     0       13   3143  \n",
       "11               15   10001     0       13   3143  \n",
       "12                0    2212     0        0    479  \n",
       "13               26    7229   115        2   3007  "
      ]
     },
     "execution_count": 8,
     "metadata": {},
     "output_type": "execute_result"
    }
   ],
   "source": [
    "print len(train)"
   ]
  },
  {
   "cell_type": "code",
   "execution_count": null,
   "metadata": {
    "collapsed": false
   },
   "outputs": [],
   "source": []
  },
  {
   "cell_type": "code",
   "execution_count": 14,
   "metadata": {
    "collapsed": false
   },
   "outputs": [
    {
     "name": "stdout",
     "output_type": "stream",
     "text": [
      "0.930382807017\n"
     ]
    }
   ],
   "source": [
    "clf = RandomForestClassifier(n_estimators=300, n_jobs=-1, random_state=0)\n",
    "columns = [\"num_script_src\", \"widgets\", \"spaces\", \"tabs\", \"words\", \"braces\",\\\n",
    "                                       \"brackets\", \"len_meta_content\", \"bad_links_number\",\\\n",
    "                                       \"num_script_type\", \"median_scale\", \"num_image_class\"]\n",
    "et_score = cross_val_score(clf, train[columns], train.sponsored, cv = 3, scoring=\"roc_auc\")\n",
    "print et_score.mean()"
   ]
  },
  {
   "cell_type": "code",
   "execution_count": 15,
   "metadata": {
    "collapsed": true
   },
   "outputs": [],
   "source": [
    "test_labels= pd.read_csv(\"../data/sampleSubmission_v2.csv\")\n",
    "test_data = pd.read_csv(\"test.csv\")\n",
    "test = test_labels.merge(test_data, on=\"file\", how='left')"
   ]
  },
  {
   "cell_type": "code",
   "execution_count": 16,
   "metadata": {
    "collapsed": true
   },
   "outputs": [],
   "source": [
    "test = test.fillna(0)"
   ]
  },
  {
   "cell_type": "code",
   "execution_count": 17,
   "metadata": {
    "collapsed": false
   },
   "outputs": [],
   "source": [
    "clf = RandomForestClassifier(n_estimators=300, n_jobs=-1, random_state=0)\n",
    "clf.fit(train[columns], train.sponsored)\n",
    "submission = test[['file']].reset_index(drop=True)\n",
    "submission['sponsored'] = clf.predict_proba(test[columns])[:, 1]\n",
    "submission.to_csv('submission.csv', index=False)"
   ]
  },
  {
   "cell_type": "code",
   "execution_count": null,
   "metadata": {
    "collapsed": true
   },
   "outputs": [],
   "source": []
  }
 ],
 "metadata": {
  "kernelspec": {
   "display_name": "Python 2",
   "language": "python",
   "name": "python2"
  },
  "language_info": {
   "codemirror_mode": {
    "name": "ipython",
    "version": 2
   },
   "file_extension": ".py",
   "mimetype": "text/x-python",
   "name": "python",
   "nbconvert_exporter": "python",
   "pygments_lexer": "ipython2",
   "version": "2.7.9"
  }
 },
 "nbformat": 4,
 "nbformat_minor": 0
}
