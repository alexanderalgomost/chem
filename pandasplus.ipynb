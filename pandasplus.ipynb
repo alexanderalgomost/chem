{
 "cells": [
  {
   "cell_type": "code",
   "execution_count": 142,
   "metadata": {
    "collapsed": false
   },
   "outputs": [
    {
     "name": "stdout",
     "output_type": "stream",
     "text": [
      "Populating the interactive namespace from numpy and matplotlib\n"
     ]
    }
   ],
   "source": [
    "# подгружаем все нужные пакеты\n",
    "import pandas as pd\n",
    "import numpy as np\n",
    "\n",
    "\n",
    "# для встроенных картинок\n",
    "%pylab inline\n",
    "# чуть покрасивше картинки:\n",
    "pd.set_option('display.mpl_style', 'default')\n",
    "figsize(10, 3)"
   ]
  },
  {
   "cell_type": "code",
   "execution_count": 143,
   "metadata": {
    "collapsed": true
   },
   "outputs": [],
   "source": [
    "s = pd.Series(np.random.randn(5), index=['a', 'b', 'c', 'd', 'e'])\n",
    "\n",
    "df = pd.DataFrame(np.random.randn(8, 3), index=pd.date_range('1/1/2000', periods=8), columns=['A', 'B', 'C'])\n",
    "wp = pd.Panel(np.random.randn(2, 5, 4), items=['Item1', 'Item2'], major_axis=pd.date_range('1/1/2000', periods=5), minor_axis=['A', 'B', 'C', 'D'])"
   ]
  },
  {
   "cell_type": "code",
   "execution_count": 144,
   "metadata": {
    "collapsed": false
   },
   "outputs": [
    {
     "data": {
      "text/plain": [
       "a   -0.977629\n",
       "b   -2.035755\n",
       "c    0.183539\n",
       "d    0.449169\n",
       "e   -0.912494\n",
       "dtype: float64"
      ]
     },
     "execution_count": 144,
     "metadata": {},
     "output_type": "execute_result"
    }
   ],
   "source": [
    "s"
   ]
  },
  {
   "cell_type": "code",
   "execution_count": 145,
   "metadata": {
    "collapsed": false
   },
   "outputs": [
    {
     "data": {
      "text/html": [
       "<div style=\"max-height:1000px;max-width:1500px;overflow:auto;\">\n",
       "<table border=\"1\" class=\"dataframe\">\n",
       "  <thead>\n",
       "    <tr style=\"text-align: right;\">\n",
       "      <th></th>\n",
       "      <th>A</th>\n",
       "      <th>B</th>\n",
       "      <th>C</th>\n",
       "    </tr>\n",
       "  </thead>\n",
       "  <tbody>\n",
       "    <tr>\n",
       "      <th>2000-01-01</th>\n",
       "      <td>-1.068182</td>\n",
       "      <td>-0.041107</td>\n",
       "      <td>-0.832070</td>\n",
       "    </tr>\n",
       "    <tr>\n",
       "      <th>2000-01-02</th>\n",
       "      <td>-0.089876</td>\n",
       "      <td> 0.243688</td>\n",
       "      <td>-0.554766</td>\n",
       "    </tr>\n",
       "    <tr>\n",
       "      <th>2000-01-03</th>\n",
       "      <td> 0.225305</td>\n",
       "      <td> 0.773564</td>\n",
       "      <td>-0.379461</td>\n",
       "    </tr>\n",
       "    <tr>\n",
       "      <th>2000-01-04</th>\n",
       "      <td>-0.738433</td>\n",
       "      <td> 0.713150</td>\n",
       "      <td> 2.189426</td>\n",
       "    </tr>\n",
       "    <tr>\n",
       "      <th>2000-01-05</th>\n",
       "      <td> 0.424170</td>\n",
       "      <td> 0.519910</td>\n",
       "      <td> 0.836852</td>\n",
       "    </tr>\n",
       "    <tr>\n",
       "      <th>2000-01-06</th>\n",
       "      <td>-0.475131</td>\n",
       "      <td> 0.466729</td>\n",
       "      <td> 2.912739</td>\n",
       "    </tr>\n",
       "    <tr>\n",
       "      <th>2000-01-07</th>\n",
       "      <td> 0.585026</td>\n",
       "      <td> 0.409698</td>\n",
       "      <td>-0.541549</td>\n",
       "    </tr>\n",
       "    <tr>\n",
       "      <th>2000-01-08</th>\n",
       "      <td> 1.802337</td>\n",
       "      <td>-1.135594</td>\n",
       "      <td> 1.221049</td>\n",
       "    </tr>\n",
       "  </tbody>\n",
       "</table>\n",
       "</div>"
      ],
      "text/plain": [
       "                   A         B         C\n",
       "2000-01-01 -1.068182 -0.041107 -0.832070\n",
       "2000-01-02 -0.089876  0.243688 -0.554766\n",
       "2000-01-03  0.225305  0.773564 -0.379461\n",
       "2000-01-04 -0.738433  0.713150  2.189426\n",
       "2000-01-05  0.424170  0.519910  0.836852\n",
       "2000-01-06 -0.475131  0.466729  2.912739\n",
       "2000-01-07  0.585026  0.409698 -0.541549\n",
       "2000-01-08  1.802337 -1.135594  1.221049"
      ]
     },
     "execution_count": 145,
     "metadata": {},
     "output_type": "execute_result"
    }
   ],
   "source": [
    "df"
   ]
  },
  {
   "cell_type": "code",
   "execution_count": 146,
   "metadata": {
    "collapsed": false
   },
   "outputs": [
    {
     "data": {
      "text/plain": [
       "<class 'pandas.core.panel.Panel'>\n",
       "Dimensions: 2 (items) x 5 (major_axis) x 4 (minor_axis)\n",
       "Items axis: Item1 to Item2\n",
       "Major_axis axis: 2000-01-01 00:00:00 to 2000-01-05 00:00:00\n",
       "Minor_axis axis: A to D"
      ]
     },
     "execution_count": 146,
     "metadata": {},
     "output_type": "execute_result"
    }
   ],
   "source": [
    "wp"
   ]
  },
  {
   "cell_type": "code",
   "execution_count": 148,
   "metadata": {
    "collapsed": false
   },
   "outputs": [
    {
     "data": {
      "text/plain": [
       "array([[[ 1.78062604, -0.5561296 , -1.24083385, -1.69864369],\n",
       "        [ 0.16570595,  1.64809079,  0.35392043,  2.97868502],\n",
       "        [ 0.53195908,  1.08378065,  0.02827696, -0.96342042],\n",
       "        [-0.73237709,  0.66404344, -0.31906433,  0.22087613],\n",
       "        [ 0.32413009, -0.69776956,  1.11874351, -0.2840771 ]],\n",
       "\n",
       "       [[-0.20805447,  0.23383681,  1.72142242,  0.13723464],\n",
       "        [ 0.40542011,  0.91984933, -0.19587539,  0.29822036],\n",
       "        [-1.01098499, -0.12018224, -1.03538127,  1.04144064],\n",
       "        [ 0.10205192, -2.54926848, -2.26022257,  0.98787313],\n",
       "        [-0.74276415, -1.27796099,  1.66724149,  1.75382217]]])"
      ]
     },
     "execution_count": 148,
     "metadata": {},
     "output_type": "execute_result"
    }
   ],
   "source": [
    "wp.values"
   ]
  },
  {
   "cell_type": "code",
   "execution_count": 153,
   "metadata": {
    "collapsed": false
   },
   "outputs": [
    {
     "name": "stdout",
     "output_type": "stream",
     "text": [
      "       x      y\n",
      "0  False   True\n",
      "1   True   True\n",
      "2   True  False\n",
      "0    True\n",
      "1    True\n",
      "2    True\n",
      "dtype: bool\n",
      "x    False\n",
      "y    False\n",
      "dtype: bool\n"
     ]
    }
   ],
   "source": [
    "df1 = pd.DataFrame({'x':[1,3,2], 'y':[2,4,1]})\n",
    "df2 = pd.DataFrame({'x':[3,1,2], 'y':[0,2,2]})\n",
    "print df1>=df2\n",
    "print (df1>=df2).any(axis=1)\n",
    "print (df1>=df2).all()\n"
   ]
  },
  {
   "cell_type": "code",
   "execution_count": 170,
   "metadata": {
    "collapsed": false
   },
   "outputs": [
    {
     "name": "stdout",
     "output_type": "stream",
     "text": [
      "             a\n",
      "count  4.00000\n",
      "mean   0.50000\n",
      "std    0.57735\n",
      "min    0.00000\n",
      "25%    0.00000\n",
      "50%    0.50000\n",
      "75%    1.00000\n",
      "max    1.00000\n",
      "        b\n",
      "count   4\n",
      "unique  2\n",
      "top     b\n",
      "freq    2\n"
     ]
    }
   ],
   "source": [
    "# статистика\n",
    "df = pd.DataFrame({'a':[0,0,1,1], 'b':['a','b','a','b']})\n",
    "print df.describe()\n",
    "print df.describe(include=['object']) # для категориальных"
   ]
  },
  {
   "cell_type": "code",
   "execution_count": 167,
   "metadata": {
    "collapsed": false
   },
   "outputs": [
    {
     "name": "stdout",
     "output_type": "stream",
     "text": [
      "    x   y  z\n",
      "0   1   2  1\n",
      "1 NaN   4  2\n",
      "2   2 NaN  3\n",
      "    x   y\n",
      "0  20   2\n",
      "1  40   4\n",
      "2 NaN  20\n",
      "    x   y  z\n",
      "0   1   2  1\n",
      "1  40   4  2\n",
      "2   2  20  3\n",
      "    x   y  z\n",
      "0  21   4  1\n",
      "1  40   8  2\n",
      "2   2  20  3\n"
     ]
    }
   ],
   "source": [
    "# комбинирование ДатаФреймов\n",
    "df1 = pd.DataFrame({'x':[1,np.nan,2], 'y':[2,4,np.nan], 'z':[1,2,3]})\n",
    "df2 = pd.DataFrame({'x':[20,40,np.nan], 'y':[2,4,20]})\n",
    "print df1\n",
    "print df2\n",
    "\n",
    "print df1.combine_first(df2)\n",
    "\n",
    "print df1.combineAdd(df2)"
   ]
  },
  {
   "cell_type": "code",
   "execution_count": 168,
   "metadata": {
    "collapsed": false
   },
   "outputs": [
    {
     "data": {
      "text/html": [
       "<div style=\"max-height:1000px;max-width:1500px;overflow:auto;\">\n",
       "<table border=\"1\" class=\"dataframe\">\n",
       "  <thead>\n",
       "    <tr style=\"text-align: right;\">\n",
       "      <th></th>\n",
       "      <th>x</th>\n",
       "      <th>y</th>\n",
       "      <th>z</th>\n",
       "    </tr>\n",
       "  </thead>\n",
       "  <tbody>\n",
       "    <tr>\n",
       "      <th>0</th>\n",
       "      <td> 100</td>\n",
       "      <td> 200</td>\n",
       "      <td> 100</td>\n",
       "    </tr>\n",
       "    <tr>\n",
       "      <th>1</th>\n",
       "      <td>  40</td>\n",
       "      <td> 400</td>\n",
       "      <td> 200</td>\n",
       "    </tr>\n",
       "    <tr>\n",
       "      <th>2</th>\n",
       "      <td> 200</td>\n",
       "      <td>  20</td>\n",
       "      <td> 300</td>\n",
       "    </tr>\n",
       "  </tbody>\n",
       "</table>\n",
       "</div>"
      ],
      "text/plain": [
       "     x    y    z\n",
       "0  100  200  100\n",
       "1   40  400  200\n",
       "2  200   20  300"
      ]
     },
     "execution_count": 168,
     "metadata": {},
     "output_type": "execute_result"
    }
   ],
   "source": [
    "combiner = lambda x, y: np.where(pd.isnull(x), y, 100*x) # свой комбайнер\n",
    "df1.combine(df2, combiner)"
   ]
  },
  {
   "cell_type": "code",
   "execution_count": 9,
   "metadata": {
    "collapsed": false
   },
   "outputs": [
    {
     "data": {
      "text/html": [
       "<div style=\"max-height:1000px;max-width:1500px;overflow:auto;\">\n",
       "<table border=\"1\" class=\"dataframe\">\n",
       "  <thead>\n",
       "    <tr style=\"text-align: right;\">\n",
       "      <th></th>\n",
       "      <th>x</th>\n",
       "      <th>y</th>\n",
       "    </tr>\n",
       "  </thead>\n",
       "  <tbody>\n",
       "    <tr>\n",
       "      <th>0</th>\n",
       "      <td> NaN</td>\n",
       "      <td>NaN</td>\n",
       "    </tr>\n",
       "    <tr>\n",
       "      <th>1</th>\n",
       "      <td> 1.5</td>\n",
       "      <td>  2</td>\n",
       "    </tr>\n",
       "    <tr>\n",
       "      <th>2</th>\n",
       "      <td> 2.5</td>\n",
       "      <td>  6</td>\n",
       "    </tr>\n",
       "    <tr>\n",
       "      <th>3</th>\n",
       "      <td> 2.0</td>\n",
       "      <td>  6</td>\n",
       "    </tr>\n",
       "    <tr>\n",
       "      <th>4</th>\n",
       "      <td> 1.5</td>\n",
       "      <td>  2</td>\n",
       "    </tr>\n",
       "    <tr>\n",
       "      <th>5</th>\n",
       "      <td> 2.5</td>\n",
       "      <td>  2</td>\n",
       "    </tr>\n",
       "    <tr>\n",
       "      <th>6</th>\n",
       "      <td> 2.0</td>\n",
       "      <td>  2</td>\n",
       "    </tr>\n",
       "    <tr>\n",
       "      <th>7</th>\n",
       "      <td> 1.5</td>\n",
       "      <td>  2</td>\n",
       "    </tr>\n",
       "    <tr>\n",
       "      <th>8</th>\n",
       "      <td> 2.5</td>\n",
       "      <td>  2</td>\n",
       "    </tr>\n",
       "  </tbody>\n",
       "</table>\n",
       "</div>"
      ],
      "text/plain": [
       "     x   y\n",
       "0  NaN NaN\n",
       "1  1.5   2\n",
       "2  2.5   6\n",
       "3  2.0   6\n",
       "4  1.5   2\n",
       "5  2.5   2\n",
       "6  2.0   2\n",
       "7  1.5   2\n",
       "8  2.5   2"
      ]
     },
     "execution_count": 9,
     "metadata": {},
     "output_type": "execute_result"
    }
   ],
   "source": [
    "# скользящее среднее\n",
    "a = pd.DataFrame({'x':[1,2,3,1,2,3,1,2,3], 'y':[2,2,10,2,2,2,2,2,2]})\n",
    "pd.rolling_mean(a, 2) # можно суммуб медиану и т.п."
   ]
  },
  {
   "cell_type": "code",
   "execution_count": 35,
   "metadata": {
    "collapsed": false
   },
   "outputs": [
    {
     "data": {
      "text/html": [
       "<div style=\"max-height:1000px;max-width:1500px;overflow:auto;\">\n",
       "<table border=\"1\" class=\"dataframe\">\n",
       "  <thead>\n",
       "    <tr style=\"text-align: right;\">\n",
       "      <th></th>\n",
       "      <th>battle_deaths</th>\n",
       "    </tr>\n",
       "    <tr>\n",
       "      <th>date</th>\n",
       "      <th></th>\n",
       "    </tr>\n",
       "  </thead>\n",
       "  <tbody>\n",
       "    <tr>\n",
       "      <th>2014-05-01 18:47:05.069722</th>\n",
       "      <td> 34</td>\n",
       "    </tr>\n",
       "    <tr>\n",
       "      <th>2014-05-01 18:47:05.119994</th>\n",
       "      <td> 25</td>\n",
       "    </tr>\n",
       "    <tr>\n",
       "      <th>2014-05-02 18:47:05.178768</th>\n",
       "      <td> 26</td>\n",
       "    </tr>\n",
       "    <tr>\n",
       "      <th>2014-05-02 18:47:05.230071</th>\n",
       "      <td> 15</td>\n",
       "    </tr>\n",
       "    <tr>\n",
       "      <th>2014-05-02 18:47:05.230071</th>\n",
       "      <td> 15</td>\n",
       "    </tr>\n",
       "    <tr>\n",
       "      <th>2014-05-02 18:47:05.280592</th>\n",
       "      <td> 14</td>\n",
       "    </tr>\n",
       "    <tr>\n",
       "      <th>2014-05-03 18:47:05.332662</th>\n",
       "      <td> 26</td>\n",
       "    </tr>\n",
       "    <tr>\n",
       "      <th>2014-05-03 18:47:05.385109</th>\n",
       "      <td> 25</td>\n",
       "    </tr>\n",
       "    <tr>\n",
       "      <th>2014-05-04 18:47:05.436523</th>\n",
       "      <td> 62</td>\n",
       "    </tr>\n",
       "    <tr>\n",
       "      <th>2014-05-04 18:47:05.486877</th>\n",
       "      <td> 41</td>\n",
       "    </tr>\n",
       "  </tbody>\n",
       "</table>\n",
       "</div>"
      ],
      "text/plain": [
       "                            battle_deaths\n",
       "date                                     \n",
       "2014-05-01 18:47:05.069722             34\n",
       "2014-05-01 18:47:05.119994             25\n",
       "2014-05-02 18:47:05.178768             26\n",
       "2014-05-02 18:47:05.230071             15\n",
       "2014-05-02 18:47:05.230071             15\n",
       "2014-05-02 18:47:05.280592             14\n",
       "2014-05-03 18:47:05.332662             26\n",
       "2014-05-03 18:47:05.385109             25\n",
       "2014-05-04 18:47:05.436523             62\n",
       "2014-05-04 18:47:05.486877             41"
      ]
     },
     "execution_count": 35,
     "metadata": {},
     "output_type": "execute_result"
    }
   ],
   "source": [
    "#временные ряды\n",
    "\n",
    "data = {'date': ['2014-05-01 18:47:05.069722', '2014-05-01 18:47:05.119994', '2014-05-02 18:47:05.178768', '2014-05-02 18:47:05.230071', '2014-05-02 18:47:05.230071', '2014-05-02 18:47:05.280592', '2014-05-03 18:47:05.332662', '2014-05-03 18:47:05.385109', '2014-05-04 18:47:05.436523', '2014-05-04 18:47:05.486877'],\n",
    "        'battle_deaths': [34, 25, 26, 15, 15, 14, 26, 25, 62, 41]}\n",
    "df = pd.DataFrame(data)\n",
    "df.index = pd.to_datetime(df['date'])\n",
    "del df['date']\n",
    "df['05-2014']"
   ]
  },
  {
   "cell_type": "code",
   "execution_count": null,
   "metadata": {
    "collapsed": false
   },
   "outputs": [],
   "source": []
  },
  {
   "cell_type": "code",
   "execution_count": 42,
   "metadata": {
    "collapsed": false
   },
   "outputs": [
    {
     "name": "stdout",
     "output_type": "stream",
     "text": [
      "                            battle_deaths\n",
      "date                                     \n",
      "2014-05-01 18:47:05.119994             25\n",
      "2014-05-01 18:47:05.069722             34\n",
      "                            battle_deaths\n",
      "date                                     \n",
      "2014-05-03 18:47:05.385109             25\n",
      "2014-05-03 18:47:05.332662             26\n",
      "2014-05-04 18:47:05.486877             41\n",
      "2014-05-04 18:47:05.436523             62\n",
      "Axes(0.125,0.125;0.775x0.775)\n"
     ]
    },
    {
     "data": {
      "image/png": "[encoded data removed]",
      "text/plain": [
       "<matplotlib.figure.Figure at 0xd160d30>"
      ]
     },
     "metadata": {},
     "output_type": "display_data"
    }
   ],
   "source": [
    "# индексация\n",
    "print df['5/1/2014']  # df['2014-05-01'] \n",
    "print df['2014-05-03':'2014-05-04']\n",
    "# переход к дням\n",
    "print df.resample('D', how='mean').plot(kind='bar')"
   ]
  },
  {
   "cell_type": "code",
   "execution_count": null,
   "metadata": {
    "collapsed": true
   },
   "outputs": [],
   "source": [
    "# пересортировка df\n",
    "df.sort_index(by = 'battle_deaths', inplace=True)\n",
    "df"
   ]
  },
  {
   "cell_type": "code",
   "execution_count": 33,
   "metadata": {
    "collapsed": false
   },
   "outputs": [
    {
     "name": "stdout",
     "output_type": "stream",
     "text": [
      "0     True\n",
      "1     True\n",
      "2    False\n",
      "Name: mail, dtype: bool\n"
     ]
    },
    {
     "name": "stderr",
     "output_type": "stream",
     "text": [
      "C:\\Anaconda\\lib\\site-packages\\pandas\\core\\strings.py:377: UserWarning: In future versions of pandas, match will change to always return a bool indexer.\n",
      "  \" always return a bool indexer.\", UserWarning)\n"
     ]
    },
    {
     "data": {
      "text/plain": [
       "0      (1, mail, ru)\n",
       "1    (Amail, vk, ru)\n",
       "2    (12_Wq, ru, ru)\n",
       "Name: mail, dtype: object"
      ]
     },
     "execution_count": 33,
     "metadata": {},
     "output_type": "execute_result"
    }
   ],
   "source": [
    "# работа со строками\n",
    "df = pd.DataFrame({'name': [u'Маша', u'Саша', u'Рудольф'], 'mail':['1@mail.ru', 'Amail@vk.ru', '12_Wq@ru.ru']})\n",
    "print df.mail.str.contains('mail')\n",
    "pattern = '([A-Z0-9._%+-]+)@([A-Z0-9.-]+)\\\\.([A-Z]{2,4})'\n",
    "import re as re\n",
    "df['mail'].str.match(pattern, flags=re.IGNORECASE)"
   ]
  },
  {
   "cell_type": "code",
   "execution_count": 52,
   "metadata": {
    "collapsed": false
   },
   "outputs": [
    {
     "name": "stdout",
     "output_type": "stream",
     "text": [
      "          marks     name\n",
      "0  [2, 3, 3, 5]     Маша\n",
      "2        [2, 3]  Рудольф\n"
     ]
    }
   ],
   "source": [
    "df = pd.DataFrame({'name': [u'Маша', u'Саша', u'Рудольф'], 'marks':[[2,3,3,5], [4,5,5], [2,3]]})\n",
    "#print df\n",
    "print df[df['marks'].map(lambda x: 3 in x)]"
   ]
  },
  {
   "cell_type": "code",
   "execution_count": 56,
   "metadata": {
    "collapsed": false
   },
   "outputs": [
    {
     "name": "stdout",
     "output_type": "stream",
     "text": [
      "          marks     name\n",
      "2        [2, 3]  Рудольф\n",
      "0  [2, 3, 3, 5]     Маша\n",
      "          marks     name\n",
      "0  [2, 3, 3, 5]    Мария\n",
      "1     [4, 5, 5]     Саша\n",
      "2        [2, 3]  Рудольф\n"
     ]
    }
   ],
   "source": [
    "# выбор нескольких слуайных строк\n",
    "print df.take(np.random.permutation(len(df))[:2])\n",
    "# замена значения\n",
    "print df.replace(u'Маша', u'Мария')"
   ]
  },
  {
   "cell_type": "code",
   "execution_count": 80,
   "metadata": {
    "collapsed": false
   },
   "outputs": [
    {
     "data": {
      "text/html": [
       "<div style=\"max-height:1000px;max-width:1500px;overflow:auto;\">\n",
       "<table border=\"1\" class=\"dataframe\">\n",
       "  <thead>\n",
       "    <tr style=\"text-align: right;\">\n",
       "      <th></th>\n",
       "      <th>x</th>\n",
       "      <th>num</th>\n",
       "      <th>date</th>\n",
       "      <th>word</th>\n",
       "    </tr>\n",
       "  </thead>\n",
       "  <tbody>\n",
       "    <tr>\n",
       "      <th>0</th>\n",
       "      <td> mark 10 12-10-2015</td>\n",
       "      <td> 10</td>\n",
       "      <td> 12-10-2015</td>\n",
       "      <td> mark</td>\n",
       "    </tr>\n",
       "    <tr>\n",
       "      <th>1</th>\n",
       "      <td>  also 7 10-10-2014</td>\n",
       "      <td>  7</td>\n",
       "      <td> 10-10-2014</td>\n",
       "      <td> also</td>\n",
       "    </tr>\n",
       "    <tr>\n",
       "      <th>2</th>\n",
       "      <td>  take 2 01-05-2015</td>\n",
       "      <td>  2</td>\n",
       "      <td> 01-05-2015</td>\n",
       "      <td> take</td>\n",
       "    </tr>\n",
       "  </tbody>\n",
       "</table>\n",
       "</div>"
      ],
      "text/plain": [
       "                    x num        date  word\n",
       "0  mark 10 12-10-2015  10  12-10-2015  mark\n",
       "1   also 7 10-10-2014   7  10-10-2014  also\n",
       "2   take 2 01-05-2015   2  01-05-2015  take"
      ]
     },
     "execution_count": 80,
     "metadata": {},
     "output_type": "execute_result"
    }
   ],
   "source": [
    "# Пример возможного извлечения признаков\n",
    "lst = ['mark 10 12-10-2015', 'also 7 10-10-2014', 'take 2 01-05-2015']\n",
    "df = pd.DataFrame({'x':lst})\n",
    "df['num'] = df.x.str.extract('(\\d+)')\n",
    "df['date'] = df.x.str.extract('(..-..-....)')\n",
    "df['word'] = df.x.str.extract('([a-z]\\w{0,})')\n",
    "df"
   ]
  },
  {
   "cell_type": "code",
   "execution_count": 121,
   "metadata": {
    "collapsed": false
   },
   "outputs": [
    {
     "name": "stdout",
     "output_type": "stream",
     "text": [
      "   ind1  ind2  x  y\n",
      "0     1     1  1  1\n",
      "1     1     1  2  1\n",
      "2     1     2  3  1\n",
      "3     2     2  4  1\n",
      "4     2     3  5  1\n",
      "5     2     3  6  1\n",
      "6     2     2  7  2\n",
      "ind2   1   2   3\n",
      "x               \n",
      "1      1 NaN NaN\n",
      "2      1 NaN NaN\n",
      "3    NaN   1 NaN\n",
      "4    NaN   1 NaN\n",
      "5    NaN NaN   1\n",
      "6    NaN NaN   1\n",
      "7    NaN   2 NaN\n"
     ]
    },
    {
     "data": {
      "text/html": [
       "<div style=\"max-height:1000px;max-width:1500px;overflow:auto;\">\n",
       "<table border=\"1\" class=\"dataframe\">\n",
       "  <thead>\n",
       "    <tr style=\"text-align: right;\">\n",
       "      <th></th>\n",
       "      <th></th>\n",
       "      <th>x</th>\n",
       "      <th>y</th>\n",
       "    </tr>\n",
       "    <tr>\n",
       "      <th>ind1</th>\n",
       "      <th>ind2</th>\n",
       "      <th></th>\n",
       "      <th></th>\n",
       "    </tr>\n",
       "  </thead>\n",
       "  <tbody>\n",
       "    <tr>\n",
       "      <th rowspan=\"2\" valign=\"top\">1</th>\n",
       "      <th>1</th>\n",
       "      <td>  3</td>\n",
       "      <td> 2</td>\n",
       "    </tr>\n",
       "    <tr>\n",
       "      <th>2</th>\n",
       "      <td>  3</td>\n",
       "      <td> 1</td>\n",
       "    </tr>\n",
       "    <tr>\n",
       "      <th rowspan=\"2\" valign=\"top\">2</th>\n",
       "      <th>2</th>\n",
       "      <td> 11</td>\n",
       "      <td> 3</td>\n",
       "    </tr>\n",
       "    <tr>\n",
       "      <th>3</th>\n",
       "      <td> 11</td>\n",
       "      <td> 2</td>\n",
       "    </tr>\n",
       "  </tbody>\n",
       "</table>\n",
       "</div>"
      ],
      "text/plain": [
       "            x  y\n",
       "ind1 ind2       \n",
       "1    1      3  2\n",
       "     2      3  1\n",
       "2    2     11  3\n",
       "     3     11  2"
      ]
     },
     "execution_count": 121,
     "metadata": {},
     "output_type": "execute_result"
    }
   ],
   "source": [
    "# pivot tables\n",
    "df = pd.DataFrame({'ind1':[1,1,1,2,2,2,2], 'ind2':[1,1,2,2,3,3,2], 'x':[1,2,3,4,5,6,7], 'y':[1,1,1,1,1,1,2]})\n",
    "print df\n",
    "print df.pivot(index='x', columns='ind2', values='y')\n",
    "\n",
    "dfp = df.pivot_table(index=['ind1','ind2'], aggfunc='sum') # отличается от df.set_index(['ind1', 'ind2'], drop=False)\n",
    "dfp"
   ]
  },
  {
   "cell_type": "code",
   "execution_count": 123,
   "metadata": {
    "collapsed": false
   },
   "outputs": [
    {
     "name": "stdout",
     "output_type": "stream",
     "text": [
      "       x  y\n",
      "ind2       \n",
      "1      3  2\n",
      "2     14  4\n",
      "3     11  2\n"
     ]
    },
    {
     "data": {
      "text/html": [
       "<div style=\"max-height:1000px;max-width:1500px;overflow:auto;\">\n",
       "<table border=\"1\" class=\"dataframe\">\n",
       "  <thead>\n",
       "    <tr style=\"text-align: right;\">\n",
       "      <th></th>\n",
       "      <th></th>\n",
       "      <th>x</th>\n",
       "      <th>y</th>\n",
       "    </tr>\n",
       "    <tr>\n",
       "      <th>ind2</th>\n",
       "      <th>ind1</th>\n",
       "      <th></th>\n",
       "      <th></th>\n",
       "    </tr>\n",
       "  </thead>\n",
       "  <tbody>\n",
       "    <tr>\n",
       "      <th>1</th>\n",
       "      <th>1</th>\n",
       "      <td>  3</td>\n",
       "      <td> 2</td>\n",
       "    </tr>\n",
       "    <tr>\n",
       "      <th rowspan=\"2\" valign=\"top\">2</th>\n",
       "      <th>1</th>\n",
       "      <td>  3</td>\n",
       "      <td> 1</td>\n",
       "    </tr>\n",
       "    <tr>\n",
       "      <th>2</th>\n",
       "      <td> 11</td>\n",
       "      <td> 3</td>\n",
       "    </tr>\n",
       "    <tr>\n",
       "      <th>3</th>\n",
       "      <th>2</th>\n",
       "      <td> 11</td>\n",
       "      <td> 2</td>\n",
       "    </tr>\n",
       "  </tbody>\n",
       "</table>\n",
       "</div>"
      ],
      "text/plain": [
       "            x  y\n",
       "ind2 ind1       \n",
       "1    1      3  2\n",
       "2    1      3  1\n",
       "     2     11  3\n",
       "3    2     11  2"
      ]
     },
     "execution_count": 123,
     "metadata": {},
     "output_type": "execute_result"
    }
   ],
   "source": [
    "print dfp.sum(level='ind2')\n",
    "\n",
    "dfp.swaplevel('ind1','ind2')"
   ]
  },
  {
   "cell_type": "code",
   "execution_count": 92,
   "metadata": {
    "collapsed": false
   },
   "outputs": [
    {
     "data": {
      "text/html": [
       "<div style=\"max-height:1000px;max-width:1500px;overflow:auto;\">\n",
       "<table border=\"1\" class=\"dataframe\">\n",
       "  <thead>\n",
       "    <tr style=\"text-align: right;\">\n",
       "      <th></th>\n",
       "      <th>city</th>\n",
       "      <th>stats</th>\n",
       "      <th>country</th>\n",
       "    </tr>\n",
       "  </thead>\n",
       "  <tbody>\n",
       "    <tr>\n",
       "      <th>0</th>\n",
       "      <td> London</td>\n",
       "      <td> 0</td>\n",
       "      <td>  GB</td>\n",
       "    </tr>\n",
       "    <tr>\n",
       "      <th>1</th>\n",
       "      <td> Moscow</td>\n",
       "      <td> 2</td>\n",
       "      <td> RUS</td>\n",
       "    </tr>\n",
       "    <tr>\n",
       "      <th>2</th>\n",
       "      <td>  Paris</td>\n",
       "      <td> 1</td>\n",
       "      <td>  FR</td>\n",
       "    </tr>\n",
       "  </tbody>\n",
       "</table>\n",
       "</div>"
      ],
      "text/plain": [
       "     city  stats country\n",
       "0  London      0      GB\n",
       "1  Moscow      2     RUS\n",
       "2   Paris      1      FR"
      ]
     },
     "execution_count": 92,
     "metadata": {},
     "output_type": "execute_result"
    }
   ],
   "source": [
    "# MAP\n",
    "df = pd.DataFrame({'CITY': [u'London', u'Moscow', u'Paris'], 'Stats': [0,2,1]})\n",
    "d = {u'London':u'GB', u'Moscow':u'RUS', u'Paris':u'FR'}\n",
    "df['country'] = df['CITY'].map(d)\n",
    "df.columns = map(str.lower, df.columns)\n",
    "df"
   ]
  },
  {
   "cell_type": "code",
   "execution_count": 115,
   "metadata": {
    "collapsed": false
   },
   "outputs": [
    {
     "name": "stdout",
     "output_type": "stream",
     "text": [
      "0       Маша\n",
      "1       Саша\n",
      "2    Рудольф\n",
      "Name: name, dtype: object\n",
      "0    Петрова\n",
      "1    Сидоров\n",
      "2        Кац\n",
      "Name: surname, dtype: object\n",
      "      name  surname      fullname     fullname2     fullname3\n",
      "0     Маша  Петрова  Маша Петрова  Маша Петрова  Маша Петрова\n",
      "1     Саша  Сидоров  Саша Сидоров  Саша Сидоров  Саша Сидоров\n",
      "2  Рудольф      Кац   Рудольф Кац   Рудольф Кац   Рудольф Кац\n"
     ]
    }
   ],
   "source": [
    "df = pd.DataFrame({'name': [u'Маша', u'Саша', u'Рудольф'], 'surname':[u'Петрова', u'Сидоров', u'Кац']})\n",
    "print df.name\n",
    "print df.surname\n",
    "\n",
    "lst = []\n",
    "for n, s in zip(df.name,  df.surname):\n",
    "    lst.append(n + ' ' + s)\n",
    "df['fullname'] = lst\n",
    "\n",
    "df['fullname2'] = df[['name', 'surname']].apply(lambda x: x[0] + ' ' + x[1], axis=1)\n",
    "\n",
    "df['fullname3'] = df['name'] + ' ' + df['surname']\n",
    "print df"
   ]
  },
  {
   "cell_type": "code",
   "execution_count": 130,
   "metadata": {
    "collapsed": false
   },
   "outputs": [
    {
     "name": "stdout",
     "output_type": "stream",
     "text": [
      "0    False\n",
      "1    False\n",
      "2     True\n",
      "dtype: bool\n"
     ]
    },
    {
     "data": {
      "text/html": [
       "<div style=\"max-height:1000px;max-width:1500px;overflow:auto;\">\n",
       "<table border=\"1\" class=\"dataframe\">\n",
       "  <thead>\n",
       "    <tr style=\"text-align: right;\">\n",
       "      <th></th>\n",
       "      <th>name</th>\n",
       "      <th>surname</th>\n",
       "    </tr>\n",
       "  </thead>\n",
       "  <tbody>\n",
       "    <tr>\n",
       "      <th>1</th>\n",
       "      <td> Max</td>\n",
       "      <td> Crone</td>\n",
       "    </tr>\n",
       "    <tr>\n",
       "      <th>2</th>\n",
       "      <td>  Al</td>\n",
       "      <td>   Run</td>\n",
       "    </tr>\n",
       "  </tbody>\n",
       "</table>\n",
       "</div>"
      ],
      "text/plain": [
       "  name surname\n",
       "1  Max   Crone\n",
       "2   Al     Run"
      ]
     },
     "execution_count": 130,
     "metadata": {},
     "output_type": "execute_result"
    }
   ],
   "source": [
    "df = pd.DataFrame({'name': ['Al', 'Max',  'Al'], 'surname':[u'Run', u'Crone', u'Run']})\n",
    "print df.duplicated()\n",
    "df.drop_duplicates(['name'], take_last=True) # df.drop_duplicates()"
   ]
  },
  {
   "cell_type": "code",
   "execution_count": 134,
   "metadata": {
    "collapsed": false
   },
   "outputs": [
    {
     "name": "stdout",
     "output_type": "stream",
     "text": [
      "   x  y\n",
      "0  3  2\n",
      "1  4  3\n",
      "2  2  1\n",
      "3  1  4\n",
      "x    1\n",
      "y    3\n",
      "dtype: int64\n"
     ]
    }
   ],
   "source": [
    "df = pd.DataFrame({'x':[12, 54, 10, 3], 'y':[2, 4, 1, 8]})\n",
    "print df.rank() # номера по возрастанию\n",
    "print df.idxmax() # индексы максимальных элементов"
   ]
  },
  {
   "cell_type": "markdown",
   "metadata": {},
   "source": [
    ".ix is the combination of both .loc and .iloc. Integers are first considered labels, but if not found, falls back on positional indexing"
   ]
  },
  {
   "cell_type": "code",
   "execution_count": 137,
   "metadata": {
    "collapsed": false
   },
   "outputs": [
    {
     "data": {
      "text/html": [
       "<div style=\"max-height:1000px;max-width:1500px;overflow:auto;\">\n",
       "<table border=\"1\" class=\"dataframe\">\n",
       "  <thead>\n",
       "    <tr style=\"text-align: right;\">\n",
       "      <th></th>\n",
       "      <th>y</th>\n",
       "    </tr>\n",
       "  </thead>\n",
       "  <tbody>\n",
       "    <tr>\n",
       "      <th>0</th>\n",
       "      <td> 2</td>\n",
       "    </tr>\n",
       "    <tr>\n",
       "      <th>1</th>\n",
       "      <td> 4</td>\n",
       "    </tr>\n",
       "    <tr>\n",
       "      <th>2</th>\n",
       "      <td> 1</td>\n",
       "    </tr>\n",
       "    <tr>\n",
       "      <th>3</th>\n",
       "      <td> 8</td>\n",
       "    </tr>\n",
       "  </tbody>\n",
       "</table>\n",
       "</div>"
      ],
      "text/plain": [
       "   y\n",
       "0  2\n",
       "1  4\n",
       "2  1\n",
       "3  8"
      ]
     },
     "execution_count": 137,
     "metadata": {},
     "output_type": "execute_result"
    }
   ],
   "source": [
    "df.drop('x', axis=1) # удаление столбцов // м.б. строк"
   ]
  },
  {
   "cell_type": "code",
   "execution_count": 173,
   "metadata": {
    "collapsed": false
   },
   "outputs": [
    {
     "name": "stdout",
     "output_type": "stream",
     "text": [
      "2    3\n",
      "3    2\n",
      "5    1\n",
      "dtype: int64\n",
      "   x\n",
      "0  2\n",
      "1  3\n"
     ]
    }
   ],
   "source": [
    "# сколько каждого значения\n",
    "print pd.value_counts([3,2,2,2,5,3], sort=False)\n",
    "# мода\n",
    "print pd.DataFrame({'x': [3,2,2,2,5,3,3]}).mode()"
   ]
  },
  {
   "cell_type": "code",
   "execution_count": 141,
   "metadata": {
    "collapsed": false
   },
   "outputs": [
    {
     "data": {
      "text/html": [
       "<div style=\"max-height:1000px;max-width:1500px;overflow:auto;\">\n",
       "<table border=\"1\" class=\"dataframe\">\n",
       "  <thead>\n",
       "    <tr style=\"text-align: right;\">\n",
       "      <th></th>\n",
       "      <th>1</th>\n",
       "      <th>2</th>\n",
       "      <th>3</th>\n",
       "    </tr>\n",
       "  </thead>\n",
       "  <tbody>\n",
       "    <tr>\n",
       "      <th>0</th>\n",
       "      <td> 1</td>\n",
       "      <td> 0</td>\n",
       "      <td> 0</td>\n",
       "    </tr>\n",
       "    <tr>\n",
       "      <th>1</th>\n",
       "      <td> 0</td>\n",
       "      <td> 1</td>\n",
       "      <td> 0</td>\n",
       "    </tr>\n",
       "    <tr>\n",
       "      <th>2</th>\n",
       "      <td> 1</td>\n",
       "      <td> 0</td>\n",
       "      <td> 0</td>\n",
       "    </tr>\n",
       "    <tr>\n",
       "      <th>3</th>\n",
       "      <td> 0</td>\n",
       "      <td> 1</td>\n",
       "      <td> 0</td>\n",
       "    </tr>\n",
       "    <tr>\n",
       "      <th>4</th>\n",
       "      <td> 0</td>\n",
       "      <td> 0</td>\n",
       "      <td> 1</td>\n",
       "    </tr>\n",
       "  </tbody>\n",
       "</table>\n",
       "</div>"
      ],
      "text/plain": [
       "   1  2  3\n",
       "0  1  0  0\n",
       "1  0  1  0\n",
       "2  1  0  0\n",
       "3  0  1  0\n",
       "4  0  0  1"
      ]
     },
     "execution_count": 141,
     "metadata": {},
     "output_type": "execute_result"
    }
   ],
   "source": [
    "# dummy-кодирование для категориальных признаков\n",
    "pd.get_dummies([1,2,1,2,3])"
   ]
  },
  {
   "cell_type": "code",
   "execution_count": null,
   "metadata": {
    "collapsed": true
   },
   "outputs": [],
   "source": []
  },
  {
   "cell_type": "code",
   "execution_count": null,
   "metadata": {
    "collapsed": true
   },
   "outputs": [],
   "source": [
    "# pd.crosstab([df.company, df.experience], df.regiment,  margins=True)"
   ]
  },
  {
   "cell_type": "code",
   "execution_count": null,
   "metadata": {
    "collapsed": true
   },
   "outputs": [],
   "source": [
    "# нормализация\n",
    "\n",
    "\n",
    "\n",
    "from sklearn import preprocessing\n",
    "\n",
    "\n",
    "x = df['score'].values.astype(float)\n",
    "min_max_scaler = preprocessing.MinMaxScaler()\n",
    "x_scaled = min_max_scaler.fit_transform(x)"
   ]
  }
 ],
 "metadata": {
  "kernelspec": {
   "display_name": "Python 2",
   "language": "python",
   "name": "python2"
  },
  "language_info": {
   "codemirror_mode": {
    "name": "ipython",
    "version": 2
   },
   "file_extension": ".py",
   "mimetype": "text/x-python",
   "name": "python",
   "nbconvert_exporter": "python",
   "pygments_lexer": "ipython2",
   "version": "2.7.9"
  }
 },
 "nbformat": 4,
 "nbformat_minor": 0
}
