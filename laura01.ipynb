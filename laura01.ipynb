{

 "metadata": {

  "name": "",

  "signature": "sha256:dcae91c6866c05b1ef02cd9a2eb4562fde09623329b5c81c43c487f3d20d4920"

 },

 "nbformat": 3,

 "nbformat_minor": 0,

 "worksheets": [

  {

   "cells": [

    {

     "cell_type": "code",

     "collapsed": false,

     "input": [

      "import pandas as pd\n",

      "import numpy as np\n",

      "import pylab as pl\n",

      "import matplotlib as mpl\n",

      "%matplotlib inline\n",

      "%pylab inline"

     ],

     "language": "python",

     "metadata": {},

     "outputs": [

      {

       "output_type": "stream",

       "stream": "stdout",

       "text": [

        "Populating the interactive namespace from numpy and matplotlib\n"

       ]

      }

     ],

     "prompt_number": 20

    },

    {

     "cell_type": "code",

     "collapsed": false,

     "input": [

      "# \u0437\u0430\u0433\u0440\u0443\u0437\u043a\u0430 \u0434\u0430\u043d\u043d\u044b\u0445\n",

      "data = pd.read_csv('D:\\\\Competitions\\\\Laura\\\\arenda.csv', sep=';', decimal=',')\n",

      "data[:3]"

     ],

     "language": "python",

     "metadata": {},

     "outputs": [

      {

       "html": [

        "<div style=\"max-height:1000px;max-width:1500px;overflow:auto;\">\n",

        "<table border=\"1\" class=\"dataframe\">\n",

        "  <thead>\n",

        "    <tr style=\"text-align: right;\">\n",

        "      <th></th>\n",

        "      <th>id</th>\n",

        "      <th>Space Size</th>\n",

        "      <th> Price / SF / Month </th>\n",

        "      <th>Space Type: </th>\n",

        "      <th>Lease Type: </th>\n",

        "      <th>Number of transport spots</th>\n",

        "      <th> Population </th>\n",

        "      <th>Population change 2013-2010</th>\n",

        "      <th> Land area </th>\n",

        "      <th>Density of people living in area</th>\n",

        "      <th>...</th>\n",

        "      <th> Household size </th>\n",

        "      <th> Average HH income 2013 </th>\n",

        "      <th>Income change 2013-2010</th>\n",

        "      <th>Change in % of bachelor degrees 2013-2010</th>\n",

        "      <th> Average salary of employees ($ 000s) </th>\n",

        "      <th> Average salary of employees in new businesses </th>\n",

        "      <th>% of employees in new companies vs all</th>\n",

        "      <th>Number of new retail places 2013-2010</th>\n",

        "      <th>list id</th>\n",

        "      <th>list</th>\n",

        "    </tr>\n",

        "  </thead>\n",

        "  <tbody>\n",

        "    <tr>\n",

        "      <th>0</th>\n",

        "      <td> 1</td>\n",

        "      <td> 11324</td>\n",

        "      <td> 2.65</td>\n",

        "      <td> NaN</td>\n",

        "      <td> NaN</td>\n",

        "      <td> 14</td>\n",

        "      <td>  6 417 </td>\n",

        "      <td> 10,4%</td>\n",

        "      <td>  780 787 </td>\n",

        "      <td> 0.008219</td>\n",

        "      <td>...</td>\n",

        "      <td> 2.8</td>\n",

        "      <td>  64 039 </td>\n",

        "      <td>  0,9%</td>\n",

        "      <td>  3,4%</td>\n",

        "      <td>  43 000 </td>\n",

        "      <td>  42 221 </td>\n",

        "      <td> 12</td>\n",

        "      <td> 5</td>\n",

        "      <td> 239</td>\n",

        "      <td> ln</td>\n",

        "    </tr>\n",

        "    <tr>\n",

        "      <th>1</th>\n",

        "      <td> 2</td>\n",

        "      <td>  2275</td>\n",

        "      <td> 1.58</td>\n",

        "      <td> NaN</td>\n",

        "      <td> NaN</td>\n",

        "      <td> 22</td>\n",

        "      <td>  3 903 </td>\n",

        "      <td>  4,2%</td>\n",

        "      <td>  646 901 </td>\n",

        "      <td> 0.006033</td>\n",

        "      <td>...</td>\n",

        "      <td> 2.8</td>\n",

        "      <td>  77 802 </td>\n",

        "      <td> -7,0%</td>\n",

        "      <td> -0,2%</td>\n",

        "      <td>  30 000 </td>\n",

        "      <td>  36 709 </td>\n",

        "      <td> 12</td>\n",

        "      <td> 2</td>\n",

        "      <td> 388</td>\n",

        "      <td> ln</td>\n",

        "    </tr>\n",

        "    <tr>\n",

        "      <th>2</th>\n",

        "      <td> 3</td>\n",

        "      <td>  2275</td>\n",

        "      <td> 1.58</td>\n",

        "      <td> NaN</td>\n",

        "      <td> NaN</td>\n",

        "      <td> 22</td>\n",

        "      <td>  3 903 </td>\n",

        "      <td>  4,2%</td>\n",

        "      <td>  646 901 </td>\n",

        "      <td> 0.006033</td>\n",

        "      <td>...</td>\n",

        "      <td> 2.8</td>\n",

        "      <td>  77 802 </td>\n",

        "      <td> -7,0%</td>\n",

        "      <td> -0,2%</td>\n",

        "      <td>  30 000 </td>\n",

        "      <td>  36 709 </td>\n",

        "      <td> 12</td>\n",

        "      <td> 2</td>\n",

        "      <td> 389</td>\n",

        "      <td> ln</td>\n",

        "    </tr>\n",

        "  </tbody>\n",

        "</table>\n",

        "<p>3 rows \u00d7 23 columns</p>\n",

        "</div>"

       ],

       "metadata": {},

       "output_type": "pyout",

       "prompt_number": 76,

       "text": [

        "   id  Space Size   Price / SF / Month  Space Type:  Lease Type:   \\\n",

        "0   1       11324                  2.65          NaN          NaN   \n",

        "1   2        2275                  1.58          NaN          NaN   \n",

        "2   3        2275                  1.58          NaN          NaN   \n",

        "\n",

        "   Number of transport spots  Population  Population change 2013-2010  \\\n",

        "0                         14       6 417                        10,4%   \n",

        "1                         22       3 903                         4,2%   \n",

        "2                         22       3 903                         4,2%   \n",

        "\n",

        "   Land area   Density of people living in area  \\\n",

        "0    780 787                           0.008219   \n",

        "1    646 901                           0.006033   \n",

        "2    646 901                           0.006033   \n",

        "\n",

        "                 ...                  Household size   \\\n",

        "0                ...                              2.8   \n",

        "1                ...                              2.8   \n",

        "2                ...                              2.8   \n",

        "\n",

        "    Average HH income 2013   Income change 2013-2010  \\\n",

        "0                   64 039                      0,9%   \n",

        "1                   77 802                     -7,0%   \n",

        "2                   77 802                     -7,0%   \n",

        "\n",

        "   Change in % of bachelor degrees 2013-2010  \\\n",

        "0                                       3,4%   \n",

        "1                                      -0,2%   \n",

        "2                                      -0,2%   \n",

        "\n",

        "   Average salary of employees ($ 000s)   \\\n",

        "0                                43 000    \n",

        "1                                30 000    \n",

        "2                                30 000    \n",

        "\n",

        "   Average salary of employees in new businesses   \\\n",

        "0                                         42 221    \n",

        "1                                         36 709    \n",

        "2                                         36 709    \n",

        "\n",

        "  % of employees in new companies vs all  \\\n",

        "0                                     12   \n",

        "1                                     12   \n",

        "2                                     12   \n",

        "\n",

        "  Number of new retail places 2013-2010 list id  list  \n",

        "0                                     5     239    ln  \n",

        "1                                     2     388    ln  \n",

        "2                                     2     389    ln  \n",

        "\n",

        "[3 rows x 23 columns]"

       ]

      }

     ],

     "prompt_number": 76

    },

    {

     "cell_type": "code",

     "collapsed": false,

     "input": [

      "del data['id']\n",

      "\n",

      "data = data.rename(columns={\n",

      "u'Space Size':'spacesize',\n",

      "u' Price / SF / Month ':'price',\n",

      "u'Space Type: ':'spacetype',\n",

      "u'Lease Type: ':'leasetype',\n",

      "u'Number of transport spots':'nspots',\n",

      "u' Population ':'pop', \n",

      "u'Population change 2013-2010':'popchange',\n",

      "u' Land area ':'land',\n",

      "u'Density of people living in area':'densliv', \n",

      "u'Density of people working in area (based on lat/lon)':'denswork',\n",

      "u'Total density (living + working)':'denstotal',\n",

      "u'Social chat score':'chat', \n",

      "u' Household size ':'hhsize',\n",

      "u' Average HH income 2013 ':'aincome',\n",

      "u'Income change 2013-2010':'incomechange',\n",

      "u'Change in % of bachelor degrees 2013-2010':'degrees',\n",

      "u' Average salary of employees ($ 000s) ':'asalary',\n",

      "u' Average salary of employees in new businesses ':'anewsalary', \n",

      "u'% of employees in new companies vs all':'employees',\n",

      "u'Number of new retail places 2013-2010':'retails',\n",

      "u'list id':'listid',\n",

      "u'list':'list'\n",

      "})\n",

      "data[:3]"

     ],

     "language": "python",

     "metadata": {},

     "outputs": [

      {

       "html": [

        "<div style=\"max-height:1000px;max-width:1500px;overflow:auto;\">\n",

        "<table border=\"1\" class=\"dataframe\">\n",

        "  <thead>\n",

        "    <tr style=\"text-align: right;\">\n",

        "      <th></th>\n",

        "      <th>spacesize</th>\n",

        "      <th>price</th>\n",

        "      <th>spacetype</th>\n",

        "      <th>leasetype</th>\n",

        "      <th>nspots</th>\n",

        "      <th>pop</th>\n",

        "      <th>popchange</th>\n",

        "      <th>land</th>\n",

        "      <th>densliv</th>\n",

        "      <th>denswork</th>\n",

        "      <th>...</th>\n",

        "      <th>hhsize</th>\n",

        "      <th>aincome</th>\n",

        "      <th>incomechange</th>\n",

        "      <th>degrees</th>\n",

        "      <th>asalary</th>\n",

        "      <th>anewsalary</th>\n",

        "      <th>employees</th>\n",

        "      <th>retails</th>\n",

        "      <th>listid</th>\n",

        "      <th>list</th>\n",

        "    </tr>\n",

        "  </thead>\n",

        "  <tbody>\n",

        "    <tr>\n",

        "      <th>0</th>\n",

        "      <td> 11324</td>\n",

        "      <td> 2.65</td>\n",

        "      <td> NaN</td>\n",

        "      <td> NaN</td>\n",

        "      <td> 14</td>\n",

        "      <td>  6 417 </td>\n",

        "      <td> 10,4%</td>\n",

        "      <td>  780 787 </td>\n",

        "      <td> 0.008219</td>\n",

        "      <td> 0.001896</td>\n",

        "      <td>...</td>\n",

        "      <td> 2.8</td>\n",

        "      <td>  64 039 </td>\n",

        "      <td>  0,9%</td>\n",

        "      <td>  3,4%</td>\n",

        "      <td>  43 000 </td>\n",

        "      <td>  42 221 </td>\n",

        "      <td> 12</td>\n",

        "      <td> 5</td>\n",

        "      <td> 239</td>\n",

        "      <td> ln</td>\n",

        "    </tr>\n",

        "    <tr>\n",

        "      <th>1</th>\n",

        "      <td>  2275</td>\n",

        "      <td> 1.58</td>\n",

        "      <td> NaN</td>\n",

        "      <td> NaN</td>\n",

        "      <td> 22</td>\n",

        "      <td>  3 903 </td>\n",

        "      <td>  4,2%</td>\n",

        "      <td>  646 901 </td>\n",

        "      <td> 0.006033</td>\n",

        "      <td> 0.002220</td>\n",

        "      <td>...</td>\n",

        "      <td> 2.8</td>\n",

        "      <td>  77 802 </td>\n",

        "      <td> -7,0%</td>\n",

        "      <td> -0,2%</td>\n",

        "      <td>  30 000 </td>\n",

        "      <td>  36 709 </td>\n",

        "      <td> 12</td>\n",

        "      <td> 2</td>\n",

        "      <td> 388</td>\n",

        "      <td> ln</td>\n",

        "    </tr>\n",

        "    <tr>\n",

        "      <th>2</th>\n",

        "      <td>  2275</td>\n",

        "      <td> 1.58</td>\n",

        "      <td> NaN</td>\n",

        "      <td> NaN</td>\n",

        "      <td> 22</td>\n",

        "      <td>  3 903 </td>\n",

        "      <td>  4,2%</td>\n",

        "      <td>  646 901 </td>\n",

        "      <td> 0.006033</td>\n",

        "      <td> 0.002220</td>\n",

        "      <td>...</td>\n",

        "      <td> 2.8</td>\n",

        "      <td>  77 802 </td>\n",

        "      <td> -7,0%</td>\n",

        "      <td> -0,2%</td>\n",

        "      <td>  30 000 </td>\n",

        "      <td>  36 709 </td>\n",

        "      <td> 12</td>\n",

        "      <td> 2</td>\n",

        "      <td> 389</td>\n",

        "      <td> ln</td>\n",

        "    </tr>\n",

        "  </tbody>\n",

        "</table>\n",

        "<p>3 rows \u00d7 22 columns</p>\n",

        "</div>"

       ],

       "metadata": {},

       "output_type": "pyout",

       "prompt_number": 77,

       "text": [

        "   spacesize  price spacetype leasetype  nspots      pop popchange       land  \\\n",

        "0      11324   2.65       NaN       NaN      14   6 417      10,4%   780 787    \n",

        "1       2275   1.58       NaN       NaN      22   3 903       4,2%   646 901    \n",

        "2       2275   1.58       NaN       NaN      22   3 903       4,2%   646 901    \n",

        "\n",

        "    densliv  denswork    ...     hhsize   aincome  incomechange degrees  \\\n",

        "0  0.008219  0.001896    ...        2.8   64 039           0,9%    3,4%   \n",

        "1  0.006033  0.002220    ...        2.8   77 802          -7,0%   -0,2%   \n",

        "2  0.006033  0.002220    ...        2.8   77 802          -7,0%   -0,2%   \n",

        "\n",

        "    asalary anewsalary employees retails  listid  list  \n",

        "0   43 000     42 221         12       5     239    ln  \n",

        "1   30 000     36 709         12       2     388    ln  \n",

        "2   30 000     36 709         12       2     389    ln  \n",

        "\n",

        "[3 rows x 22 columns]"

       ]

      }

     ],

     "prompt_number": 77

    },

    {

     "cell_type": "code",

     "collapsed": false,

     "input": [

      "# \u0447\u0438\u0441\u043b\u043e \u0443\u043d\u0438\u043a\u0430\u043b\u044c\u043d\u044b\u0445 \u0437\u043d\u0430\u0447\u0435\u043d\u0438\u0439 \u043f\u043e \u0441\u0442\u043e\u043b\u0431\u0446\u0430\u043c\n",

      "# \u043f\u0440\u0430\u0432\u0434\u0430... \u043f\u0440\u043e\u0431\u043b\u0435\u043c\u044b \u0441 \u041d\u0430\u041d\u0430\u043c\u0438\n",

      "lengths = []\n",

      "for i in xrange(data.shape[1]):\n",

      "    lengths.append(data[data.columns[i]].unique().__len__())\n",

      "pyplot.bar(np.arange(data.shape[1]), lengths)\n",

      "data.shape"

     ],

     "language": "python",

     "metadata": {},

     "outputs": [

      {

       "metadata": {},

       "output_type": "pyout",

       "prompt_number": 78,

       "text": [

        "(2227, 22)"

       ]

      },

      {

       "metadata": {},

       "output_type": "display_data",

       "png": "[encoded data removed]",

       "text": [

        "<matplotlib.figure.Figure at 0xc8822b0>"

       ]

      }

     ],

     "prompt_number": 78

    },

    {

     "cell_type": "code",

     "collapsed": false,

     "input": [

      "# \u0432\u044b\u0432\u043e\u0434 \u0441\u0442\u0430\u0442\u0438\u0441\u0442\u0438\u043a\u0438\n",

      "data.describe()"

     ],

     "language": "python",

     "metadata": {},

     "outputs": [

      {

       "html": [

        "<div style=\"max-height:1000px;max-width:1500px;overflow:auto;\">\n",

        "<table border=\"1\" class=\"dataframe\">\n",

        "  <thead>\n",

        "    <tr style=\"text-align: right;\">\n",

        "      <th></th>\n",

        "      <th>spacesize</th>\n",

        "      <th>price</th>\n",

        "      <th>nspots</th>\n",

        "      <th>densliv</th>\n",

        "      <th>denswork</th>\n",

        "      <th>denstotal</th>\n",

        "      <th>chat</th>\n",

        "      <th>hhsize</th>\n",

        "      <th>employees</th>\n",

        "      <th>retails</th>\n",

        "      <th>listid</th>\n",

        "    </tr>\n",

        "  </thead>\n",

        "  <tbody>\n",

        "    <tr>\n",

        "      <th>count</th>\n",

        "      <td>   2227.000000</td>\n",

        "      <td> 2227.000000</td>\n",

        "      <td> 2227.000000</td>\n",

        "      <td> 2227.000000</td>\n",

        "      <td> 2227.000000</td>\n",

        "      <td> 2227.000000</td>\n",

        "      <td> 2227.000000</td>\n",

        "      <td> 2227.000000</td>\n",

        "      <td> 2227.000000</td>\n",

        "      <td> 2227.000000</td>\n",

        "      <td> 2227.000000</td>\n",

        "    </tr>\n",

        "    <tr>\n",

        "      <th>mean</th>\n",

        "      <td>   3884.932645</td>\n",

        "      <td>    6.224239</td>\n",

        "      <td>   29.325101</td>\n",

        "      <td>    0.021292</td>\n",

        "      <td>    0.025608</td>\n",

        "      <td>    0.046900</td>\n",

        "      <td>   36.495285</td>\n",

        "      <td>    2.513965</td>\n",

        "      <td>   24.637180</td>\n",

        "      <td>   34.376291</td>\n",

        "      <td>  612.130669</td>\n",

        "    </tr>\n",

        "    <tr>\n",

        "      <th>std</th>\n",

        "      <td>  16311.985235</td>\n",

        "      <td>    6.582126</td>\n",

        "      <td>   14.658322</td>\n",

        "      <td>    0.011673</td>\n",

        "      <td>    0.051450</td>\n",

        "      <td>    0.053700</td>\n",

        "      <td>   68.069988</td>\n",

        "      <td>    0.533132</td>\n",

        "      <td>    8.480855</td>\n",

        "      <td>   36.063391</td>\n",

        "      <td>  337.293657</td>\n",

        "    </tr>\n",

        "    <tr>\n",

        "      <th>min</th>\n",

        "      <td>      1.000000</td>\n",

        "      <td>    0.000000</td>\n",

        "      <td>    0.000000</td>\n",

        "      <td>    0.000199</td>\n",

        "      <td>    0.000000</td>\n",

        "      <td>    0.000249</td>\n",

        "      <td>    0.000000</td>\n",

        "      <td>    1.500000</td>\n",

        "      <td>    0.000000</td>\n",

        "      <td>    0.000000</td>\n",

        "      <td>    1.000000</td>\n",

        "    </tr>\n",

        "    <tr>\n",

        "      <th>25%</th>\n",

        "      <td>   1000.000000</td>\n",

        "      <td>    2.670000</td>\n",

        "      <td>   19.000000</td>\n",

        "      <td>    0.013105</td>\n",

        "      <td>    0.004082</td>\n",

        "      <td>    0.019105</td>\n",

        "      <td>    5.000000</td>\n",

        "      <td>    2.100000</td>\n",

        "      <td>   20.000000</td>\n",

        "      <td>   10.000000</td>\n",

        "      <td>  319.500000</td>\n",

        "    </tr>\n",

        "    <tr>\n",

        "      <th>50%</th>\n",

        "      <td>   1700.000000</td>\n",

        "      <td>    4.170000</td>\n",

        "      <td>   29.000000</td>\n",

        "      <td>    0.020760</td>\n",

        "      <td>    0.006939</td>\n",

        "      <td>    0.028993</td>\n",

        "      <td>   13.000000</td>\n",

        "      <td>    2.500000</td>\n",

        "      <td>   24.000000</td>\n",

        "      <td>   21.000000</td>\n",

        "      <td>  615.000000</td>\n",

        "    </tr>\n",

        "    <tr>\n",

        "      <th>75%</th>\n",

        "      <td>   3400.000000</td>\n",

        "      <td>    7.340000</td>\n",

        "      <td>   38.000000</td>\n",

        "      <td>    0.028699</td>\n",

        "      <td>    0.020631</td>\n",

        "      <td>    0.051848</td>\n",

        "      <td>   42.000000</td>\n",

        "      <td>    2.900000</td>\n",

        "      <td>   29.000000</td>\n",

        "      <td>   42.000000</td>\n",

        "      <td>  902.000000</td>\n",

        "    </tr>\n",

        "    <tr>\n",

        "      <th>max</th>\n",

        "      <td> 600000.000000</td>\n",

        "      <td>   83.410000</td>\n",

        "      <td>   78.000000</td>\n",

        "      <td>    0.062810</td>\n",

        "      <td>    0.350893</td>\n",

        "      <td>    0.369600</td>\n",

        "      <td>  988.000000</td>\n",

        "      <td>    4.600000</td>\n",

        "      <td>   84.000000</td>\n",

        "      <td>  184.000000</td>\n",

        "      <td> 1217.000000</td>\n",

        "    </tr>\n",

        "  </tbody>\n",

        "</table>\n",

        "</div>"

       ],

       "metadata": {},

       "output_type": "pyout",

       "prompt_number": 26,

       "text": [

        "           spacesize        price       nspots      densliv     denswork  \\\n",

        "count    2227.000000  2227.000000  2227.000000  2227.000000  2227.000000   \n",

        "mean     3884.932645     6.224239    29.325101     0.021292     0.025608   \n",

        "std     16311.985235     6.582126    14.658322     0.011673     0.051450   \n",

        "min         1.000000     0.000000     0.000000     0.000199     0.000000   \n",

        "25%      1000.000000     2.670000    19.000000     0.013105     0.004082   \n",

        "50%      1700.000000     4.170000    29.000000     0.020760     0.006939   \n",

        "75%      3400.000000     7.340000    38.000000     0.028699     0.020631   \n",

        "max    600000.000000    83.410000    78.000000     0.062810     0.350893   \n",

        "\n",

        "         denstotal         chat       hhsize    employees      retails  \\\n",

        "count  2227.000000  2227.000000  2227.000000  2227.000000  2227.000000   \n",

        "mean      0.046900    36.495285     2.513965    24.637180    34.376291   \n",

        "std       0.053700    68.069988     0.533132     8.480855    36.063391   \n",

        "min       0.000249     0.000000     1.500000     0.000000     0.000000   \n",

        "25%       0.019105     5.000000     2.100000    20.000000    10.000000   \n",

        "50%       0.028993    13.000000     2.500000    24.000000    21.000000   \n",

        "75%       0.051848    42.000000     2.900000    29.000000    42.000000   \n",

        "max       0.369600   988.000000     4.600000    84.000000   184.000000   \n",

        "\n",

        "            listid  \n",

        "count  2227.000000  \n",

        "mean    612.130669  \n",

        "std     337.293657  \n",

        "min       1.000000  \n",

        "25%     319.500000  \n",

        "50%     615.000000  \n",

        "75%     902.000000  \n",

        "max    1217.000000  "

       ]

      }

     ],

     "prompt_number": 26

    },

    {

     "cell_type": "code",

     "collapsed": false,

     "input": [

      "# \u0443\u0431\u0440\u0430\u0442\u044c \u041d\u0430\u041d\u044b\n",

      "# \u0442\u0443\u0442 \u043e\u043d\u0438 \u0432\u0441\u0435 \u0432 \u0441\u0442\u0440\u043e\u0447\u043a\u0430\u0445!!!\n",

      "data = data.fillna('net')\n",

      "data[:3]"

     ],

     "language": "python",

     "metadata": {},

     "outputs": [

      {

       "html": [

        "<div style=\"max-height:1000px;max-width:1500px;overflow:auto;\">\n",

        "<table border=\"1\" class=\"dataframe\">\n",

        "  <thead>\n",

        "    <tr style=\"text-align: right;\">\n",

        "      <th></th>\n",

        "      <th>spacesize</th>\n",

        "      <th>price</th>\n",

        "      <th>spacetype</th>\n",

        "      <th>leasetype</th>\n",

        "      <th>nspots</th>\n",

        "      <th>pop</th>\n",

        "      <th>popchange</th>\n",

        "      <th>land</th>\n",

        "      <th>densliv</th>\n",

        "      <th>denswork</th>\n",

        "      <th>...</th>\n",

        "      <th>hhsize</th>\n",

        "      <th>aincome</th>\n",

        "      <th>incomechange</th>\n",

        "      <th>degrees</th>\n",

        "      <th>asalary</th>\n",

        "      <th>anewsalary</th>\n",

        "      <th>employees</th>\n",

        "      <th>retails</th>\n",

        "      <th>listid</th>\n",

        "      <th>list</th>\n",

        "    </tr>\n",

        "  </thead>\n",

        "  <tbody>\n",

        "    <tr>\n",

        "      <th>0</th>\n",

        "      <td> 11324</td>\n",

        "      <td> 2.65</td>\n",

        "      <td> net</td>\n",

        "      <td> net</td>\n",

        "      <td> 14</td>\n",

        "      <td>  6 417 </td>\n",

        "      <td> 10,4%</td>\n",

        "      <td>  780 787 </td>\n",

        "      <td> 0.008219</td>\n",

        "      <td> 0.001896</td>\n",

        "      <td>...</td>\n",

        "      <td> 2.8</td>\n",

        "      <td>  64 039 </td>\n",

        "      <td>  0,9%</td>\n",

        "      <td>  3,4%</td>\n",

        "      <td>  43 000 </td>\n",

        "      <td>  42 221 </td>\n",

        "      <td> 12</td>\n",

        "      <td> 5</td>\n",

        "      <td> 239</td>\n",

        "      <td> ln</td>\n",

        "    </tr>\n",

        "    <tr>\n",

        "      <th>1</th>\n",

        "      <td>  2275</td>\n",

        "      <td> 1.58</td>\n",

        "      <td> net</td>\n",

        "      <td> net</td>\n",

        "      <td> 22</td>\n",

        "      <td>  3 903 </td>\n",

        "      <td>  4,2%</td>\n",

        "      <td>  646 901 </td>\n",

        "      <td> 0.006033</td>\n",

        "      <td> 0.002220</td>\n",

        "      <td>...</td>\n",

        "      <td> 2.8</td>\n",

        "      <td>  77 802 </td>\n",

        "      <td> -7,0%</td>\n",

        "      <td> -0,2%</td>\n",

        "      <td>  30 000 </td>\n",

        "      <td>  36 709 </td>\n",

        "      <td> 12</td>\n",

        "      <td> 2</td>\n",

        "      <td> 388</td>\n",

        "      <td> ln</td>\n",

        "    </tr>\n",

        "    <tr>\n",

        "      <th>2</th>\n",

        "      <td>  2275</td>\n",

        "      <td> 1.58</td>\n",

        "      <td> net</td>\n",

        "      <td> net</td>\n",

        "      <td> 22</td>\n",

        "      <td>  3 903 </td>\n",

        "      <td>  4,2%</td>\n",

        "      <td>  646 901 </td>\n",

        "      <td> 0.006033</td>\n",

        "      <td> 0.002220</td>\n",

        "      <td>...</td>\n",

        "      <td> 2.8</td>\n",

        "      <td>  77 802 </td>\n",

        "      <td> -7,0%</td>\n",

        "      <td> -0,2%</td>\n",

        "      <td>  30 000 </td>\n",

        "      <td>  36 709 </td>\n",

        "      <td> 12</td>\n",

        "      <td> 2</td>\n",

        "      <td> 389</td>\n",

        "      <td> ln</td>\n",

        "    </tr>\n",

        "  </tbody>\n",

        "</table>\n",

        "<p>3 rows \u00d7 22 columns</p>\n",

        "</div>"

       ],

       "metadata": {},

       "output_type": "pyout",

       "prompt_number": 79,

       "text": [

        "   spacesize  price spacetype leasetype  nspots      pop popchange       land  \\\n",

        "0      11324   2.65       net       net      14   6 417      10,4%   780 787    \n",

        "1       2275   1.58       net       net      22   3 903       4,2%   646 901    \n",

        "2       2275   1.58       net       net      22   3 903       4,2%   646 901    \n",

        "\n",

        "    densliv  denswork    ...     hhsize   aincome  incomechange degrees  \\\n",

        "0  0.008219  0.001896    ...        2.8   64 039           0,9%    3,4%   \n",

        "1  0.006033  0.002220    ...        2.8   77 802          -7,0%   -0,2%   \n",

        "2  0.006033  0.002220    ...        2.8   77 802          -7,0%   -0,2%   \n",

        "\n",

        "    asalary anewsalary employees retails  listid  list  \n",

        "0   43 000     42 221         12       5     239    ln  \n",

        "1   30 000     36 709         12       2     388    ln  \n",

        "2   30 000     36 709         12       2     389    ln  \n",

        "\n",

        "[3 rows x 22 columns]"

       ]

      }

     ],

     "prompt_number": 79

    },

    {

     "cell_type": "code",

     "collapsed": false,

     "input": [

      "# \u0430\u043d\u0430\u043b\u0438\u0437 \u043f\u0440\u0438\u0437\u043d\u0430\u043a\u043e\u0432 \u0441 \u043c\u0430\u043b\u044b\u043c \u0447\u0438\u0441\u043b\u043e\u043c \u0437\u043d\u0430\u0447\u0435\u043d\u0438\u0439\n",

      "for i in xrange(data.shape[1]):\n",

      "    u = data[data.columns[i]].unique()\n",

      "    if u.__len__()<10:\n",

      "        print data.columns[i], u"

     ],

     "language": "python",

     "metadata": {},

     "outputs": [

      {

       "output_type": "stream",

       "stream": "stdout",

       "text": [

        "leasetype ['net' 'Full Service' 'Industrial Gross' 'Modified Gross' 'Modified Net'\n",

        " 'NNN' 'Other']\n",

        "list ['ln' 'cf']\n"

       ]

      }

     ],

     "prompt_number": 80

    },

    {

     "cell_type": "code",

     "collapsed": false,

     "input": [

      "# \u0444\u0430\u043a\u0442\u043e\u0440\u044b \u0437\u0430\u043c\u0435\u043d\u0438\u0442\u044c \u043c\u043e\u0449\u043d\u043e\u0441\u0442\u044f\u043c\u0438 \u0432\u0445\u043e\u0436\u0434\u0435\u043d\u0438\u0439\n",

      "factorfeatures = ['spacetype', 'leasetype', 'list']\n",

      "for f in factorfeatures:\n",

      "    set = data.groupby(f).size()\n",

      "    data[f] = data[f].apply(lambda x: set[x])\n",

      "data[:3]"

     ],

     "language": "python",

     "metadata": {},

     "outputs": [

      {

       "html": [

        "<div style=\"max-height:1000px;max-width:1500px;overflow:auto;\">\n",

        "<table border=\"1\" class=\"dataframe\">\n",

        "  <thead>\n",

        "    <tr style=\"text-align: right;\">\n",

        "      <th></th>\n",

        "      <th>spacesize</th>\n",

        "      <th>price</th>\n",

        "      <th>spacetype</th>\n",

        "      <th>leasetype</th>\n",

        "      <th>nspots</th>\n",

        "      <th>pop</th>\n",

        "      <th>popchange</th>\n",

        "      <th>land</th>\n",

        "      <th>densliv</th>\n",

        "      <th>denswork</th>\n",

        "      <th>...</th>\n",

        "      <th>hhsize</th>\n",

        "      <th>aincome</th>\n",

        "      <th>incomechange</th>\n",

        "      <th>degrees</th>\n",

        "      <th>asalary</th>\n",

        "      <th>anewsalary</th>\n",

        "      <th>employees</th>\n",

        "      <th>retails</th>\n",

        "      <th>listid</th>\n",

        "      <th>list</th>\n",

        "    </tr>\n",

        "  </thead>\n",

        "  <tbody>\n",

        "    <tr>\n",

        "      <th>0</th>\n",

        "      <td> 11324</td>\n",

        "      <td> 2.65</td>\n",

        "      <td> 4</td>\n",

        "      <td> 427</td>\n",

        "      <td> 14</td>\n",

        "      <td>  6 417 </td>\n",

        "      <td> 10,4%</td>\n",

        "      <td>  780 787 </td>\n",

        "      <td> 0.008219</td>\n",

        "      <td> 0.001896</td>\n",

        "      <td>...</td>\n",

        "      <td> 2.8</td>\n",

        "      <td>  64 039 </td>\n",

        "      <td>  0,9%</td>\n",

        "      <td>  3,4%</td>\n",

        "      <td>  43 000 </td>\n",

        "      <td>  42 221 </td>\n",

        "      <td> 12</td>\n",

        "      <td> 5</td>\n",

        "      <td> 239</td>\n",

        "      <td> 1196</td>\n",

        "    </tr>\n",

        "    <tr>\n",

        "      <th>1</th>\n",

        "      <td>  2275</td>\n",

        "      <td> 1.58</td>\n",

        "      <td> 4</td>\n",

        "      <td> 427</td>\n",

        "      <td> 22</td>\n",

        "      <td>  3 903 </td>\n",

        "      <td>  4,2%</td>\n",

        "      <td>  646 901 </td>\n",

        "      <td> 0.006033</td>\n",

        "      <td> 0.002220</td>\n",

        "      <td>...</td>\n",

        "      <td> 2.8</td>\n",

        "      <td>  77 802 </td>\n",

        "      <td> -7,0%</td>\n",

        "      <td> -0,2%</td>\n",

        "      <td>  30 000 </td>\n",

        "      <td>  36 709 </td>\n",

        "      <td> 12</td>\n",

        "      <td> 2</td>\n",

        "      <td> 388</td>\n",

        "      <td> 1196</td>\n",

        "    </tr>\n",

        "    <tr>\n",

        "      <th>2</th>\n",

        "      <td>  2275</td>\n",

        "      <td> 1.58</td>\n",

        "      <td> 4</td>\n",

        "      <td> 427</td>\n",

        "      <td> 22</td>\n",

        "      <td>  3 903 </td>\n",

        "      <td>  4,2%</td>\n",

        "      <td>  646 901 </td>\n",

        "      <td> 0.006033</td>\n",

        "      <td> 0.002220</td>\n",

        "      <td>...</td>\n",

        "      <td> 2.8</td>\n",

        "      <td>  77 802 </td>\n",

        "      <td> -7,0%</td>\n",

        "      <td> -0,2%</td>\n",

        "      <td>  30 000 </td>\n",

        "      <td>  36 709 </td>\n",

        "      <td> 12</td>\n",

        "      <td> 2</td>\n",

        "      <td> 389</td>\n",

        "      <td> 1196</td>\n",

        "    </tr>\n",

        "  </tbody>\n",

        "</table>\n",

        "<p>3 rows \u00d7 22 columns</p>\n",

        "</div>"

       ],

       "metadata": {},

       "output_type": "pyout",

       "prompt_number": 81,

       "text": [

        "   spacesize  price  spacetype  leasetype  nspots      pop popchange  \\\n",

        "0      11324   2.65          4        427      14   6 417      10,4%   \n",

        "1       2275   1.58          4        427      22   3 903       4,2%   \n",

        "2       2275   1.58          4        427      22   3 903       4,2%   \n",

        "\n",

        "        land   densliv  denswork    ...     hhsize   aincome  incomechange  \\\n",

        "0   780 787   0.008219  0.001896    ...        2.8   64 039           0,9%   \n",

        "1   646 901   0.006033  0.002220    ...        2.8   77 802          -7,0%   \n",

        "2   646 901   0.006033  0.002220    ...        2.8   77 802          -7,0%   \n",

        "\n",

        "  degrees   asalary anewsalary employees retails  listid  list  \n",

        "0    3,4%   43 000     42 221         12       5     239  1196  \n",

        "1   -0,2%   30 000     36 709         12       2     388  1196  \n",

        "2   -0,2%   30 000     36 709         12       2     389  1196  \n",

        "\n",

        "[3 rows x 22 columns]"

       ]

      }

     ],

     "prompt_number": 81

    },

    {

     "cell_type": "code",

     "collapsed": false,

     "input": [

      "# \u043f\u0435\u0440\u0435\u0432\u0435\u0441\u0442\u0438 \u043f\u0440\u043e\u0446\u0435\u043d\u0442\u044b \u0432 \u0447\u0438\u0441\u043b\u0430\n",

      "def per2num(x):\n",

      "    x = x.replace(',','.')\n",

      "    i = x.find('%')\n",

      "    if (i>0):\n",

      "        x = x[:i]\n",

      "        x = str(float(x)/100)\n",

      "    return (x)\n",

      "\n",

      "percentfeatures = ['degrees', 'popchange']\n",

      "for f in percentfeatures:\n",

      "    data[f] = data[f].apply(per2num)\n",

      "    data[f] = data[f].astype(float)\n",

      "\n",

      "data[:3]"

     ],

     "language": "python",

     "metadata": {},

     "outputs": [

      {

       "html": [

        "<div style=\"max-height:1000px;max-width:1500px;overflow:auto;\">\n",

        "<table border=\"1\" class=\"dataframe\">\n",

        "  <thead>\n",

        "    <tr style=\"text-align: right;\">\n",

        "      <th></th>\n",

        "      <th>spacesize</th>\n",

        "      <th>price</th>\n",

        "      <th>spacetype</th>\n",

        "      <th>leasetype</th>\n",

        "      <th>nspots</th>\n",

        "      <th>pop</th>\n",

        "      <th>popchange</th>\n",

        "      <th>land</th>\n",

        "      <th>densliv</th>\n",

        "      <th>denswork</th>\n",

        "      <th>...</th>\n",

        "      <th>hhsize</th>\n",

        "      <th>aincome</th>\n",

        "      <th>incomechange</th>\n",

        "      <th>degrees</th>\n",

        "      <th>asalary</th>\n",

        "      <th>anewsalary</th>\n",

        "      <th>employees</th>\n",

        "      <th>retails</th>\n",

        "      <th>listid</th>\n",

        "      <th>list</th>\n",

        "    </tr>\n",

        "  </thead>\n",

        "  <tbody>\n",

        "    <tr>\n",

        "      <th>0</th>\n",

        "      <td> 11324</td>\n",

        "      <td> 2.65</td>\n",

        "      <td> 4</td>\n",

        "      <td> 427</td>\n",

        "      <td> 14</td>\n",

        "      <td>  6 417 </td>\n",

        "      <td> 0.104</td>\n",

        "      <td>  780 787 </td>\n",

        "      <td> 0.008219</td>\n",

        "      <td> 0.001896</td>\n",

        "      <td>...</td>\n",

        "      <td> 2.8</td>\n",

        "      <td>  64 039 </td>\n",

        "      <td>  0.9</td>\n",

        "      <td> 0.034</td>\n",

        "      <td>  43 000 </td>\n",

        "      <td>  42 221 </td>\n",

        "      <td> 12</td>\n",

        "      <td> 5</td>\n",

        "      <td> 239</td>\n",

        "      <td> 1196</td>\n",

        "    </tr>\n",

        "    <tr>\n",

        "      <th>1</th>\n",

        "      <td>  2275</td>\n",

        "      <td> 1.58</td>\n",

        "      <td> 4</td>\n",

        "      <td> 427</td>\n",

        "      <td> 22</td>\n",

        "      <td>  3 903 </td>\n",

        "      <td> 0.042</td>\n",

        "      <td>  646 901 </td>\n",

        "      <td> 0.006033</td>\n",

        "      <td> 0.002220</td>\n",

        "      <td>...</td>\n",

        "      <td> 2.8</td>\n",

        "      <td>  77 802 </td>\n",

        "      <td> -7.0</td>\n",

        "      <td>-0.002</td>\n",

        "      <td>  30 000 </td>\n",

        "      <td>  36 709 </td>\n",

        "      <td> 12</td>\n",

        "      <td> 2</td>\n",

        "      <td> 388</td>\n",

        "      <td> 1196</td>\n",

        "    </tr>\n",

        "    <tr>\n",

        "      <th>2</th>\n",

        "      <td>  2275</td>\n",

        "      <td> 1.58</td>\n",

        "      <td> 4</td>\n",

        "      <td> 427</td>\n",

        "      <td> 22</td>\n",

        "      <td>  3 903 </td>\n",

        "      <td> 0.042</td>\n",

        "      <td>  646 901 </td>\n",

        "      <td> 0.006033</td>\n",

        "      <td> 0.002220</td>\n",

        "      <td>...</td>\n",

        "      <td> 2.8</td>\n",

        "      <td>  77 802 </td>\n",

        "      <td> -7.0</td>\n",

        "      <td>-0.002</td>\n",

        "      <td>  30 000 </td>\n",

        "      <td>  36 709 </td>\n",

        "      <td> 12</td>\n",

        "      <td> 2</td>\n",

        "      <td> 389</td>\n",

        "      <td> 1196</td>\n",

        "    </tr>\n",

        "  </tbody>\n",

        "</table>\n",

        "<p>3 rows \u00d7 22 columns</p>\n",

        "</div>"

       ],

       "metadata": {},

       "output_type": "pyout",

       "prompt_number": 100,

       "text": [

        "   spacesize  price  spacetype  leasetype  nspots      pop  popchange  \\\n",

        "0      11324   2.65          4        427      14   6 417       0.104   \n",

        "1       2275   1.58          4        427      22   3 903       0.042   \n",

        "2       2275   1.58          4        427      22   3 903       0.042   \n",

        "\n",

        "        land   densliv  denswork    ...     hhsize   aincome  incomechange  \\\n",

        "0   780 787   0.008219  0.001896    ...        2.8   64 039            0.9   \n",

        "1   646 901   0.006033  0.002220    ...        2.8   77 802           -7.0   \n",

        "2   646 901   0.006033  0.002220    ...        2.8   77 802           -7.0   \n",

        "\n",

        "  degrees   asalary  anewsalary employees retails  listid  list  \n",

        "0   0.034   43 000      42 221         12       5     239  1196  \n",

        "1  -0.002   30 000      36 709         12       2     388  1196  \n",

        "2  -0.002   30 000      36 709         12       2     389  1196  \n",

        "\n",

        "[3 rows x 22 columns]"

       ]

      }

     ],

     "prompt_number": 100

    },

    {

     "cell_type": "code",

     "collapsed": false,

     "input": [

      "for i in xrange(data.shape[1]):\n",

      "    print data.columns[i], data[data.columns[i]].values[:3]\n",

      "#a = data[data.columns[0]][:3]\n",

      "#a.values"

     ],

     "language": "python",

     "metadata": {},

     "outputs": [

      {

       "output_type": "stream",

       "stream": "stdout",

       "text": [

        "spacesize [11324  2275  2275]\n",

        "price [ 2.65  1.58  1.58]\n",

        "spacetype [4 4 4]\n",

        "leasetype [427 427 427]\n",

        "nspots [14 22 22]\n",

        "pop [' 6 417 ' ' 3 903 ' ' 3 903 ']\n",

        "popchange [ 0.104  0.042  0.042]\n",

        "land [' 780 787 ' ' 646 901 ' ' 646 901 ']\n",

        "densliv [ 0.00821904  0.00603315  0.00603315]\n",

        "denswork [ 0.00189552  0.00221981  0.00221981]\n",

        "denstotal [ 0.01011457  0.00825296  0.00825296]\n",

        "chat [7 7 7]\n",

        "hhsize [ 2.8  2.8  2.8]\n",

        "aincome [' 64 039 ' ' 77 802 ' ' 77 802 ']\n",

        "incomechange ['0.9' '-7.0' '-7.0']\n",

        "degrees [ 0.034 -0.002 -0.002]\n",

        "asalary [' 43 000 ' ' 30 000 ' ' 30 000 ']\n",

        "anewsalary [' 42 221 ' ' 36 709 ' ' 36 709 ']\n",

        "employees [12 12 12]\n",

        "retails [5 2 2]\n",

        "listid [239 388 389]\n",

        "list [1196 1196 1196]\n"

       ]

      }

     ],

     "prompt_number": 101

    },

    {

     "cell_type": "code",

     "collapsed": false,

     "input": [

      "data = data.astype(float)\n",

      "for i in xrange(data.shape[1]):\n",

      "    print data.columns[i], data[data.columns[i]].values[:3]"

     ],

     "language": "python",

     "metadata": {},

     "outputs": [

      {

       "ename": "ValueError",

       "evalue": "invalid literal for float(): 34 984 ",

       "output_type": "pyerr",

       "traceback": [

        "\u001b[1;31m---------------------------------------------------------------------------\u001b[0m\n\u001b[1;31mValueError\u001b[0m                                Traceback (most recent call last)",

        "\u001b[1;32m<ipython-input-102-49e4dd8208b9>\u001b[0m in \u001b[0;36m<module>\u001b[1;34m()\u001b[0m\n\u001b[1;32m----> 1\u001b[1;33m \u001b[0mdata\u001b[0m \u001b[1;33m=\u001b[0m \u001b[0mdata\u001b[0m\u001b[1;33m.\u001b[0m\u001b[0mastype\u001b[0m\u001b[1;33m(\u001b[0m\u001b[0mfloat\u001b[0m\u001b[1;33m)\u001b[0m\u001b[1;33m\u001b[0m\u001b[0m\n\u001b[0m\u001b[0;32m      2\u001b[0m \u001b[1;32mfor\u001b[0m \u001b[0mi\u001b[0m \u001b[1;32min\u001b[0m \u001b[0mxrange\u001b[0m\u001b[1;33m(\u001b[0m\u001b[0mdata\u001b[0m\u001b[1;33m.\u001b[0m\u001b[0mshape\u001b[0m\u001b[1;33m[\u001b[0m\u001b[1;36m1\u001b[0m\u001b[1;33m]\u001b[0m\u001b[1;33m)\u001b[0m\u001b[1;33m:\u001b[0m\u001b[1;33m\u001b[0m\u001b[0m\n\u001b[0;32m      3\u001b[0m     \u001b[1;32mprint\u001b[0m \u001b[0mdata\u001b[0m\u001b[1;33m.\u001b[0m\u001b[0mcolumns\u001b[0m\u001b[1;33m[\u001b[0m\u001b[0mi\u001b[0m\u001b[1;33m]\u001b[0m\u001b[1;33m,\u001b[0m \u001b[0mdata\u001b[0m\u001b[1;33m[\u001b[0m\u001b[0mdata\u001b[0m\u001b[1;33m.\u001b[0m\u001b[0mcolumns\u001b[0m\u001b[1;33m[\u001b[0m\u001b[0mi\u001b[0m\u001b[1;33m]\u001b[0m\u001b[1;33m]\u001b[0m\u001b[1;33m.\u001b[0m\u001b[0mvalues\u001b[0m\u001b[1;33m[\u001b[0m\u001b[1;33m:\u001b[0m\u001b[1;36m3\u001b[0m\u001b[1;33m]\u001b[0m\u001b[1;33m\u001b[0m\u001b[0m\n",

        "\u001b[1;32mC:\\Python27\\lib\\site-packages\\pandas\\core\\generic.pyc\u001b[0m in \u001b[0;36mastype\u001b[1;34m(self, dtype, copy, raise_on_error)\u001b[0m\n\u001b[0;32m   2096\u001b[0m \u001b[1;33m\u001b[0m\u001b[0m\n\u001b[0;32m   2097\u001b[0m         mgr = self._data.astype(\n\u001b[1;32m-> 2098\u001b[1;33m             dtype=dtype, copy=copy, raise_on_error=raise_on_error)\n\u001b[0m\u001b[0;32m   2099\u001b[0m         \u001b[1;32mreturn\u001b[0m \u001b[0mself\u001b[0m\u001b[1;33m.\u001b[0m\u001b[0m_constructor\u001b[0m\u001b[1;33m(\u001b[0m\u001b[0mmgr\u001b[0m\u001b[1;33m)\u001b[0m\u001b[1;33m.\u001b[0m\u001b[0m__finalize__\u001b[0m\u001b[1;33m(\u001b[0m\u001b[0mself\u001b[0m\u001b[1;33m)\u001b[0m\u001b[1;33m\u001b[0m\u001b[0m\n\u001b[0;32m   2100\u001b[0m \u001b[1;33m\u001b[0m\u001b[0m\n",

        "\u001b[1;32mC:\\Python27\\lib\\site-packages\\pandas\\core\\internals.pyc\u001b[0m in \u001b[0;36mastype\u001b[1;34m(self, dtype, **kwargs)\u001b[0m\n\u001b[0;32m   2235\u001b[0m \u001b[1;33m\u001b[0m\u001b[0m\n\u001b[0;32m   2236\u001b[0m     \u001b[1;32mdef\u001b[0m \u001b[0mastype\u001b[0m\u001b[1;33m(\u001b[0m\u001b[0mself\u001b[0m\u001b[1;33m,\u001b[0m \u001b[0mdtype\u001b[0m\u001b[1;33m,\u001b[0m \u001b[1;33m**\u001b[0m\u001b[0mkwargs\u001b[0m\u001b[1;33m)\u001b[0m\u001b[1;33m:\u001b[0m\u001b[1;33m\u001b[0m\u001b[0m\n\u001b[1;32m-> 2237\u001b[1;33m         \u001b[1;32mreturn\u001b[0m \u001b[0mself\u001b[0m\u001b[1;33m.\u001b[0m\u001b[0mapply\u001b[0m\u001b[1;33m(\u001b[0m\u001b[1;34m'astype'\u001b[0m\u001b[1;33m,\u001b[0m \u001b[0mdtype\u001b[0m\u001b[1;33m=\u001b[0m\u001b[0mdtype\u001b[0m\u001b[1;33m,\u001b[0m \u001b[1;33m**\u001b[0m\u001b[0mkwargs\u001b[0m\u001b[1;33m)\u001b[0m\u001b[1;33m\u001b[0m\u001b[0m\n\u001b[0m\u001b[0;32m   2238\u001b[0m \u001b[1;33m\u001b[0m\u001b[0m\n\u001b[0;32m   2239\u001b[0m     \u001b[1;32mdef\u001b[0m \u001b[0mconvert\u001b[0m\u001b[1;33m(\u001b[0m\u001b[0mself\u001b[0m\u001b[1;33m,\u001b[0m \u001b[1;33m**\u001b[0m\u001b[0mkwargs\u001b[0m\u001b[1;33m)\u001b[0m\u001b[1;33m:\u001b[0m\u001b[1;33m\u001b[0m\u001b[0m\n",

        "\u001b[1;32mC:\\Python27\\lib\\site-packages\\pandas\\core\\internals.pyc\u001b[0m in \u001b[0;36mapply\u001b[1;34m(self, f, axes, filter, do_integrity_check, **kwargs)\u001b[0m\n\u001b[0;32m   2190\u001b[0m                                                  copy=align_copy)\n\u001b[0;32m   2191\u001b[0m \u001b[1;33m\u001b[0m\u001b[0m\n\u001b[1;32m-> 2192\u001b[1;33m             \u001b[0mapplied\u001b[0m \u001b[1;33m=\u001b[0m \u001b[0mgetattr\u001b[0m\u001b[1;33m(\u001b[0m\u001b[0mb\u001b[0m\u001b[1;33m,\u001b[0m \u001b[0mf\u001b[0m\u001b[1;33m)\u001b[0m\u001b[1;33m(\u001b[0m\u001b[1;33m**\u001b[0m\u001b[0mkwargs\u001b[0m\u001b[1;33m)\u001b[0m\u001b[1;33m\u001b[0m\u001b[0m\n\u001b[0m\u001b[0;32m   2193\u001b[0m \u001b[1;33m\u001b[0m\u001b[0m\n\u001b[0;32m   2194\u001b[0m             \u001b[1;32mif\u001b[0m \u001b[0misinstance\u001b[0m\u001b[1;33m(\u001b[0m\u001b[0mapplied\u001b[0m\u001b[1;33m,\u001b[0m \u001b[0mlist\u001b[0m\u001b[1;33m)\u001b[0m\u001b[1;33m:\u001b[0m\u001b[1;33m\u001b[0m\u001b[0m\n",

        "\u001b[1;32mC:\\Python27\\lib\\site-packages\\pandas\\core\\internals.pyc\u001b[0m in \u001b[0;36mastype\u001b[1;34m(self, dtype, copy, raise_on_error, values)\u001b[0m\n\u001b[0;32m    319\u001b[0m     \u001b[1;32mdef\u001b[0m \u001b[0mastype\u001b[0m\u001b[1;33m(\u001b[0m\u001b[0mself\u001b[0m\u001b[1;33m,\u001b[0m \u001b[0mdtype\u001b[0m\u001b[1;33m,\u001b[0m \u001b[0mcopy\u001b[0m\u001b[1;33m=\u001b[0m\u001b[0mFalse\u001b[0m\u001b[1;33m,\u001b[0m \u001b[0mraise_on_error\u001b[0m\u001b[1;33m=\u001b[0m\u001b[0mTrue\u001b[0m\u001b[1;33m,\u001b[0m \u001b[0mvalues\u001b[0m\u001b[1;33m=\u001b[0m\u001b[0mNone\u001b[0m\u001b[1;33m)\u001b[0m\u001b[1;33m:\u001b[0m\u001b[1;33m\u001b[0m\u001b[0m\n\u001b[0;32m    320\u001b[0m         return self._astype(dtype, copy=copy, raise_on_error=raise_on_error,\n\u001b[1;32m--> 321\u001b[1;33m                             values=values)\n\u001b[0m\u001b[0;32m    322\u001b[0m \u001b[1;33m\u001b[0m\u001b[0m\n\u001b[0;32m    323\u001b[0m     def _astype(self, dtype, copy=False, raise_on_error=True, values=None,\n",

        "\u001b[1;32mC:\\Python27\\lib\\site-packages\\pandas\\core\\internals.pyc\u001b[0m in \u001b[0;36m_astype\u001b[1;34m(self, dtype, copy, raise_on_error, values, klass)\u001b[0m\n\u001b[0;32m    337\u001b[0m             \u001b[1;32mif\u001b[0m \u001b[0mvalues\u001b[0m \u001b[1;32mis\u001b[0m \u001b[0mNone\u001b[0m\u001b[1;33m:\u001b[0m\u001b[1;33m\u001b[0m\u001b[0m\n\u001b[0;32m    338\u001b[0m                 \u001b[1;31m# _astype_nansafe works fine with 1-d only\u001b[0m\u001b[1;33m\u001b[0m\u001b[1;33m\u001b[0m\u001b[0m\n\u001b[1;32m--> 339\u001b[1;33m                 \u001b[0mvalues\u001b[0m \u001b[1;33m=\u001b[0m \u001b[0mcom\u001b[0m\u001b[1;33m.\u001b[0m\u001b[0m_astype_nansafe\u001b[0m\u001b[1;33m(\u001b[0m\u001b[0mself\u001b[0m\u001b[1;33m.\u001b[0m\u001b[0mvalues\u001b[0m\u001b[1;33m.\u001b[0m\u001b[0mravel\u001b[0m\u001b[1;33m(\u001b[0m\u001b[1;33m)\u001b[0m\u001b[1;33m,\u001b[0m \u001b[0mdtype\u001b[0m\u001b[1;33m,\u001b[0m \u001b[0mcopy\u001b[0m\u001b[1;33m=\u001b[0m\u001b[0mTrue\u001b[0m\u001b[1;33m)\u001b[0m\u001b[1;33m\u001b[0m\u001b[0m\n\u001b[0m\u001b[0;32m    340\u001b[0m                 \u001b[0mvalues\u001b[0m \u001b[1;33m=\u001b[0m \u001b[0mvalues\u001b[0m\u001b[1;33m.\u001b[0m\u001b[0mreshape\u001b[0m\u001b[1;33m(\u001b[0m\u001b[0mself\u001b[0m\u001b[1;33m.\u001b[0m\u001b[0mvalues\u001b[0m\u001b[1;33m.\u001b[0m\u001b[0mshape\u001b[0m\u001b[1;33m)\u001b[0m\u001b[1;33m\u001b[0m\u001b[0m\n\u001b[0;32m    341\u001b[0m             newb = make_block(values,\n",

        "\u001b[1;32mC:\\Python27\\lib\\site-packages\\pandas\\core\\common.pyc\u001b[0m in \u001b[0;36m_astype_nansafe\u001b[1;34m(arr, dtype, copy)\u001b[0m\n\u001b[0;32m   2415\u001b[0m \u001b[1;33m\u001b[0m\u001b[0m\n\u001b[0;32m   2416\u001b[0m     \u001b[1;32mif\u001b[0m \u001b[0mcopy\u001b[0m\u001b[1;33m:\u001b[0m\u001b[1;33m\u001b[0m\u001b[0m\n\u001b[1;32m-> 2417\u001b[1;33m         \u001b[1;32mreturn\u001b[0m \u001b[0marr\u001b[0m\u001b[1;33m.\u001b[0m\u001b[0mastype\u001b[0m\u001b[1;33m(\u001b[0m\u001b[0mdtype\u001b[0m\u001b[1;33m)\u001b[0m\u001b[1;33m\u001b[0m\u001b[0m\n\u001b[0m\u001b[0;32m   2418\u001b[0m     \u001b[1;32mreturn\u001b[0m \u001b[0marr\u001b[0m\u001b[1;33m.\u001b[0m\u001b[0mview\u001b[0m\u001b[1;33m(\u001b[0m\u001b[0mdtype\u001b[0m\u001b[1;33m)\u001b[0m\u001b[1;33m\u001b[0m\u001b[0m\n\u001b[0;32m   2419\u001b[0m \u001b[1;33m\u001b[0m\u001b[0m\n",

        "\u001b[1;31mValueError\u001b[0m: invalid literal for float(): 34 984 "

       ]

      }

     ],

     "prompt_number": 102

    },

    {

     "cell_type": "code",

     "collapsed": false,

     "input": [

      "# \u043a\u0430\u043a \u0432\u044b\u0432\u0435\u0441\u0442\u0438 \u043f\u0440\u043e\u0441\u0442\u0443\u044e \u0441\u0442\u0430\u0442\u0438\u0441\u0442\u0438\u043a\u0443\n",

      "dt1 = data.groupby('leasetype').size()\n",

      "# \u0440\u0438\u0441\u043e\u0432\u0430\u0442\u044c\n",

      "dt1.plot()\n",

      "# pl.show()\n",

      "dt1"

     ],

     "language": "python",

     "metadata": {},

     "outputs": [

      {

       "metadata": {},

       "output_type": "pyout",

       "prompt_number": 38,

       "text": [

        "leasetype\n",

        "Full Service        118\n",

        "Industrial Gross      5\n",

        "Modified Gross      689\n",

        "Modified Net        203\n",

        "NNN                 538\n",

        "Other               247\n",

        "net                 427\n",

        "dtype: int64"

       ]

      },

      {

       "metadata": {},

       "output_type": "display_data",

       "png": "[encoded data removed]",

       "text": [

        "<matplotlib.figure.Figure at 0xc882240>"

       ]

      }

     ],

     "prompt_number": 38

    },

    {

     "cell_type": "code",

     "collapsed": false,

     "input": [

      "# \u0431\u043e\u043b\u0435\u0435 \u0441\u043b\u043e\u0436\u043d\u043e - \u0441\u0440\u0435\u0434\u043d\u0435\u0435 \u0437\u043d\u0430\u0447\u0435\u043d\u0438\u0435 \u0446\u0435\u043b\u0435\u0432\u043e\u0433\u043e \u043f\u0440\u0438\u0437\u043d\u0430\u043a\u0430\n",

      "dt2 = data.groupby('leasetype')['price'].aggregate(np.mean)\n",

      "dt2.plot()\n",

      "pl.show()\n",

      "dt2"

     ],

     "language": "python",

     "metadata": {},

     "outputs": [

      {

       "metadata": {},

       "output_type": "display_data",

       "png": "[encoded data removed]",

       "text": [

        "<matplotlib.figure.Figure at 0xcf1b978>"

       ]

      },

      {

       "metadata": {},

       "output_type": "pyout",

       "prompt_number": 39,

       "text": [

        "leasetype\n",

        "Full Service        10.615847\n",

        "Industrial Gross     2.530000\n",

        "Modified Gross       6.138012\n",

        "Modified Net         5.457143\n",

        "NNN                  5.673420\n",

        "Other                6.704575\n",

        "net                  5.973864\n",

        "Name: price, dtype: float64"

       ]

      }

     ],

     "prompt_number": 39

    },

    {

     "cell_type": "code",

     "collapsed": false,

     "input": [],

     "language": "python",

     "metadata": {},

     "outputs": [

      {

       "metadata": {},

       "output_type": "display_data",

       "png": "[encoded data removed]",

       "text": [

        "<matplotlib.figure.Figure at 0x1129e6d8>"

       ]

      }

     ],

     "prompt_number": 64

    },

    {

     "cell_type": "code",

     "collapsed": false,

     "input": [

      "# \u043e\u043f\u0440\u0435\u0434\u0435\u043b\u0435\u043d\u0438\u0435 \u0441\u0432\u043e\u0435\u0439 \u0444\u0443\u043d\u043a\u0446\u0438\u0438\n",

      "def myf(x):\n",

      "    return (np.max(x)-np.min(x))\n",

      "\n",

      "dt3 = data.groupby('leasetype')['price'].apply(myf)\n",

      "dt3"

     ],

     "language": "python",

     "metadata": {},

     "outputs": [

      {

       "metadata": {},

       "output_type": "pyout",

       "prompt_number": 40,

       "text": [

        "leasetype\n",

        "Full Service        83.33\n",

        "Industrial Gross     4.00\n",

        "Modified Gross      45.83\n",

        "Modified Net        29.75\n",

        "NNN                 36.34\n",

        "Other               83.29\n",

        "net                 55.30\n",

        "Name: price, dtype: float64"

       ]

      }

     ],

     "prompt_number": 40

    },

    {

     "cell_type": "code",

     "collapsed": false,

     "input": [

      "def recode(x):\n",

      "    return dt1[x]\n",

      "\n",

      "data[data.columns[4]] = data[data.columns[4]].apply(recode)\n",

      "\n",

      "# recode(a[1000])\n",

      "# .apply(np.isnan)\n",

      "# np.isnan(a)\n",

      "a[1:5]"

     ],

     "language": "python",

     "metadata": {},

     "outputs": [

      {

       "metadata": {},

       "output_type": "pyout",

       "prompt_number": 145,

       "text": [

        "1    427\n",

        "2    427\n",

        "3    427\n",

        "4    427\n",

        "Name: Lease Type: , dtype: int64"

       ]

      }

     ],

     "prompt_number": 145

    },

    {

     "cell_type": "code",

     "collapsed": false,

     "input": [

      "data[1:5]"

     ],

     "language": "python",

     "metadata": {},

     "outputs": [

      {

       "html": [

        "<div style=\"max-height:1000px;max-width:1500px;overflow:auto;\">\n",

        "<table border=\"1\" class=\"dataframe\">\n",

        "  <thead>\n",

        "    <tr style=\"text-align: right;\">\n",

        "      <th></th>\n",

        "      <th>id</th>\n",

        "      <th>Space Size</th>\n",

        "      <th> Price / SF / Month </th>\n",

        "      <th>Space Type: </th>\n",

        "      <th>Lease Type: </th>\n",

        "      <th>Number of transport spots</th>\n",

        "      <th> Population </th>\n",

        "      <th>Population change 2013-2010</th>\n",

        "      <th> Land area </th>\n",

        "      <th>Density of people living in area</th>\n",

        "      <th>...</th>\n",

        "      <th> Household size </th>\n",

        "      <th> Average HH income 2013 </th>\n",

        "      <th>Income change 2013-2010</th>\n",

        "      <th>Change in % of bachelor degrees 2013-2010</th>\n",

        "      <th> Average salary of employees ($ 000s) </th>\n",

        "      <th> Average salary of employees in new businesses </th>\n",

        "      <th>% of employees in new companies vs all</th>\n",

        "      <th>Number of new retail places 2013-2010</th>\n",

        "      <th>list id</th>\n",

        "      <th>list</th>\n",

        "    </tr>\n",

        "  </thead>\n",

        "  <tbody>\n",

        "    <tr>\n",

        "      <th>1</th>\n",

        "      <td> 2</td>\n",

        "      <td>  2275</td>\n",

        "      <td>  1.58</td>\n",

        "      <td>    net</td>\n",

        "      <td> 427</td>\n",

        "      <td> 22</td>\n",

        "      <td>   3 903 </td>\n",

        "      <td>  4,2%</td>\n",

        "      <td>  646 901 </td>\n",

        "      <td> 0.006033</td>\n",

        "      <td>...</td>\n",

        "      <td> 2.8</td>\n",

        "      <td>  77 802 </td>\n",

        "      <td> -7,0%</td>\n",

        "      <td> -0,2%</td>\n",

        "      <td>  30 000 </td>\n",

        "      <td>  36 709 </td>\n",

        "      <td> 12</td>\n",

        "      <td>   2</td>\n",

        "      <td>  388</td>\n",

        "      <td> ln</td>\n",

        "    </tr>\n",

        "    <tr>\n",

        "      <th>2</th>\n",

        "      <td> 3</td>\n",

        "      <td>  2275</td>\n",

        "      <td>  1.58</td>\n",

        "      <td>    net</td>\n",

        "      <td> 427</td>\n",

        "      <td> 22</td>\n",

        "      <td>   3 903 </td>\n",

        "      <td>  4,2%</td>\n",

        "      <td>  646 901 </td>\n",

        "      <td> 0.006033</td>\n",

        "      <td>...</td>\n",

        "      <td> 2.8</td>\n",

        "      <td>  77 802 </td>\n",

        "      <td> -7,0%</td>\n",

        "      <td> -0,2%</td>\n",

        "      <td>  30 000 </td>\n",

        "      <td>  36 709 </td>\n",

        "      <td> 12</td>\n",

        "      <td>   2</td>\n",

        "      <td>  389</td>\n",

        "      <td> ln</td>\n",

        "    </tr>\n",

        "    <tr>\n",

        "      <th>3</th>\n",

        "      <td> 4</td>\n",

        "      <td> 17989</td>\n",

        "      <td>  1.58</td>\n",

        "      <td>    net</td>\n",

        "      <td> 427</td>\n",

        "      <td> 22</td>\n",

        "      <td>   3 903 </td>\n",

        "      <td>  4,2%</td>\n",

        "      <td>  646 901 </td>\n",

        "      <td> 0.006033</td>\n",

        "      <td>...</td>\n",

        "      <td> 2.8</td>\n",

        "      <td>  77 802 </td>\n",

        "      <td> -7,0%</td>\n",

        "      <td> -0,2%</td>\n",

        "      <td>  30 000 </td>\n",

        "      <td>  36 709 </td>\n",

        "      <td> 12</td>\n",

        "      <td>   2</td>\n",

        "      <td>  390</td>\n",

        "      <td> ln</td>\n",

        "    </tr>\n",

        "    <tr>\n",

        "      <th>4</th>\n",

        "      <td> 5</td>\n",

        "      <td>   600</td>\n",

        "      <td> 12.50</td>\n",

        "      <td> Anchor</td>\n",

        "      <td> 427</td>\n",

        "      <td> 36</td>\n",

        "      <td>  21 490 </td>\n",

        "      <td> -3,1%</td>\n",

        "      <td>  748 996 </td>\n",

        "      <td> 0.028692</td>\n",

        "      <td>...</td>\n",

        "      <td> 2.4</td>\n",

        "      <td>  48 409 </td>\n",

        "      <td> 29,5%</td>\n",

        "      <td>  5,2%</td>\n",

        "      <td>  62 000 </td>\n",

        "      <td>  52 775 </td>\n",

        "      <td> 23</td>\n",

        "      <td> 117</td>\n",

        "      <td> 1082</td>\n",

        "      <td> ln</td>\n",

        "    </tr>\n",

        "  </tbody>\n",

        "</table>\n",

        "<p>4 rows \u00d7 23 columns</p>\n",

        "</div>"

       ],

       "metadata": {},

       "output_type": "pyout",

       "prompt_number": 146,

       "text": [

        "   id  Space Size   Price / SF / Month  Space Type:   Lease Type:   \\\n",

        "1   2        2275                  1.58          net           427   \n",

        "2   3        2275                  1.58          net           427   \n",

        "3   4       17989                  1.58          net           427   \n",

        "4   5         600                 12.50       Anchor           427   \n",

        "\n",

        "   Number of transport spots  Population  Population change 2013-2010  \\\n",

        "1                         22       3 903                         4,2%   \n",

        "2                         22       3 903                         4,2%   \n",

        "3                         22       3 903                         4,2%   \n",

        "4                         36      21 490                        -3,1%   \n",

        "\n",

        "   Land area   Density of people living in area  \\\n",

        "1    646 901                           0.006033   \n",

        "2    646 901                           0.006033   \n",

        "3    646 901                           0.006033   \n",

        "4    748 996                           0.028692   \n",

        "\n",

        "                 ...                  Household size   \\\n",

        "1                ...                              2.8   \n",

        "2                ...                              2.8   \n",

        "3                ...                              2.8   \n",

        "4                ...                              2.4   \n",

        "\n",

        "    Average HH income 2013   Income change 2013-2010  \\\n",

        "1                   77 802                     -7,0%   \n",

        "2                   77 802                     -7,0%   \n",

        "3                   77 802                     -7,0%   \n",

        "4                   48 409                     29,5%   \n",

        "\n",

        "   Change in % of bachelor degrees 2013-2010  \\\n",

        "1                                      -0,2%   \n",

        "2                                      -0,2%   \n",

        "3                                      -0,2%   \n",

        "4                                       5,2%   \n",

        "\n",

        "   Average salary of employees ($ 000s)   \\\n",

        "1                                30 000    \n",

        "2                                30 000    \n",

        "3                                30 000    \n",

        "4                                62 000    \n",

        "\n",

        "   Average salary of employees in new businesses   \\\n",

        "1                                         36 709    \n",

        "2                                         36 709    \n",

        "3                                         36 709    \n",

        "4                                         52 775    \n",

        "\n",

        "  % of employees in new companies vs all  \\\n",

        "1                                     12   \n",

        "2                                     12   \n",

        "3                                     12   \n",

        "4                                     23   \n",

        "\n",

        "  Number of new retail places 2013-2010 list id  list  \n",

        "1                                     2     388    ln  \n",

        "2                                     2     389    ln  \n",

        "3                                     2     390    ln  \n",

        "4                                   117    1082    ln  \n",

        "\n",

        "[4 rows x 23 columns]"

       ]

      }

     ],

     "prompt_number": 146

    },

    {

     "cell_type": "code",

     "collapsed": false,

     "input": [

      "data.describe()"

     ],

     "language": "python",

     "metadata": {},

     "outputs": [

      {

       "html": [

        "<div style=\"max-height:1000px;max-width:1500px;overflow:auto;\">\n",

        "<table border=\"1\" class=\"dataframe\">\n",

        "  <thead>\n",

        "    <tr style=\"text-align: right;\">\n",

        "      <th></th>\n",

        "      <th>id</th>\n",

        "      <th>Space Size</th>\n",

        "      <th> Price / SF / Month </th>\n",

        "      <th>Lease Type: </th>\n",

        "      <th>Number of transport spots</th>\n",

        "      <th>Density of people living in area</th>\n",

        "      <th>Density of people working in area (based on lat/lon)</th>\n",

        "      <th>Total density (living + working)</th>\n",

        "      <th>Social chat score</th>\n",

        "      <th> Household size </th>\n",

        "      <th>% of employees in new companies vs all</th>\n",

        "      <th>Number of new retail places 2013-2010</th>\n",

        "      <th>list id</th>\n",

        "    </tr>\n",

        "  </thead>\n",

        "  <tbody>\n",

        "    <tr>\n",

        "      <th>count</th>\n",

        "      <td> 2227.000000</td>\n",

        "      <td>   2227.000000</td>\n",

        "      <td> 2227.000000</td>\n",

        "      <td> 2227.000000</td>\n",

        "      <td> 2227.000000</td>\n",

        "      <td> 2227.000000</td>\n",

        "      <td> 2227.000000</td>\n",

        "      <td> 2227.000000</td>\n",

        "      <td> 2227.000000</td>\n",

        "      <td> 2227.000000</td>\n",

        "      <td> 2227.000000</td>\n",

        "      <td> 2227.000000</td>\n",

        "      <td> 2227.000000</td>\n",

        "    </tr>\n",

        "    <tr>\n",

        "      <th>mean</th>\n",

        "      <td> 1114.000000</td>\n",

        "      <td>   3884.932645</td>\n",

        "      <td>    6.224239</td>\n",

        "      <td>  477.171531</td>\n",

        "      <td>   29.325101</td>\n",

        "      <td>    0.021292</td>\n",

        "      <td>    0.025608</td>\n",

        "      <td>    0.046900</td>\n",

        "      <td>   36.495285</td>\n",

        "      <td>    2.513965</td>\n",

        "      <td>   24.637180</td>\n",

        "      <td>   34.376291</td>\n",

        "      <td>  612.130669</td>\n",

        "    </tr>\n",

        "    <tr>\n",

        "      <th>std</th>\n",

        "      <td>  643.023846</td>\n",

        "      <td>  16311.985235</td>\n",

        "      <td>    6.582126</td>\n",

        "      <td>  187.986392</td>\n",

        "      <td>   14.658322</td>\n",

        "      <td>    0.011673</td>\n",

        "      <td>    0.051450</td>\n",

        "      <td>    0.053700</td>\n",

        "      <td>   68.069988</td>\n",

        "      <td>    0.533132</td>\n",

        "      <td>    8.480855</td>\n",

        "      <td>   36.063391</td>\n",

        "      <td>  337.293657</td>\n",

        "    </tr>\n",

        "    <tr>\n",

        "      <th>min</th>\n",

        "      <td>    1.000000</td>\n",

        "      <td>      1.000000</td>\n",

        "      <td>    0.000000</td>\n",

        "      <td>    5.000000</td>\n",

        "      <td>    0.000000</td>\n",

        "      <td>    0.000199</td>\n",

        "      <td>    0.000000</td>\n",

        "      <td>    0.000249</td>\n",

        "      <td>    0.000000</td>\n",

        "      <td>    1.500000</td>\n",

        "      <td>    0.000000</td>\n",

        "      <td>    0.000000</td>\n",

        "      <td>    1.000000</td>\n",

        "    </tr>\n",

        "    <tr>\n",

        "      <th>25%</th>\n",

        "      <td>  557.500000</td>\n",

        "      <td>   1000.000000</td>\n",

        "      <td>    2.670000</td>\n",

        "      <td>  247.000000</td>\n",

        "      <td>   19.000000</td>\n",

        "      <td>    0.013105</td>\n",

        "      <td>    0.004082</td>\n",

        "      <td>    0.019105</td>\n",

        "      <td>    5.000000</td>\n",

        "      <td>    2.100000</td>\n",

        "      <td>   20.000000</td>\n",

        "      <td>   10.000000</td>\n",

        "      <td>  319.500000</td>\n",

        "    </tr>\n",

        "    <tr>\n",

        "      <th>50%</th>\n",

        "      <td> 1114.000000</td>\n",

        "      <td>   1700.000000</td>\n",

        "      <td>    4.170000</td>\n",

        "      <td>  538.000000</td>\n",

        "      <td>   29.000000</td>\n",

        "      <td>    0.020760</td>\n",

        "      <td>    0.006939</td>\n",

        "      <td>    0.028993</td>\n",

        "      <td>   13.000000</td>\n",

        "      <td>    2.500000</td>\n",

        "      <td>   24.000000</td>\n",

        "      <td>   21.000000</td>\n",

        "      <td>  615.000000</td>\n",

        "    </tr>\n",

        "    <tr>\n",

        "      <th>75%</th>\n",

        "      <td> 1670.500000</td>\n",

        "      <td>   3400.000000</td>\n",

        "      <td>    7.340000</td>\n",

        "      <td>  689.000000</td>\n",

        "      <td>   38.000000</td>\n",

        "      <td>    0.028699</td>\n",

        "      <td>    0.020631</td>\n",

        "      <td>    0.051848</td>\n",

        "      <td>   42.000000</td>\n",

        "      <td>    2.900000</td>\n",

        "      <td>   29.000000</td>\n",

        "      <td>   42.000000</td>\n",

        "      <td>  902.000000</td>\n",

        "    </tr>\n",

        "    <tr>\n",

        "      <th>max</th>\n",

        "      <td> 2227.000000</td>\n",

        "      <td> 600000.000000</td>\n",

        "      <td>   83.410000</td>\n",

        "      <td>  689.000000</td>\n",

        "      <td>   78.000000</td>\n",

        "      <td>    0.062810</td>\n",

        "      <td>    0.350893</td>\n",

        "      <td>    0.369600</td>\n",

        "      <td>  988.000000</td>\n",

        "      <td>    4.600000</td>\n",

        "      <td>   84.000000</td>\n",

        "      <td>  184.000000</td>\n",

        "      <td> 1217.000000</td>\n",

        "    </tr>\n",

        "  </tbody>\n",

        "</table>\n",

        "</div>"

       ],

       "metadata": {},

       "output_type": "pyout",

       "prompt_number": 148,

       "text": [

        "                id     Space Size   Price / SF / Month   Lease Type:   \\\n",

        "count  2227.000000    2227.000000           2227.000000   2227.000000   \n",

        "mean   1114.000000    3884.932645              6.224239    477.171531   \n",

        "std     643.023846   16311.985235              6.582126    187.986392   \n",

        "min       1.000000       1.000000              0.000000      5.000000   \n",

        "25%     557.500000    1000.000000              2.670000    247.000000   \n",

        "50%    1114.000000    1700.000000              4.170000    538.000000   \n",

        "75%    1670.500000    3400.000000              7.340000    689.000000   \n",

        "max    2227.000000  600000.000000             83.410000    689.000000   \n",

        "\n",

        "       Number of transport spots  Density of people living in area  \\\n",

        "count                2227.000000                       2227.000000   \n",

        "mean                   29.325101                          0.021292   \n",

        "std                    14.658322                          0.011673   \n",

        "min                     0.000000                          0.000199   \n",

        "25%                    19.000000                          0.013105   \n",

        "50%                    29.000000                          0.020760   \n",

        "75%                    38.000000                          0.028699   \n",

        "max                    78.000000                          0.062810   \n",

        "\n",

        "       Density of people working in area (based on lat/lon)  \\\n",

        "count                                        2227.000000      \n",

        "mean                                            0.025608      \n",

        "std                                             0.051450      \n",

        "min                                             0.000000      \n",

        "25%                                             0.004082      \n",

        "50%                                             0.006939      \n",

        "75%                                             0.020631      \n",

        "max                                             0.350893      \n",

        "\n",

        "       Total density (living + working)  Social chat score   Household size   \\\n",

        "count                       2227.000000        2227.000000       2227.000000   \n",

        "mean                           0.046900          36.495285          2.513965   \n",

        "std                            0.053700          68.069988          0.533132   \n",

        "min                            0.000249           0.000000          1.500000   \n",

        "25%                            0.019105           5.000000          2.100000   \n",

        "50%                            0.028993          13.000000          2.500000   \n",

        "75%                            0.051848          42.000000          2.900000   \n",

        "max                            0.369600         988.000000          4.600000   \n",

        "\n",

        "       % of employees in new companies vs all  \\\n",

        "count                             2227.000000   \n",

        "mean                                24.637180   \n",

        "std                                  8.480855   \n",

        "min                                  0.000000   \n",

        "25%                                 20.000000   \n",

        "50%                                 24.000000   \n",

        "75%                                 29.000000   \n",

        "max                                 84.000000   \n",

        "\n",

        "       Number of new retail places 2013-2010      list id  \n",

        "count                            2227.000000  2227.000000  \n",

        "mean                               34.376291   612.130669  \n",

        "std                                36.063391   337.293657  \n",

        "min                                 0.000000     1.000000  \n",

        "25%                                10.000000   319.500000  \n",

        "50%                                21.000000   615.000000  \n",

        "75%                                42.000000   902.000000  \n",

        "max                               184.000000  1217.000000  "

       ]

      }

     ],

     "prompt_number": 148

    },

    {

     "cell_type": "code",

     "collapsed": false,

     "input": [],

     "language": "python",

     "metadata": {},

     "outputs": []

    }

   ],

   "metadata": {}

  }

 ]

}
