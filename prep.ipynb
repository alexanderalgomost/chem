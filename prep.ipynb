{
 "metadata": {
  "name": "",
  "signature": "sha256:d3af918e3d6a711ebc790cee31bcb73a1408ff6bae79343cbf6765b6e190bb69"
 },
 "nbformat": 3,
 "nbformat_minor": 0,
 "worksheets": [
  {
   "cells": [
    {
     "cell_type": "code",
     "collapsed": true,
     "input": [
      "import numpy as np\n",
      "import pandas as pd\n",
      "from pandas import DataFrame as df\n",
      "from pandas import read_csv\n",
      "\n",
      "import logging\n",
      "reload(logging)\n",
      "logging.basicConfig(format = u'[%(asctime)s]  %(message)s', level = logging.INFO)\n",
      "logging.info('')\n",
      "\n",
      "from __future__ import division\n",
      "\n",
      "from multiprocessing import Pool"
     ],
     "language": "python",
     "metadata": {},
     "outputs": []
    },
    {
     "cell_type": "code",
     "collapsed": true,
     "input": [
      "xtrain = read_csv('data/train.csv').values\n",
      "ytrain = read_csv('data/trainY.csv').values"
     ],
     "language": "python",
     "metadata": {},
     "outputs": []
    },
    {
     "cell_type": "code",
     "collapsed": false,
     "input": [
      "xtrain = df(xtrain)\n",
      "xtrain[240] = ytrain\n",
      "\n",
      "xtrain = xtrain.drop_duplicates(subset=range(240)).values\n",
      "df(xtrain).to_csv('data/trainXY_no_duplicates.csv',index=False)"
     ],
     "language": "python",
     "metadata": {},
     "outputs": []
    },
    {
     "cell_type": "code",
     "collapsed": false,
     "input": [
      "xtrain = read_csv('data/trainXY_no_duplicates.csv').values"
     ],
     "language": "python",
     "metadata": {},
     "outputs": []
    },
    {
     "cell_type": "code",
     "collapsed": true,
     "input": [
      "xtest = read_csv('data/test.csv').values"
     ],
     "language": "python",
     "metadata": {},
     "outputs": []
    },
    {
     "cell_type": "heading",
     "level": 2,
     "metadata": {},
     "source": [
      "UNRANK"
     ]
    },
    {
     "cell_type": "code",
     "collapsed": false,
     "input": [
      "def transform(col) :\n",
      "    \n",
      "    tempo = np.zeros(xtrain.shape[0])\n",
      "    \n",
      "    x = xtrain[:,col]\n",
      "    x = np.sort(x)\n",
      "    \n",
      "    TH = min(x)\n",
      "    j = -1\n",
      "    for i in range(len(x)-1) :\n",
      "        if x[i] + 1 != x[i + 1] :\n",
      "            j += 1\n",
      "            tempo[(xtrain[:,col] >= TH) * (xtrain[:,col] < x[i + 1])] = j\n",
      "            TH = x[i + 1]\n",
      "\n",
      "    tempo[xtrain[:,col] >= TH] = j + 1\n",
      "    \n",
      "    return tempo\n",
      "\n",
      "pool = Pool(15)\n",
      "ans = pool.map(transform, range(240))\n",
      "pool.terminate()\n",
      "\n",
      "\n",
      "x = df()\n",
      "for i in range(240):\n",
      "    x[i] = ans[i]\n",
      "    \n",
      "x[240] = xtrain[:,240]\n",
      "    \n",
      "x.to_csv('data/trainXYtransformed.csv',index=False)"
     ],
     "language": "python",
     "metadata": {},
     "outputs": []
    },
    {
     "cell_type": "code",
     "collapsed": false,
     "input": [
      "logging.info('')\n",
      "\n",
      "def transform(col) :\n",
      "    \n",
      "    tempo = np.zeros(xtest.shape[0])\n",
      "    \n",
      "    x = xtest[:,col]\n",
      "    x = np.sort(x)\n",
      "    \n",
      "    TH = min(x)\n",
      "    j = -1\n",
      "    for i in range(len(x)-1) :\n",
      "        if x[i] + 1 != x[i + 1] :\n",
      "            j += 1\n",
      "            tempo[(xtest[:,col] >= TH) * (xtest[:,col] < x[i + 1])] = j\n",
      "            TH = x[i + 1]\n",
      "\n",
      "    tempo[xtest[:,col] >= TH] = j + 1\n",
      "    \n",
      "    return tempo\n",
      "\n",
      "pool = Pool(15)\n",
      "ans = pool.map(transform, range(240))\n",
      "pool.terminate()\n",
      "\n",
      "logging.info('')\n",
      "\n",
      "x = df()\n",
      "for i in range(240):\n",
      "    x[i] = ans[i]\n",
      "    \n",
      "x.to_csv('data/testXtransformed.csv',index=False)"
     ],
     "language": "python",
     "metadata": {},
     "outputs": []
    },
    {
     "cell_type": "code",
     "collapsed": false,
     "input": [],
     "language": "python",
     "metadata": {},
     "outputs": []
    }
   ],
   "metadata": {}
  }
 ]
}
