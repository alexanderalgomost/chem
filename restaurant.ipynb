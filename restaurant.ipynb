{

 "metadata": {

  "name": "",

  "signature": "sha256:bbfb058af73248e7f7bf57dd1c5b9c26de158c43a818e4433ba64509c28dcdef"

 },

 "nbformat": 3,

 "nbformat_minor": 0,

 "worksheets": [

  {

   "cells": [

    {

     "cell_type": "code",

     "collapsed": false,

     "input": [

      "# \u043f\u043e\u0434\u0433\u0440\u0443\u0436\u0430\u0435\u043c \u0432\u0441\u0435 \u043d\u0443\u0436\u043d\u044b\u0435 \u043f\u0430\u043a\u0435\u0442\u044b\n",

      "import pandas as pd\n",

      "import numpy as np\n",

      "\n",

      "\n",

      "# \u0434\u043b\u044f \u0432\u0441\u0442\u0440\u043e\u0435\u043d\u043d\u044b\u0445 \u043a\u0430\u0440\u0442\u0438\u043d\u043e\u043a\n",

      "%pylab inline\n",

      "# \u0447\u0443\u0442\u044c \u043f\u043e\u043a\u0440\u0430\u0441\u0438\u0432\u0448\u0435 \u043a\u0430\u0440\u0442\u0438\u043d\u043a\u0438:\n",

      "pd.set_option('display.mpl_style', 'default')\n",

      "figsize(10, 3)"

     ],

     "language": "python",

     "metadata": {},

     "outputs": [

      {

       "output_type": "stream",

       "stream": "stdout",

       "text": [

        "Populating the interactive namespace from numpy and matplotlib\n"

       ]

      }

     ],

     "prompt_number": 1

    },

    {

     "cell_type": "code",

     "collapsed": false,

     "input": [

      "data = pd.read_csv('D:\\\\Competitions\\\\Restaurant\\\\train.csv')\n",

      "data[:5]"

     ],

     "language": "python",

     "metadata": {},

     "outputs": [

      {

       "html": [

        "<div style=\"max-height:1000px;max-width:1500px;overflow:auto;\">\n",

        "<table border=\"1\" class=\"dataframe\">\n",

        "  <thead>\n",

        "    <tr style=\"text-align: right;\">\n",

        "      <th></th>\n",

        "      <th>Id</th>\n",

        "      <th>Open Date</th>\n",

        "      <th>City</th>\n",

        "      <th>City Group</th>\n",

        "      <th>Type</th>\n",

        "      <th>P1</th>\n",

        "      <th>P2</th>\n",

        "      <th>P3</th>\n",

        "      <th>P4</th>\n",

        "      <th>P5</th>\n",

        "      <th>...</th>\n",

        "      <th>P29</th>\n",

        "      <th>P30</th>\n",

        "      <th>P31</th>\n",

        "      <th>P32</th>\n",

        "      <th>P33</th>\n",

        "      <th>P34</th>\n",

        "      <th>P35</th>\n",

        "      <th>P36</th>\n",

        "      <th>P37</th>\n",

        "      <th>revenue</th>\n",

        "    </tr>\n",

        "  </thead>\n",

        "  <tbody>\n",

        "    <tr>\n",

        "      <th>0</th>\n",

        "      <td> 0</td>\n",

        "      <td> 07/17/1999</td>\n",

        "      <td>   \u0130stanbul</td>\n",

        "      <td> Big Cities</td>\n",

        "      <td> IL</td>\n",

        "      <td> 4</td>\n",

        "      <td> 5.0</td>\n",

        "      <td> 4</td>\n",

        "      <td> 4</td>\n",

        "      <td> 2</td>\n",

        "      <td>...</td>\n",

        "      <td> 3.0</td>\n",

        "      <td>  5</td>\n",

        "      <td>  3</td>\n",

        "      <td>  4</td>\n",

        "      <td> 5</td>\n",

        "      <td>  5</td>\n",

        "      <td>  4</td>\n",

        "      <td>  3</td>\n",

        "      <td> 4</td>\n",

        "      <td> 5653753</td>\n",

        "    </tr>\n",

        "    <tr>\n",

        "      <th>1</th>\n",

        "      <td> 1</td>\n",

        "      <td> 02/14/2008</td>\n",

        "      <td>     Ankara</td>\n",

        "      <td> Big Cities</td>\n",

        "      <td> FC</td>\n",

        "      <td> 4</td>\n",

        "      <td> 5.0</td>\n",

        "      <td> 4</td>\n",

        "      <td> 4</td>\n",

        "      <td> 1</td>\n",

        "      <td>...</td>\n",

        "      <td> 3.0</td>\n",

        "      <td>  0</td>\n",

        "      <td>  0</td>\n",

        "      <td>  0</td>\n",

        "      <td> 0</td>\n",

        "      <td>  0</td>\n",

        "      <td>  0</td>\n",

        "      <td>  0</td>\n",

        "      <td> 0</td>\n",

        "      <td> 6923131</td>\n",

        "    </tr>\n",

        "    <tr>\n",

        "      <th>2</th>\n",

        "      <td> 2</td>\n",

        "      <td> 03/09/2013</td>\n",

        "      <td> Diyarbak\u0131r</td>\n",

        "      <td>      Other</td>\n",

        "      <td> IL</td>\n",

        "      <td> 2</td>\n",

        "      <td> 4.0</td>\n",

        "      <td> 2</td>\n",

        "      <td> 5</td>\n",

        "      <td> 2</td>\n",

        "      <td>...</td>\n",

        "      <td> 3.0</td>\n",

        "      <td>  0</td>\n",

        "      <td>  0</td>\n",

        "      <td>  0</td>\n",

        "      <td> 0</td>\n",

        "      <td>  0</td>\n",

        "      <td>  0</td>\n",

        "      <td>  0</td>\n",

        "      <td> 0</td>\n",

        "      <td> 2055379</td>\n",

        "    </tr>\n",

        "    <tr>\n",

        "      <th>3</th>\n",

        "      <td> 3</td>\n",

        "      <td> 02/02/2012</td>\n",

        "      <td>      Tokat</td>\n",

        "      <td>      Other</td>\n",

        "      <td> IL</td>\n",

        "      <td> 6</td>\n",

        "      <td> 4.5</td>\n",

        "      <td> 6</td>\n",

        "      <td> 6</td>\n",

        "      <td> 4</td>\n",

        "      <td>...</td>\n",

        "      <td> 7.5</td>\n",

        "      <td> 25</td>\n",

        "      <td> 12</td>\n",

        "      <td> 10</td>\n",

        "      <td> 6</td>\n",

        "      <td> 18</td>\n",

        "      <td> 12</td>\n",

        "      <td> 12</td>\n",

        "      <td> 6</td>\n",

        "      <td> 2675511</td>\n",

        "    </tr>\n",

        "    <tr>\n",

        "      <th>4</th>\n",

        "      <td> 4</td>\n",

        "      <td> 05/09/2009</td>\n",

        "      <td>  Gaziantep</td>\n",

        "      <td>      Other</td>\n",

        "      <td> IL</td>\n",

        "      <td> 3</td>\n",

        "      <td> 4.0</td>\n",

        "      <td> 3</td>\n",

        "      <td> 4</td>\n",

        "      <td> 2</td>\n",

        "      <td>...</td>\n",

        "      <td> 3.0</td>\n",

        "      <td>  5</td>\n",

        "      <td>  1</td>\n",

        "      <td>  3</td>\n",

        "      <td> 2</td>\n",

        "      <td>  3</td>\n",

        "      <td>  4</td>\n",

        "      <td>  3</td>\n",

        "      <td> 3</td>\n",

        "      <td> 4316715</td>\n",

        "    </tr>\n",

        "  </tbody>\n",

        "</table>\n",

        "<p>5 rows \u00d7 43 columns</p>\n",

        "</div>"

       ],

       "metadata": {},

       "output_type": "pyout",

       "prompt_number": 90,

       "text": [

        "   Id   Open Date        City  City Group Type  P1   P2  P3  P4  P5 ...  P29  \\\n",

        "0   0  07/17/1999    \u0130stanbul  Big Cities   IL   4  5.0   4   4   2 ...  3.0   \n",

        "1   1  02/14/2008      Ankara  Big Cities   FC   4  5.0   4   4   1 ...  3.0   \n",

        "2   2  03/09/2013  Diyarbak\u0131r       Other   IL   2  4.0   2   5   2 ...  3.0   \n",

        "3   3  02/02/2012       Tokat       Other   IL   6  4.5   6   6   4 ...  7.5   \n",

        "4   4  05/09/2009   Gaziantep       Other   IL   3  4.0   3   4   2 ...  3.0   \n",

        "\n",

        "   P30  P31  P32  P33  P34  P35  P36  P37  revenue  \n",

        "0    5    3    4    5    5    4    3    4  5653753  \n",

        "1    0    0    0    0    0    0    0    0  6923131  \n",

        "2    0    0    0    0    0    0    0    0  2055379  \n",

        "3   25   12   10    6   18   12   12    6  2675511  \n",

        "4    5    1    3    2    3    4    3    3  4316715  \n",

        "\n",

        "[5 rows x 43 columns]"

       ]

      }

     ],

     "prompt_number": 90

    },

    {

     "cell_type": "code",

     "collapsed": false,

     "input": [

      "data['day'] = data['Open Date'].apply(lambda x: int(x[3:5]))\n",

      "data['month'] = data['Open Date'].apply(lambda x: int(x[0:2]))\n",

      "data['year'] = data['Open Date'].apply(lambda x: int(x[6:]))\n",

      "#data['weekday'] = data['Open Date'].apply(lambda x: datetime.datetime.strptime(x, '%m/%d/%Y').strftime('%a')) \u0414\u0440\u0443\u0433\u043e\u0439 \u0441\u043f\u043e\u0441\u043e\u0431\n",

      "data['weekday'] = data['Open Date'].apply(lambda x: datetime.datetime.strptime(x, '%m/%d/%Y').weekday())\n",

      "data['Open Date'] = pd.to_datetime(data['Open Date'])\n",

      "#a = data['Open Date'].values\n",

      "#data[:3]"

     ],

     "language": "python",

     "metadata": {},

     "outputs": [

      {

       "html": [

        "<div style=\"max-height:1000px;max-width:1500px;overflow:auto;\">\n",

        "<table border=\"1\" class=\"dataframe\">\n",

        "  <thead>\n",

        "    <tr style=\"text-align: right;\">\n",

        "      <th></th>\n",

        "      <th>Id</th>\n",

        "      <th>Open Date</th>\n",

        "      <th>City</th>\n",

        "      <th>City Group</th>\n",

        "      <th>Type</th>\n",

        "      <th>P1</th>\n",

        "      <th>P2</th>\n",

        "      <th>P3</th>\n",

        "      <th>P4</th>\n",

        "      <th>P5</th>\n",

        "      <th>...</th>\n",

        "      <th>P33</th>\n",

        "      <th>P34</th>\n",

        "      <th>P35</th>\n",

        "      <th>P36</th>\n",

        "      <th>P37</th>\n",

        "      <th>revenue</th>\n",

        "      <th>day</th>\n",

        "      <th>month</th>\n",

        "      <th>year</th>\n",

        "      <th>weekday</th>\n",

        "    </tr>\n",

        "  </thead>\n",

        "  <tbody>\n",

        "    <tr>\n",

        "      <th>0</th>\n",

        "      <td> 0</td>\n",

        "      <td>1999-07-17</td>\n",

        "      <td>   \u0130stanbul</td>\n",

        "      <td> Big Cities</td>\n",

        "      <td> IL</td>\n",

        "      <td> 4</td>\n",

        "      <td> 5</td>\n",

        "      <td> 4</td>\n",

        "      <td> 4</td>\n",

        "      <td> 2</td>\n",

        "      <td>...</td>\n",

        "      <td> 5</td>\n",

        "      <td> 5</td>\n",

        "      <td> 4</td>\n",

        "      <td> 3</td>\n",

        "      <td> 4</td>\n",

        "      <td> 5653753</td>\n",

        "      <td> 17</td>\n",

        "      <td> 7</td>\n",

        "      <td> 1999</td>\n",

        "      <td> 5</td>\n",

        "    </tr>\n",

        "    <tr>\n",

        "      <th>1</th>\n",

        "      <td> 1</td>\n",

        "      <td>2008-02-14</td>\n",

        "      <td>     Ankara</td>\n",

        "      <td> Big Cities</td>\n",

        "      <td> FC</td>\n",

        "      <td> 4</td>\n",

        "      <td> 5</td>\n",

        "      <td> 4</td>\n",

        "      <td> 4</td>\n",

        "      <td> 1</td>\n",

        "      <td>...</td>\n",

        "      <td> 0</td>\n",

        "      <td> 0</td>\n",

        "      <td> 0</td>\n",

        "      <td> 0</td>\n",

        "      <td> 0</td>\n",

        "      <td> 6923131</td>\n",

        "      <td> 14</td>\n",

        "      <td> 2</td>\n",

        "      <td> 2008</td>\n",

        "      <td> 3</td>\n",

        "    </tr>\n",

        "    <tr>\n",

        "      <th>2</th>\n",

        "      <td> 2</td>\n",

        "      <td>2013-03-09</td>\n",

        "      <td> Diyarbak\u0131r</td>\n",

        "      <td>      Other</td>\n",

        "      <td> IL</td>\n",

        "      <td> 2</td>\n",

        "      <td> 4</td>\n",

        "      <td> 2</td>\n",

        "      <td> 5</td>\n",

        "      <td> 2</td>\n",

        "      <td>...</td>\n",

        "      <td> 0</td>\n",

        "      <td> 0</td>\n",

        "      <td> 0</td>\n",

        "      <td> 0</td>\n",

        "      <td> 0</td>\n",

        "      <td> 2055379</td>\n",

        "      <td>  9</td>\n",

        "      <td> 3</td>\n",

        "      <td> 2013</td>\n",

        "      <td> 5</td>\n",

        "    </tr>\n",

        "  </tbody>\n",

        "</table>\n",

        "<p>3 rows \u00d7 47 columns</p>\n",

        "</div>"

       ],

       "metadata": {},

       "output_type": "pyout",

       "prompt_number": 91,

       "text": [

        "   Id  Open Date        City  City Group Type  P1  P2  P3  P4  P5 ...  P33  \\\n",

        "0   0 1999-07-17    \u0130stanbul  Big Cities   IL   4   5   4   4   2 ...    5   \n",

        "1   1 2008-02-14      Ankara  Big Cities   FC   4   5   4   4   1 ...    0   \n",

        "2   2 2013-03-09  Diyarbak\u0131r       Other   IL   2   4   2   5   2 ...    0   \n",

        "\n",

        "   P34  P35  P36  P37  revenue  day  month  year  weekday  \n",

        "0    5    4    3    4  5653753   17      7  1999        5  \n",

        "1    0    0    0    0  6923131   14      2  2008        3  \n",

        "2    0    0    0    0  2055379    9      3  2013        5  \n",

        "\n",

        "[3 rows x 47 columns]"

       ]

      }

     ],

     "prompt_number": 91

    },

    {

     "cell_type": "code",

     "collapsed": false,

     "input": [

      "st = {'Big Cities':1, 'Other':-1}\n",

      "data['cg'] = data['City Group'].apply(lambda x: st[x])\n",

      "st = {'DT':-1, 'IL':0, 'FC':1}\n",

      "data['tp'] = data['Type'].apply(lambda x: st[x])\n",

      "\n",

      "data[:5]"

     ],

     "language": "python",

     "metadata": {},

     "outputs": [

      {

       "html": [

        "<div style=\"max-height:1000px;max-width:1500px;overflow:auto;\">\n",

        "<table border=\"1\" class=\"dataframe\">\n",

        "  <thead>\n",

        "    <tr style=\"text-align: right;\">\n",

        "      <th></th>\n",

        "      <th>Id</th>\n",

        "      <th>Open Date</th>\n",

        "      <th>City</th>\n",

        "      <th>City Group</th>\n",

        "      <th>Type</th>\n",

        "      <th>P1</th>\n",

        "      <th>P2</th>\n",

        "      <th>P3</th>\n",

        "      <th>P4</th>\n",

        "      <th>P5</th>\n",

        "      <th>...</th>\n",

        "      <th>P36</th>\n",

        "      <th>P37</th>\n",

        "      <th>revenue</th>\n",

        "      <th>day</th>\n",

        "      <th>month</th>\n",

        "      <th>year</th>\n",

        "      <th>weekday</th>\n",

        "      <th>City2</th>\n",

        "      <th>cg</th>\n",

        "      <th>tp</th>\n",

        "    </tr>\n",

        "  </thead>\n",

        "  <tbody>\n",

        "    <tr>\n",

        "      <th>0</th>\n",

        "      <td> 0</td>\n",

        "      <td>1999-07-17</td>\n",

        "      <td>   \u0130stanbul</td>\n",

        "      <td> Big Cities</td>\n",

        "      <td> IL</td>\n",

        "      <td> 4</td>\n",

        "      <td> 5.0</td>\n",

        "      <td> 4</td>\n",

        "      <td> 4</td>\n",

        "      <td> 2</td>\n",

        "      <td>...</td>\n",

        "      <td>  3</td>\n",

        "      <td> 4</td>\n",

        "      <td> 5653753</td>\n",

        "      <td> 17</td>\n",

        "      <td> 7</td>\n",

        "      <td> 1999</td>\n",

        "      <td> 5</td>\n",

        "      <td> 1</td>\n",

        "      <td> 1</td>\n",

        "      <td> 0</td>\n",

        "    </tr>\n",

        "    <tr>\n",

        "      <th>1</th>\n",

        "      <td> 1</td>\n",

        "      <td>2008-02-14</td>\n",

        "      <td>     Ankara</td>\n",

        "      <td> Big Cities</td>\n",

        "      <td> FC</td>\n",

        "      <td> 4</td>\n",

        "      <td> 5.0</td>\n",

        "      <td> 4</td>\n",

        "      <td> 4</td>\n",

        "      <td> 1</td>\n",

        "      <td>...</td>\n",

        "      <td>  0</td>\n",

        "      <td> 0</td>\n",

        "      <td> 6923131</td>\n",

        "      <td> 14</td>\n",

        "      <td> 2</td>\n",

        "      <td> 2008</td>\n",

        "      <td> 3</td>\n",

        "      <td> 1</td>\n",

        "      <td> 1</td>\n",

        "      <td> 1</td>\n",

        "    </tr>\n",

        "    <tr>\n",

        "      <th>2</th>\n",

        "      <td> 2</td>\n",

        "      <td>2013-03-09</td>\n",

        "      <td> Diyarbak\u0131r</td>\n",

        "      <td>      Other</td>\n",

        "      <td> IL</td>\n",

        "      <td> 2</td>\n",

        "      <td> 4.0</td>\n",

        "      <td> 2</td>\n",

        "      <td> 5</td>\n",

        "      <td> 2</td>\n",

        "      <td>...</td>\n",

        "      <td>  0</td>\n",

        "      <td> 0</td>\n",

        "      <td> 2055379</td>\n",

        "      <td>  9</td>\n",

        "      <td> 3</td>\n",

        "      <td> 2013</td>\n",

        "      <td> 5</td>\n",

        "      <td>-1</td>\n",

        "      <td>-1</td>\n",

        "      <td> 0</td>\n",

        "    </tr>\n",

        "    <tr>\n",

        "      <th>3</th>\n",

        "      <td> 3</td>\n",

        "      <td>2012-02-02</td>\n",

        "      <td>      Tokat</td>\n",

        "      <td>      Other</td>\n",

        "      <td> IL</td>\n",

        "      <td> 6</td>\n",

        "      <td> 4.5</td>\n",

        "      <td> 6</td>\n",

        "      <td> 6</td>\n",

        "      <td> 4</td>\n",

        "      <td>...</td>\n",

        "      <td> 12</td>\n",

        "      <td> 6</td>\n",

        "      <td> 2675511</td>\n",

        "      <td>  2</td>\n",

        "      <td> 2</td>\n",

        "      <td> 2012</td>\n",

        "      <td> 3</td>\n",

        "      <td>-1</td>\n",

        "      <td>-1</td>\n",

        "      <td> 0</td>\n",

        "    </tr>\n",

        "    <tr>\n",

        "      <th>4</th>\n",

        "      <td> 4</td>\n",

        "      <td>2009-05-09</td>\n",

        "      <td>  Gaziantep</td>\n",

        "      <td>      Other</td>\n",

        "      <td> IL</td>\n",

        "      <td> 3</td>\n",

        "      <td> 4.0</td>\n",

        "      <td> 3</td>\n",

        "      <td> 4</td>\n",

        "      <td> 2</td>\n",

        "      <td>...</td>\n",

        "      <td>  3</td>\n",

        "      <td> 3</td>\n",

        "      <td> 4316715</td>\n",

        "      <td>  9</td>\n",

        "      <td> 5</td>\n",

        "      <td> 2009</td>\n",

        "      <td> 5</td>\n",

        "      <td>-1</td>\n",

        "      <td>-1</td>\n",

        "      <td> 0</td>\n",

        "    </tr>\n",

        "  </tbody>\n",

        "</table>\n",

        "<p>5 rows \u00d7 50 columns</p>\n",

        "</div>"

       ],

       "metadata": {},

       "output_type": "pyout",

       "prompt_number": 96,

       "text": [

        "   Id  Open Date        City  City Group Type  P1   P2  P3  P4  P5 ...  P36  \\\n",

        "0   0 1999-07-17    \u0130stanbul  Big Cities   IL   4  5.0   4   4   2 ...    3   \n",

        "1   1 2008-02-14      Ankara  Big Cities   FC   4  5.0   4   4   1 ...    0   \n",

        "2   2 2013-03-09  Diyarbak\u0131r       Other   IL   2  4.0   2   5   2 ...    0   \n",

        "3   3 2012-02-02       Tokat       Other   IL   6  4.5   6   6   4 ...   12   \n",

        "4   4 2009-05-09   Gaziantep       Other   IL   3  4.0   3   4   2 ...    3   \n",

        "\n",

        "   P37  revenue  day  month  year  weekday  City2  cg  tp  \n",

        "0    4  5653753   17      7  1999        5      1   1   0  \n",

        "1    0  6923131   14      2  2008        3      1   1   1  \n",

        "2    0  2055379    9      3  2013        5     -1  -1   0  \n",

        "3    6  2675511    2      2  2012        3     -1  -1   0  \n",

        "4    3  4316715    9      5  2009        5     -1  -1   0  \n",

        "\n",

        "[5 rows x 50 columns]"

       ]

      }

     ],

     "prompt_number": 96

    },

    {

     "cell_type": "code",

     "collapsed": false,

     "input": [

      "data.describe()"

     ],

     "language": "python",

     "metadata": {},

     "outputs": [

      {

       "html": [

        "<div style=\"max-height:1000px;max-width:1500px;overflow:auto;\">\n",

        "<table border=\"1\" class=\"dataframe\">\n",

        "  <thead>\n",

        "    <tr style=\"text-align: right;\">\n",

        "      <th></th>\n",

        "      <th>Id</th>\n",

        "      <th>P1</th>\n",

        "      <th>P2</th>\n",

        "      <th>P3</th>\n",

        "      <th>P4</th>\n",

        "      <th>P5</th>\n",

        "      <th>P6</th>\n",

        "      <th>P7</th>\n",

        "      <th>P8</th>\n",

        "      <th>P9</th>\n",

        "      <th>...</th>\n",

        "      <th>P29</th>\n",

        "      <th>P30</th>\n",

        "      <th>P31</th>\n",

        "      <th>P32</th>\n",

        "      <th>P33</th>\n",

        "      <th>P34</th>\n",

        "      <th>P35</th>\n",

        "      <th>P36</th>\n",

        "      <th>P37</th>\n",

        "      <th>revenue</th>\n",

        "    </tr>\n",

        "  </thead>\n",

        "  <tbody>\n",

        "    <tr>\n",

        "      <th>count</th>\n",

        "      <td> 137.000000</td>\n",

        "      <td> 137.000000</td>\n",

        "      <td> 137.000000</td>\n",

        "      <td> 137.000000</td>\n",

        "      <td> 137.000000</td>\n",

        "      <td> 137.000000</td>\n",

        "      <td> 137.000000</td>\n",

        "      <td> 137.000000</td>\n",

        "      <td> 137.000000</td>\n",

        "      <td> 137.000000</td>\n",

        "      <td>...</td>\n",

        "      <td> 137.000000</td>\n",

        "      <td> 137.000000</td>\n",

        "      <td> 137.000000</td>\n",

        "      <td> 137.000000</td>\n",

        "      <td> 137.000000</td>\n",

        "      <td> 137.000000</td>\n",

        "      <td> 137.000000</td>\n",

        "      <td> 137.000000</td>\n",

        "      <td> 137.000000</td>\n",

        "      <td>      137.000000</td>\n",

        "    </tr>\n",

        "    <tr>\n",

        "      <th>mean</th>\n",

        "      <td>  68.000000</td>\n",

        "      <td>   4.014599</td>\n",

        "      <td>   4.408759</td>\n",

        "      <td>   4.317518</td>\n",

        "      <td>   4.372263</td>\n",

        "      <td>   2.007299</td>\n",

        "      <td>   3.357664</td>\n",

        "      <td>   5.423358</td>\n",

        "      <td>   5.153285</td>\n",

        "      <td>   5.445255</td>\n",

        "      <td>...</td>\n",

        "      <td>   3.135036</td>\n",

        "      <td>   2.729927</td>\n",

        "      <td>   1.941606</td>\n",

        "      <td>   2.525547</td>\n",

        "      <td>   1.138686</td>\n",

        "      <td>   2.489051</td>\n",

        "      <td>   2.029197</td>\n",

        "      <td>   2.211679</td>\n",

        "      <td>   1.116788</td>\n",

        "      <td>  4453532.613139</td>\n",

        "    </tr>\n",

        "    <tr>\n",

        "      <th>std</th>\n",

        "      <td>  39.692569</td>\n",

        "      <td>   2.910391</td>\n",

        "      <td>   1.514900</td>\n",

        "      <td>   1.032337</td>\n",

        "      <td>   1.016462</td>\n",

        "      <td>   1.209620</td>\n",

        "      <td>   2.134235</td>\n",

        "      <td>   2.296809</td>\n",

        "      <td>   1.858567</td>\n",

        "      <td>   1.834793</td>\n",

        "      <td>...</td>\n",

        "      <td>   1.680887</td>\n",

        "      <td>   5.536647</td>\n",

        "      <td>   3.512093</td>\n",

        "      <td>   5.230117</td>\n",

        "      <td>   1.698540</td>\n",

        "      <td>   5.165093</td>\n",

        "      <td>   3.436272</td>\n",

        "      <td>   4.168211</td>\n",

        "      <td>   1.790768</td>\n",

        "      <td>  2576071.595708</td>\n",

        "    </tr>\n",

        "    <tr>\n",

        "      <th>min</th>\n",

        "      <td>   0.000000</td>\n",

        "      <td>   1.000000</td>\n",

        "      <td>   1.000000</td>\n",

        "      <td>   0.000000</td>\n",

        "      <td>   3.000000</td>\n",

        "      <td>   1.000000</td>\n",

        "      <td>   1.000000</td>\n",

        "      <td>   1.000000</td>\n",

        "      <td>   1.000000</td>\n",

        "      <td>   4.000000</td>\n",

        "      <td>...</td>\n",

        "      <td>   0.000000</td>\n",

        "      <td>   0.000000</td>\n",

        "      <td>   0.000000</td>\n",

        "      <td>   0.000000</td>\n",

        "      <td>   0.000000</td>\n",

        "      <td>   0.000000</td>\n",

        "      <td>   0.000000</td>\n",

        "      <td>   0.000000</td>\n",

        "      <td>   0.000000</td>\n",

        "      <td>  1149870.000000</td>\n",

        "    </tr>\n",

        "    <tr>\n",

        "      <th>25%</th>\n",

        "      <td>  34.000000</td>\n",

        "      <td>   2.000000</td>\n",

        "      <td>   4.000000</td>\n",

        "      <td>   4.000000</td>\n",

        "      <td>   4.000000</td>\n",

        "      <td>   1.000000</td>\n",

        "      <td>   2.000000</td>\n",

        "      <td>   5.000000</td>\n",

        "      <td>   4.000000</td>\n",

        "      <td>   4.000000</td>\n",

        "      <td>...</td>\n",

        "      <td>   2.500000</td>\n",

        "      <td>   0.000000</td>\n",

        "      <td>   0.000000</td>\n",

        "      <td>   0.000000</td>\n",

        "      <td>   0.000000</td>\n",

        "      <td>   0.000000</td>\n",

        "      <td>   0.000000</td>\n",

        "      <td>   0.000000</td>\n",

        "      <td>   0.000000</td>\n",

        "      <td>  2999068.000000</td>\n",

        "    </tr>\n",

        "    <tr>\n",

        "      <th>50%</th>\n",

        "      <td>  68.000000</td>\n",

        "      <td>   3.000000</td>\n",

        "      <td>   5.000000</td>\n",

        "      <td>   4.000000</td>\n",

        "      <td>   4.000000</td>\n",

        "      <td>   2.000000</td>\n",

        "      <td>   3.000000</td>\n",

        "      <td>   5.000000</td>\n",

        "      <td>   5.000000</td>\n",

        "      <td>   5.000000</td>\n",

        "      <td>...</td>\n",

        "      <td>   3.000000</td>\n",

        "      <td>   0.000000</td>\n",

        "      <td>   0.000000</td>\n",

        "      <td>   0.000000</td>\n",

        "      <td>   0.000000</td>\n",

        "      <td>   0.000000</td>\n",

        "      <td>   0.000000</td>\n",

        "      <td>   0.000000</td>\n",

        "      <td>   0.000000</td>\n",

        "      <td>  3939804.000000</td>\n",

        "    </tr>\n",

        "    <tr>\n",

        "      <th>75%</th>\n",

        "      <td> 102.000000</td>\n",

        "      <td>   4.000000</td>\n",

        "      <td>   5.000000</td>\n",

        "      <td>   5.000000</td>\n",

        "      <td>   5.000000</td>\n",

        "      <td>   2.000000</td>\n",

        "      <td>   4.000000</td>\n",

        "      <td>   5.000000</td>\n",

        "      <td>   5.000000</td>\n",

        "      <td>   5.000000</td>\n",

        "      <td>...</td>\n",

        "      <td>   3.000000</td>\n",

        "      <td>   4.000000</td>\n",

        "      <td>   3.000000</td>\n",

        "      <td>   3.000000</td>\n",

        "      <td>   2.000000</td>\n",

        "      <td>   3.000000</td>\n",

        "      <td>   4.000000</td>\n",

        "      <td>   3.000000</td>\n",

        "      <td>   2.000000</td>\n",

        "      <td>  5166635.000000</td>\n",

        "    </tr>\n",

        "    <tr>\n",

        "      <th>max</th>\n",

        "      <td> 136.000000</td>\n",

        "      <td>  12.000000</td>\n",

        "      <td>   7.500000</td>\n",

        "      <td>   7.500000</td>\n",

        "      <td>   7.500000</td>\n",

        "      <td>   8.000000</td>\n",

        "      <td>  10.000000</td>\n",

        "      <td>  10.000000</td>\n",

        "      <td>  10.000000</td>\n",

        "      <td>  10.000000</td>\n",

        "      <td>...</td>\n",

        "      <td>   7.500000</td>\n",

        "      <td>  25.000000</td>\n",

        "      <td>  15.000000</td>\n",

        "      <td>  25.000000</td>\n",

        "      <td>   6.000000</td>\n",

        "      <td>  24.000000</td>\n",

        "      <td>  15.000000</td>\n",

        "      <td>  20.000000</td>\n",

        "      <td>   8.000000</td>\n",

        "      <td> 19696939.000000</td>\n",

        "    </tr>\n",

        "  </tbody>\n",

        "</table>\n",

        "<p>8 rows \u00d7 39 columns</p>\n",

        "</div>"

       ],

       "metadata": {},

       "output_type": "pyout",

       "prompt_number": 9,

       "text": [

        "               Id          P1          P2          P3          P4          P5  \\\n",

        "count  137.000000  137.000000  137.000000  137.000000  137.000000  137.000000   \n",

        "mean    68.000000    4.014599    4.408759    4.317518    4.372263    2.007299   \n",

        "std     39.692569    2.910391    1.514900    1.032337    1.016462    1.209620   \n",

        "min      0.000000    1.000000    1.000000    0.000000    3.000000    1.000000   \n",

        "25%     34.000000    2.000000    4.000000    4.000000    4.000000    1.000000   \n",

        "50%     68.000000    3.000000    5.000000    4.000000    4.000000    2.000000   \n",

        "75%    102.000000    4.000000    5.000000    5.000000    5.000000    2.000000   \n",

        "max    136.000000   12.000000    7.500000    7.500000    7.500000    8.000000   \n",

        "\n",

        "               P6          P7          P8          P9     ...             P29  \\\n",

        "count  137.000000  137.000000  137.000000  137.000000     ...      137.000000   \n",

        "mean     3.357664    5.423358    5.153285    5.445255     ...        3.135036   \n",

        "std      2.134235    2.296809    1.858567    1.834793     ...        1.680887   \n",

        "min      1.000000    1.000000    1.000000    4.000000     ...        0.000000   \n",

        "25%      2.000000    5.000000    4.000000    4.000000     ...        2.500000   \n",

        "50%      3.000000    5.000000    5.000000    5.000000     ...        3.000000   \n",

        "75%      4.000000    5.000000    5.000000    5.000000     ...        3.000000   \n",

        "max     10.000000   10.000000   10.000000   10.000000     ...        7.500000   \n",

        "\n",

        "              P30         P31         P32         P33         P34         P35  \\\n",

        "count  137.000000  137.000000  137.000000  137.000000  137.000000  137.000000   \n",

        "mean     2.729927    1.941606    2.525547    1.138686    2.489051    2.029197   \n",

        "std      5.536647    3.512093    5.230117    1.698540    5.165093    3.436272   \n",

        "min      0.000000    0.000000    0.000000    0.000000    0.000000    0.000000   \n",

        "25%      0.000000    0.000000    0.000000    0.000000    0.000000    0.000000   \n",

        "50%      0.000000    0.000000    0.000000    0.000000    0.000000    0.000000   \n",

        "75%      4.000000    3.000000    3.000000    2.000000    3.000000    4.000000   \n",

        "max     25.000000   15.000000   25.000000    6.000000   24.000000   15.000000   \n",

        "\n",

        "              P36         P37          revenue  \n",

        "count  137.000000  137.000000       137.000000  \n",

        "mean     2.211679    1.116788   4453532.613139  \n",

        "std      4.168211    1.790768   2576071.595708  \n",

        "min      0.000000    0.000000   1149870.000000  \n",

        "25%      0.000000    0.000000   2999068.000000  \n",

        "50%      0.000000    0.000000   3939804.000000  \n",

        "75%      3.000000    2.000000   5166635.000000  \n",

        "max     20.000000    8.000000  19696939.000000  \n",

        "\n",

        "[8 rows x 39 columns]"

       ]

      }

     ],

     "prompt_number": 9

    },

    {

     "cell_type": "code",

     "collapsed": false,

     "input": [],

     "language": "python",

     "metadata": {},

     "outputs": []

    },

    {

     "cell_type": "code",

     "collapsed": false,

     "input": [

      "#for s in data.City.unique():\n",

      "#    print s\n",

      "print data['City Group'].unique()\n",

      "print data['Type'].unique()\n",

      "data['Type'].unique()\n",

      "print data.groupby('Type')['revenue'].apply(mean)\n",

      "print data.groupby('City Group')['revenue'].apply(mean)\n",

      "data.groupby('City')['revenue'].apply(mean).plot()"

     ],

     "language": "python",

     "metadata": {},

     "outputs": [

      {

       "output_type": "stream",

       "stream": "stdout",

       "text": [

        "['Big Cities' 'Other']\n",

        "['IL' 'FC' 'DT']\n",

        "Type\n",

        "DT      3810007.000000\n",

        "FC      4683963.250000\n",

        "IL      4172379.233333\n",

        "Name: revenue, dtype: float64\n",

        "City Group\n",

        "Big Cities    4983480.076923\n",

        "Other         3752924.101695\n",

        "Name: revenue, dtype: float64\n"

       ]

      },

      {

       "metadata": {},

       "output_type": "pyout",

       "prompt_number": 22,

       "text": [

        "<matplotlib.axes.AxesSubplot at 0xb23c1d0>"

       ]

      },

      {

       "metadata": {},

       "output_type": "display_data",

       "png": "[encoded data removed]",

       "text": [

        "<matplotlib.figure.Figure at 0xb239cf8>"

       ]

      }

     ],

     "prompt_number": 22

    },

    {

     "cell_type": "code",

     "collapsed": false,

     "input": [

      "#plot(data['P1'], data['P2'])\n",

      "matplotlib.pyplot.scatter(data['P1'].values+np.random.rand(137)/3, data['P29'].values+np.random.rand(137)/3)\n",

      "len(data['P1'].values)\n",

      "matplotlib.pyplot.scatter(data['P1'].values+np.random.rand(137)/3, data['revenue'].values)"

     ],

     "language": "python",

     "metadata": {},

     "outputs": [

      {

       "metadata": {},

       "output_type": "pyout",

       "prompt_number": 35,

       "text": [

        "<matplotlib.collections.PathCollection at 0xc207d68>"

       ]

      },

      {

       "metadata": {},

       "output_type": "display_data",

       "png": "[encoded data removed]",

       "text": [

        "<matplotlib.figure.Figure at 0xc44df28>"

       ]

      }

     ],

     "prompt_number": 35

    },

    {

     "cell_type": "code",

     "collapsed": false,

     "input": [

      "y = data['revenue'].values\n",

      "\n",

      "np.sqrt(np.mean((y-y.mean())**2))"

     ],

     "language": "python",

     "metadata": {},

     "outputs": [

      {

       "metadata": {},

       "output_type": "pyout",

       "prompt_number": 36,

       "text": [

        "2566652.6552286986"

       ]

      }

     ],

     "prompt_number": 36

    },

    {

     "cell_type": "markdown",

     "metadata": {},

     "source": [

      "\u0421\u0440\u0435\u0434\u043d\u0438\u0435 P-\u043f\u0440\u0438\u0437\u043d\u0430\u043a\u0438 \u043f\u043e \u0433\u043e\u0440\u043e\u0434\u0430\u043c \u043a\u043e\u0440\u0440\u0435\u043b\u0438\u0440\u0443\u044e\u0442!"

     ]

    },

    {

     "cell_type": "code",

     "collapsed": false,

     "input": [

      "a = data.groupby('City')['P1'].apply(mean)\n",

      "b = data.groupby('City')['P37'].apply(mean)\n",

      "matplotlib.pyplot.scatter(a+np.random.rand(len(a))/10, a+np.random.rand(len(a))/10)"

     ],

     "language": "python",

     "metadata": {},

     "outputs": [

      {

       "metadata": {},

       "output_type": "pyout",

       "prompt_number": 103,

       "text": [

        "<matplotlib.collections.PathCollection at 0xcf32240>"

       ]

      },

      {

       "metadata": {},

       "output_type": "display_data",

       "png": "[encoded data removed]",

       "text": [

        "<matplotlib.figure.Figure at 0xce28278>"

       ]

      }

     ],

     "prompt_number": 103

    },

    {

     "cell_type": "markdown",

     "metadata": {},

     "source": [

      "\u041d\u0430\u0434\u043e \u043d\u0435 \u0437\u0430\u0431\u044b\u0442\u044c \u0438\u0441\u043f\u043e\u043b\u044c\u0437\u043e\u0432\u0430\u0442\u044c \u0432\u0441\u044e \u0432\u044b\u0431\u043e\u0440\u043a\u0443 \u0434\u043b\u044f \u043e\u0431\u0443\u0447\u0435\u043d\u0438\u044f!!!"

     ]

    },

    {

     "cell_type": "code",

     "collapsed": false,

     "input": [

      "cityp1 = data.groupby('City')['P1'].apply(mean)\n",

      "cityod = data.groupby('City')['year'].apply(mean)\n",

      "data['cp1'] = data['City'].apply(lambda x: cityp1[x])\n",

      "data['cod'] = data['City'].apply(lambda x: cityod[x])\n",

      "data[:5]"

     ],

     "language": "python",

     "metadata": {},

     "outputs": [

      {

       "html": [

        "<div style=\"max-height:1000px;max-width:1500px;overflow:auto;\">\n",

        "<table border=\"1\" class=\"dataframe\">\n",

        "  <thead>\n",

        "    <tr style=\"text-align: right;\">\n",

        "      <th></th>\n",

        "      <th>Id</th>\n",

        "      <th>Open Date</th>\n",

        "      <th>City</th>\n",

        "      <th>City Group</th>\n",

        "      <th>Type</th>\n",

        "      <th>P1</th>\n",

        "      <th>P2</th>\n",

        "      <th>P3</th>\n",

        "      <th>P4</th>\n",

        "      <th>P5</th>\n",

        "      <th>...</th>\n",

        "      <th>revenue</th>\n",

        "      <th>day</th>\n",

        "      <th>month</th>\n",

        "      <th>year</th>\n",

        "      <th>weekday</th>\n",

        "      <th>City2</th>\n",

        "      <th>cg</th>\n",

        "      <th>tp</th>\n",

        "      <th>cp1</th>\n",

        "      <th>cod</th>\n",

        "    </tr>\n",

        "  </thead>\n",

        "  <tbody>\n",

        "    <tr>\n",

        "      <th>0</th>\n",

        "      <td> 0</td>\n",

        "      <td>1999-07-17</td>\n",

        "      <td>   \u0130stanbul</td>\n",

        "      <td> Big Cities</td>\n",

        "      <td> IL</td>\n",

        "      <td> 4</td>\n",

        "      <td> 5.0</td>\n",

        "      <td> 4</td>\n",

        "      <td> 4</td>\n",

        "      <td> 2</td>\n",

        "      <td>...</td>\n",

        "      <td> 5653753</td>\n",

        "      <td> 17</td>\n",

        "      <td> 7</td>\n",

        "      <td> 1999</td>\n",

        "      <td> 5</td>\n",

        "      <td> 1</td>\n",

        "      <td> 1</td>\n",

        "      <td> 0</td>\n",

        "      <td> 5.360000</td>\n",

        "      <td> 2007.560000</td>\n",

        "    </tr>\n",

        "    <tr>\n",

        "      <th>1</th>\n",

        "      <td> 1</td>\n",

        "      <td>2008-02-14</td>\n",

        "      <td>     Ankara</td>\n",

        "      <td> Big Cities</td>\n",

        "      <td> FC</td>\n",

        "      <td> 4</td>\n",

        "      <td> 5.0</td>\n",

        "      <td> 4</td>\n",

        "      <td> 4</td>\n",

        "      <td> 1</td>\n",

        "      <td>...</td>\n",

        "      <td> 6923131</td>\n",

        "      <td> 14</td>\n",

        "      <td> 2</td>\n",

        "      <td> 2008</td>\n",

        "      <td> 3</td>\n",

        "      <td> 1</td>\n",

        "      <td> 1</td>\n",

        "      <td> 1</td>\n",

        "      <td> 3.526316</td>\n",

        "      <td> 2008.736842</td>\n",

        "    </tr>\n",

        "    <tr>\n",

        "      <th>2</th>\n",

        "      <td> 2</td>\n",

        "      <td>2013-03-09</td>\n",

        "      <td> Diyarbak\u0131r</td>\n",

        "      <td>      Other</td>\n",

        "      <td> IL</td>\n",

        "      <td> 2</td>\n",

        "      <td> 4.0</td>\n",

        "      <td> 2</td>\n",

        "      <td> 5</td>\n",

        "      <td> 2</td>\n",

        "      <td>...</td>\n",

        "      <td> 2055379</td>\n",

        "      <td>  9</td>\n",

        "      <td> 3</td>\n",

        "      <td> 2013</td>\n",

        "      <td> 5</td>\n",

        "      <td>-1</td>\n",

        "      <td>-1</td>\n",

        "      <td> 0</td>\n",

        "      <td> 3.333333</td>\n",

        "      <td> 2009.333333</td>\n",

        "    </tr>\n",

        "    <tr>\n",

        "      <th>3</th>\n",

        "      <td> 3</td>\n",

        "      <td>2012-02-02</td>\n",

        "      <td>      Tokat</td>\n",

        "      <td>      Other</td>\n",

        "      <td> IL</td>\n",

        "      <td> 6</td>\n",

        "      <td> 4.5</td>\n",

        "      <td> 6</td>\n",

        "      <td> 6</td>\n",

        "      <td> 4</td>\n",

        "      <td>...</td>\n",

        "      <td> 2675511</td>\n",

        "      <td>  2</td>\n",

        "      <td> 2</td>\n",

        "      <td> 2012</td>\n",

        "      <td> 3</td>\n",

        "      <td>-1</td>\n",

        "      <td>-1</td>\n",

        "      <td> 0</td>\n",

        "      <td> 6.000000</td>\n",

        "      <td> 2012.000000</td>\n",

        "    </tr>\n",

        "    <tr>\n",

        "      <th>4</th>\n",

        "      <td> 4</td>\n",

        "      <td>2009-05-09</td>\n",

        "      <td>  Gaziantep</td>\n",

        "      <td>      Other</td>\n",

        "      <td> IL</td>\n",

        "      <td> 3</td>\n",

        "      <td> 4.0</td>\n",

        "      <td> 3</td>\n",

        "      <td> 4</td>\n",

        "      <td> 2</td>\n",

        "      <td>...</td>\n",

        "      <td> 4316715</td>\n",

        "      <td>  9</td>\n",

        "      <td> 5</td>\n",

        "      <td> 2009</td>\n",

        "      <td> 5</td>\n",

        "      <td>-1</td>\n",

        "      <td>-1</td>\n",

        "      <td> 0</td>\n",

        "      <td> 3.000000</td>\n",

        "      <td> 2009.000000</td>\n",

        "    </tr>\n",

        "  </tbody>\n",

        "</table>\n",

        "<p>5 rows \u00d7 52 columns</p>\n",

        "</div>"

       ],

       "metadata": {},

       "output_type": "pyout",

       "prompt_number": 113,

       "text": [

        "   Id  Open Date        City  City Group Type  P1   P2  P3  P4  P5 ...  \\\n",

        "0   0 1999-07-17    \u0130stanbul  Big Cities   IL   4  5.0   4   4   2 ...   \n",

        "1   1 2008-02-14      Ankara  Big Cities   FC   4  5.0   4   4   1 ...   \n",

        "2   2 2013-03-09  Diyarbak\u0131r       Other   IL   2  4.0   2   5   2 ...   \n",

        "3   3 2012-02-02       Tokat       Other   IL   6  4.5   6   6   4 ...   \n",

        "4   4 2009-05-09   Gaziantep       Other   IL   3  4.0   3   4   2 ...   \n",

        "\n",

        "   revenue  day  month  year  weekday  City2  cg  tp       cp1          cod  \n",

        "0  5653753   17      7  1999        5      1   1   0  5.360000  2007.560000  \n",

        "1  6923131   14      2  2008        3      1   1   1  3.526316  2008.736842  \n",

        "2  2055379    9      3  2013        5     -1  -1   0  3.333333  2009.333333  \n",

        "3  2675511    2      2  2012        3     -1  -1   0  6.000000  2012.000000  \n",

        "4  4316715    9      5  2009        5     -1  -1   0  3.000000  2009.000000  \n",

        "\n",

        "[5 rows x 52 columns]"

       ]

      }

     ],

     "prompt_number": 113

    },

    {

     "cell_type": "code",

     "collapsed": false,

     "input": [

      "data2 = data.copy()\n",

      "del data2['Id']\n",

      "del data2['Open Date']\n",

      "del data2['City']\n",

      "del data2['City Group']\n",

      "del data2['Type']\n",

      "data2[:5]"

     ],

     "language": "python",

     "metadata": {},

     "outputs": [

      {

       "html": [

        "<div style=\"max-height:1000px;max-width:1500px;overflow:auto;\">\n",

        "<table border=\"1\" class=\"dataframe\">\n",

        "  <thead>\n",

        "    <tr style=\"text-align: right;\">\n",

        "      <th></th>\n",

        "      <th>P1</th>\n",

        "      <th>P2</th>\n",

        "      <th>P3</th>\n",

        "      <th>P4</th>\n",

        "      <th>P5</th>\n",

        "      <th>P6</th>\n",

        "      <th>P7</th>\n",

        "      <th>P8</th>\n",

        "      <th>P9</th>\n",

        "      <th>P10</th>\n",

        "      <th>...</th>\n",

        "      <th>revenue</th>\n",

        "      <th>day</th>\n",

        "      <th>month</th>\n",

        "      <th>year</th>\n",

        "      <th>weekday</th>\n",

        "      <th>City2</th>\n",

        "      <th>cg</th>\n",

        "      <th>tp</th>\n",

        "      <th>cp1</th>\n",

        "      <th>cod</th>\n",

        "    </tr>\n",

        "  </thead>\n",

        "  <tbody>\n",

        "    <tr>\n",

        "      <th>0</th>\n",

        "      <td> 4</td>\n",

        "      <td> 5.0</td>\n",

        "      <td> 4</td>\n",

        "      <td> 4</td>\n",

        "      <td> 2</td>\n",

        "      <td> 2</td>\n",

        "      <td>  5</td>\n",

        "      <td> 4</td>\n",

        "      <td>  5</td>\n",

        "      <td>  5</td>\n",

        "      <td>...</td>\n",

        "      <td> 5653753</td>\n",

        "      <td> 17</td>\n",

        "      <td> 7</td>\n",

        "      <td> 1999</td>\n",

        "      <td> 5</td>\n",

        "      <td> 1</td>\n",

        "      <td> 1</td>\n",

        "      <td> 0</td>\n",

        "      <td> 5.360000</td>\n",

        "      <td> 2007.560000</td>\n",

        "    </tr>\n",

        "    <tr>\n",

        "      <th>1</th>\n",

        "      <td> 4</td>\n",

        "      <td> 5.0</td>\n",

        "      <td> 4</td>\n",

        "      <td> 4</td>\n",

        "      <td> 1</td>\n",

        "      <td> 2</td>\n",

        "      <td>  5</td>\n",

        "      <td> 5</td>\n",

        "      <td>  5</td>\n",

        "      <td>  5</td>\n",

        "      <td>...</td>\n",

        "      <td> 6923131</td>\n",

        "      <td> 14</td>\n",

        "      <td> 2</td>\n",

        "      <td> 2008</td>\n",

        "      <td> 3</td>\n",

        "      <td> 1</td>\n",

        "      <td> 1</td>\n",

        "      <td> 1</td>\n",

        "      <td> 3.526316</td>\n",

        "      <td> 2008.736842</td>\n",

        "    </tr>\n",

        "    <tr>\n",

        "      <th>2</th>\n",

        "      <td> 2</td>\n",

        "      <td> 4.0</td>\n",

        "      <td> 2</td>\n",

        "      <td> 5</td>\n",

        "      <td> 2</td>\n",

        "      <td> 3</td>\n",

        "      <td>  5</td>\n",

        "      <td> 5</td>\n",

        "      <td>  5</td>\n",

        "      <td>  5</td>\n",

        "      <td>...</td>\n",

        "      <td> 2055379</td>\n",

        "      <td>  9</td>\n",

        "      <td> 3</td>\n",

        "      <td> 2013</td>\n",

        "      <td> 5</td>\n",

        "      <td>-1</td>\n",

        "      <td>-1</td>\n",

        "      <td> 0</td>\n",

        "      <td> 3.333333</td>\n",

        "      <td> 2009.333333</td>\n",

        "    </tr>\n",

        "    <tr>\n",

        "      <th>3</th>\n",

        "      <td> 6</td>\n",

        "      <td> 4.5</td>\n",

        "      <td> 6</td>\n",

        "      <td> 6</td>\n",

        "      <td> 4</td>\n",

        "      <td> 4</td>\n",

        "      <td> 10</td>\n",

        "      <td> 8</td>\n",

        "      <td> 10</td>\n",

        "      <td> 10</td>\n",

        "      <td>...</td>\n",

        "      <td> 2675511</td>\n",

        "      <td>  2</td>\n",

        "      <td> 2</td>\n",

        "      <td> 2012</td>\n",

        "      <td> 3</td>\n",

        "      <td>-1</td>\n",

        "      <td>-1</td>\n",

        "      <td> 0</td>\n",

        "      <td> 6.000000</td>\n",

        "      <td> 2012.000000</td>\n",

        "    </tr>\n",

        "    <tr>\n",

        "      <th>4</th>\n",

        "      <td> 3</td>\n",

        "      <td> 4.0</td>\n",

        "      <td> 3</td>\n",

        "      <td> 4</td>\n",

        "      <td> 2</td>\n",

        "      <td> 2</td>\n",

        "      <td>  5</td>\n",

        "      <td> 5</td>\n",

        "      <td>  5</td>\n",

        "      <td>  5</td>\n",

        "      <td>...</td>\n",

        "      <td> 4316715</td>\n",

        "      <td>  9</td>\n",

        "      <td> 5</td>\n",

        "      <td> 2009</td>\n",

        "      <td> 5</td>\n",

        "      <td>-1</td>\n",

        "      <td>-1</td>\n",

        "      <td> 0</td>\n",

        "      <td> 3.000000</td>\n",

        "      <td> 2009.000000</td>\n",

        "    </tr>\n",

        "  </tbody>\n",

        "</table>\n",

        "<p>5 rows \u00d7 47 columns</p>\n",

        "</div>"

       ],

       "metadata": {},

       "output_type": "pyout",

       "prompt_number": 115,

       "text": [

        "   P1   P2  P3  P4  P5  P6  P7  P8  P9  P10 ...   revenue  day  month  year  \\\n",

        "0   4  5.0   4   4   2   2   5   4   5    5 ...   5653753   17      7  1999   \n",

        "1   4  5.0   4   4   1   2   5   5   5    5 ...   6923131   14      2  2008   \n",

        "2   2  4.0   2   5   2   3   5   5   5    5 ...   2055379    9      3  2013   \n",

        "3   6  4.5   6   6   4   4  10   8  10   10 ...   2675511    2      2  2012   \n",

        "4   3  4.0   3   4   2   2   5   5   5    5 ...   4316715    9      5  2009   \n",

        "\n",

        "   weekday  City2  cg  tp       cp1          cod  \n",

        "0        5      1   1   0  5.360000  2007.560000  \n",

        "1        3      1   1   1  3.526316  2008.736842  \n",

        "2        5     -1  -1   0  3.333333  2009.333333  \n",

        "3        3     -1  -1   0  6.000000  2012.000000  \n",

        "4        5     -1  -1   0  3.000000  2009.000000  \n",

        "\n",

        "[5 rows x 47 columns]"

       ]

      }

     ],

     "prompt_number": 115

    },

    {

     "cell_type": "code",

     "collapsed": false,

     "input": [

      "print data2.shape\n",

      "for f in data2.columns:\n",

      "    print f, data2[f][:10].values"

     ],

     "language": "python",

     "metadata": {},

     "outputs": [

      {

       "output_type": "stream",

       "stream": "stdout",

       "text": [

        "(137, 47)\n",

        "P1 [4 4 2 6 3 6 2 4 1 6]\n",

        "P2 [ 5.   5.   4.   4.5  4.   6.   3.   5.   1.   4.5]\n",

        "P3 [ 4.   4.   2.   6.   3.   4.5  4.   4.   4.   6. ]\n",

        "P4 [ 4.   4.   5.   6.   4.   7.5  4.   5.   4.   7.5]\n",

        "P5 [2 1 2 4 2 8 1 2 1 6]\n",

        "P6 [ 2  2  3  4  2 10  5  3  2  4]\n",

        "P7 [ 5  5  5 10  5 10  5  5  1 10]\n",

        "P8 [ 4  5  5  8  5  8  5  4  5 10]\n",

        "P9 [ 5  5  5 10  5  8  5  4  5 10]\n",

        "P10 [ 5  5  5 10  5  8  5  4  5 10]\n",

        "P11 [ 3  1  2  8  2 10  2  4  1  2]\n",

        "P12 [ 5  5  5 10  5  8  5  3  5 10]\n",

        "P13 [ 5.   5.   5.   7.5  5.   6.   5.   4.   5.   7.5]\n",

        "P14 [1 0 0 6 2 0 3 0 1 0]\n",

        "P15 [2 0 0 4 1 0 4 0 1 0]\n",

        "P16 [2 0 0 9 2 0 4 0 2 0]\n",

        "P17 [2 0 0 3 1 0 3 0 1 0]\n",

        "P18 [ 4  0  0 12  4  0  4  0  4  0]\n",

        "P19 [ 5  3  1 20  2  5  2  3  1 25]\n",

        "P20 [ 4  2  1 12  2  6  4  5  1  3]\n",

        "P21 [1 1 1 6 1 3 1 2 1 3]\n",

        "P22 [3 3 1 1 2 1 2 4 1 1]\n",

        "P23 [ 3  2  1 10  1  5  1  2  1 10]\n",

        "P24 [1 0 0 2 2 0 5 0 4 0]\n",

        "P25 [1 0 0 2 3 0 4 0 4 0]\n",

        "P26 [ 1.   0.   0.   2.5  3.   0.   4.   0.   4.   0. ]\n",

        "P27 [ 4.   0.   0.   2.5  5.   0.   5.   0.   2.   0. ]\n",

        "P28 [ 2.   3.   1.   2.5  1.   7.5  1.   3.   2.   5. ]\n",

        "P29 [ 3.   3.   3.   7.5  3.   5.   3.   2.   3.   2.5]\n",

        "P30 [ 5  0  0 25  5  0  4  0  4  0]\n",

        "P31 [ 3  0  0 12  1  0  5  0  5  0]\n",

        "P32 [ 4  0  0 10  3  0  2  0  5  0]\n",

        "P33 [5 0 0 6 2 0 2 0 3 0]\n",

        "P34 [ 5  0  0 18  3  0  3  0  4  0]\n",

        "P35 [ 4  0  0 12  4  0  5  0  5  0]\n",

        "P36 [ 3  0  0 12  3  0  4  0  4  0]\n",

        "P37 [4 0 0 6 3 0 4 0 5 0]\n",

        "revenue [ 5653753.  6923131.  2055379.  2675511.  4316715.  5017319.  5166635.\n",

        "  4491607.  4952497.  5444227.]\n",

        "day [17 14  9  2  9 12 11 21 28 16]\n",

        "month [ 7  2  3  2  5  2 10  6  8 11]\n",

        "year [1999 2008 2013 2012 2009 2010 2010 2011 2010 2011]\n",

        "weekday [5 3 5 3 5 4 0 1 5 2]\n",

        "City2 [ 1  1 -1 -1 -1  1  1  1 -1 -1]\n",

        "cg [ 1  1 -1 -1 -1  1  1  1 -1 -1]\n",

        "tp [0 1 0 0 0 1 0 0 0 0]\n",

        "cp1 [ 5.36        3.52631579  3.33333333  6.          3.          3.52631579\n",

        "  5.36        5.36        1.          6.        ]\n",

        "cod [ 2007.56        2008.73684211  2009.33333333  2012.          2009.\n",

        "  2008.73684211  2007.56        2007.56        2010.          2011.        ]\n"

       ]

      }

     ],

     "prompt_number": 122

    },

    {

     "cell_type": "code",

     "collapsed": false,

     "input": [

      "import sklearn\n",

      "from sklearn import ensemble\n",

      "from sklearn import linear_model\n",

      "from sklearn.ensemble import GradientBoostingRegressor\n",

      "\n",

      "\n",

      "def runtest(data2, clf, nfolds):\n",

      "    a = data2['revenue'].values*0\n",

      "    for jfold in range(nfolds):\n",

      "        # \u043f\u043e\u0434\u0433\u043e\u0442\u043e\u0432\u0438\u0442\u044c \u043e\u0431\u0443\u0447\u0435\u043d\u0438\u0435 \u0438 \u043a\u043e\u043d\u0442\u0440\u043e\u043b\u044c\n",

      "        itest = data2.index % nfolds == jfold\n",

      "        test = data2[itest]\n",

      "        ytest = test['revenue']\n",

      "        test = test[test.columns - ['revenue']]\n",

      "        train = data2[~itest]\n",

      "        ytrain = train['revenue']\n",

      "        train = train[train.columns - ['revenue']]\n",

      "        clf.fit(train, ytrain)\n",

      "        a[itest] = clf.predict(test)\n",

      "    return (a)\n",

      "\n",

      "# \u043f\u0435\u0440\u0435\u0431\u043e\u0440 \u0432\u0441\u0435\u0445 \u0444\u043e\u043b\u0434\u043e\u0432\n",

      "clf = sklearn.ensemble.RandomForestRegressor(n_estimators = 200, \\\n",

      "                                             max_features = 20)\n",

      "\n",

      "models = [sklearn.ensemble.RandomForestRegressor(n_estimators = 200, \\\n",

      "                                             max_features = 20), \\\n",

      "          linear_model.Ridge (alpha = .5), \\\n",

      "          GradientBoostingRegressor(n_estimators=100, learning_rate=0.1,..     max_depth=1, random_state=0, loss='ls').fit(X_train, y_train)\n",

      "          \n",

      "          ]\n",

      "y = data2['revenue'].values\n",

      "\n",

      "a = runtest(data2, clf, 10)\n",

      "    \n",

      "print '\u0421\u0440\u0435\u0434\u043d\u0435\u0435 \u043e\u0442\u043a\u043b\u043e\u043d\u0435\u043d\u0438\u0435:' + str(np.abs((a-y)).mean())\n",

      "print '\u0421\u041a-\u043e\u0442\u043a\u043b\u043e\u043d\u0435\u043d\u0438\u0435:' + str(np.sqrt((((a-y))**2).mean()))"

     ],

     "language": "python",

     "metadata": {},

     "outputs": [

      {

       "output_type": "stream",

       "stream": "stdout",

       "text": [

        "\u0421\u0440\u0435\u0434\u043d\u0435\u0435 \u043e\u0442\u043a\u043b\u043e\u043d\u0435\u043d\u0438\u0435:1628628.98255\n",

        "\u0421\u041a-\u043e\u0442\u043a\u043b\u043e\u043d\u0435\u043d\u0438\u0435:2426645.30822\n"

       ]

      }

     ],

     "prompt_number": 135

    }

   ],

   "metadata": {}

  }

 ]

}
