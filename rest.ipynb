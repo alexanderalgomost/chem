{

 "metadata": {

  "name": "",

  "signature": "sha256:bf6d503fc5c3761d7a034b4e73b8f2986041133b7cb25755c13dc83c3923cbf7"

 },

 "nbformat": 3,

 "nbformat_minor": 0,

 "worksheets": [

  {

   "cells": [

    {

     "cell_type": "code",

     "collapsed": false,

     "input": [

      "# \u043f\u043e\u0434\u0433\u0440\u0443\u0436\u0430\u0435\u043c \u0432\u0441\u0435 \u043d\u0443\u0436\u043d\u044b\u0435 \u043f\u0430\u043a\u0435\u0442\u044b\n",

      "import pandas as pd\n",

      "import numpy as np\n",

      "\n",

      "\n",

      "# \u0434\u043b\u044f \u0432\u0441\u0442\u0440\u043e\u0435\u043d\u043d\u044b\u0445 \u043a\u0430\u0440\u0442\u0438\u043d\u043e\u043a\n",

      "%pylab inline\n",

      "# \u0447\u0443\u0442\u044c \u043f\u043e\u043a\u0440\u0430\u0441\u0438\u0432\u0448\u0435 \u043a\u0430\u0440\u0442\u0438\u043d\u043a\u0438:\n",

      "pd.set_option('display.mpl_style', 'default')\n",

      "figsize(10, 3)"

     ],

     "language": "python",

     "metadata": {},

     "outputs": [

      {

       "output_type": "stream",

       "stream": "stdout",

       "text": [

        "Populating the interactive namespace from numpy and matplotlib\n"

       ]

      }

     ],

     "prompt_number": 1

    },

    {

     "cell_type": "code",

     "collapsed": false,

     "input": [

      "data = pd.read_csv('D:\\\\Competitions\\\\Restaurant\\\\train.csv')\n",

      "data[:5]"

     ],

     "language": "python",

     "metadata": {},

     "outputs": [

      {

       "html": [

        "<div style=\"max-height:1000px;max-width:1500px;overflow:auto;\">\n",

        "<table border=\"1\" class=\"dataframe\">\n",

        "  <thead>\n",

        "    <tr style=\"text-align: right;\">\n",

        "      <th></th>\n",

        "      <th>Id</th>\n",

        "      <th>Open Date</th>\n",

        "      <th>City</th>\n",

        "      <th>City Group</th>\n",

        "      <th>Type</th>\n",

        "      <th>P1</th>\n",

        "      <th>P2</th>\n",

        "      <th>P3</th>\n",

        "      <th>P4</th>\n",

        "      <th>P5</th>\n",

        "      <th>...</th>\n",

        "      <th>P29</th>\n",

        "      <th>P30</th>\n",

        "      <th>P31</th>\n",

        "      <th>P32</th>\n",

        "      <th>P33</th>\n",

        "      <th>P34</th>\n",

        "      <th>P35</th>\n",

        "      <th>P36</th>\n",

        "      <th>P37</th>\n",

        "      <th>revenue</th>\n",

        "    </tr>\n",

        "  </thead>\n",

        "  <tbody>\n",

        "    <tr>\n",

        "      <th>0</th>\n",

        "      <td> 0</td>\n",

        "      <td> 07/17/1999</td>\n",

        "      <td>   \u0130stanbul</td>\n",

        "      <td> Big Cities</td>\n",

        "      <td> IL</td>\n",

        "      <td> 4</td>\n",

        "      <td> 5.0</td>\n",

        "      <td> 4</td>\n",

        "      <td> 4</td>\n",

        "      <td> 2</td>\n",

        "      <td>...</td>\n",

        "      <td> 3.0</td>\n",

        "      <td>  5</td>\n",

        "      <td>  3</td>\n",

        "      <td>  4</td>\n",

        "      <td> 5</td>\n",

        "      <td>  5</td>\n",

        "      <td>  4</td>\n",

        "      <td>  3</td>\n",

        "      <td> 4</td>\n",

        "      <td> 5653753</td>\n",

        "    </tr>\n",

        "    <tr>\n",

        "      <th>1</th>\n",

        "      <td> 1</td>\n",

        "      <td> 02/14/2008</td>\n",

        "      <td>     Ankara</td>\n",

        "      <td> Big Cities</td>\n",

        "      <td> FC</td>\n",

        "      <td> 4</td>\n",

        "      <td> 5.0</td>\n",

        "      <td> 4</td>\n",

        "      <td> 4</td>\n",

        "      <td> 1</td>\n",

        "      <td>...</td>\n",

        "      <td> 3.0</td>\n",

        "      <td>  0</td>\n",

        "      <td>  0</td>\n",

        "      <td>  0</td>\n",

        "      <td> 0</td>\n",

        "      <td>  0</td>\n",

        "      <td>  0</td>\n",

        "      <td>  0</td>\n",

        "      <td> 0</td>\n",

        "      <td> 6923131</td>\n",

        "    </tr>\n",

        "    <tr>\n",

        "      <th>2</th>\n",

        "      <td> 2</td>\n",

        "      <td> 03/09/2013</td>\n",

        "      <td> Diyarbak\u0131r</td>\n",

        "      <td>      Other</td>\n",

        "      <td> IL</td>\n",

        "      <td> 2</td>\n",

        "      <td> 4.0</td>\n",

        "      <td> 2</td>\n",

        "      <td> 5</td>\n",

        "      <td> 2</td>\n",

        "      <td>...</td>\n",

        "      <td> 3.0</td>\n",

        "      <td>  0</td>\n",

        "      <td>  0</td>\n",

        "      <td>  0</td>\n",

        "      <td> 0</td>\n",

        "      <td>  0</td>\n",

        "      <td>  0</td>\n",

        "      <td>  0</td>\n",

        "      <td> 0</td>\n",

        "      <td> 2055379</td>\n",

        "    </tr>\n",

        "    <tr>\n",

        "      <th>3</th>\n",

        "      <td> 3</td>\n",

        "      <td> 02/02/2012</td>\n",

        "      <td>      Tokat</td>\n",

        "      <td>      Other</td>\n",

        "      <td> IL</td>\n",

        "      <td> 6</td>\n",

        "      <td> 4.5</td>\n",

        "      <td> 6</td>\n",

        "      <td> 6</td>\n",

        "      <td> 4</td>\n",

        "      <td>...</td>\n",

        "      <td> 7.5</td>\n",

        "      <td> 25</td>\n",

        "      <td> 12</td>\n",

        "      <td> 10</td>\n",

        "      <td> 6</td>\n",

        "      <td> 18</td>\n",

        "      <td> 12</td>\n",

        "      <td> 12</td>\n",

        "      <td> 6</td>\n",

        "      <td> 2675511</td>\n",

        "    </tr>\n",

        "    <tr>\n",

        "      <th>4</th>\n",

        "      <td> 4</td>\n",

        "      <td> 05/09/2009</td>\n",

        "      <td>  Gaziantep</td>\n",

        "      <td>      Other</td>\n",

        "      <td> IL</td>\n",

        "      <td> 3</td>\n",

        "      <td> 4.0</td>\n",

        "      <td> 3</td>\n",

        "      <td> 4</td>\n",

        "      <td> 2</td>\n",

        "      <td>...</td>\n",

        "      <td> 3.0</td>\n",

        "      <td>  5</td>\n",

        "      <td>  1</td>\n",

        "      <td>  3</td>\n",

        "      <td> 2</td>\n",

        "      <td>  3</td>\n",

        "      <td>  4</td>\n",

        "      <td>  3</td>\n",

        "      <td> 3</td>\n",

        "      <td> 4316715</td>\n",

        "    </tr>\n",

        "  </tbody>\n",

        "</table>\n",

        "<p>5 rows \u00d7 43 columns</p>\n",

        "</div>"

       ],

       "metadata": {},

       "output_type": "pyout",

       "prompt_number": 2,

       "text": [

        "   Id   Open Date        City  City Group Type  P1   P2  P3  P4  P5 ...  P29  \\\n",

        "0   0  07/17/1999    \u0130stanbul  Big Cities   IL   4  5.0   4   4   2 ...  3.0   \n",

        "1   1  02/14/2008      Ankara  Big Cities   FC   4  5.0   4   4   1 ...  3.0   \n",

        "2   2  03/09/2013  Diyarbak\u0131r       Other   IL   2  4.0   2   5   2 ...  3.0   \n",

        "3   3  02/02/2012       Tokat       Other   IL   6  4.5   6   6   4 ...  7.5   \n",

        "4   4  05/09/2009   Gaziantep       Other   IL   3  4.0   3   4   2 ...  3.0   \n",

        "\n",

        "   P30  P31  P32  P33  P34  P35  P36  P37  revenue  \n",

        "0    5    3    4    5    5    4    3    4  5653753  \n",

        "1    0    0    0    0    0    0    0    0  6923131  \n",

        "2    0    0    0    0    0    0    0    0  2055379  \n",

        "3   25   12   10    6   18   12   12    6  2675511  \n",

        "4    5    1    3    2    3    4    3    3  4316715  \n",

        "\n",

        "[5 rows x 43 columns]"

       ]

      }

     ],

     "prompt_number": 2

    },

    {

     "cell_type": "code",

     "collapsed": false,

     "input": [

      "data['day'] = data['Open Date'].apply(lambda x: int(x[3:5]))\n",

      "data['month'] = data['Open Date'].apply(lambda x: int(x[0:2]))\n",

      "data['year'] = data['Open Date'].apply(lambda x: int(x[6:]))\n",

      "#data['weekday'] = data['Open Date'].apply(lambda x: datetime.datetime.strptime(x, '%m/%d/%Y').strftime('%a')) \u0414\u0440\u0443\u0433\u043e\u0439 \u0441\u043f\u043e\u0441\u043e\u0431\n",

      "data['weekday'] = data['Open Date'].apply(lambda x: datetime.datetime.strptime(x, '%m/%d/%Y').weekday())\n",

      "data['Open Date'] = pd.to_datetime(data['Open Date'])\n",

      "\n",

      "st = {'Big Cities':1, 'Other':-1}\n",

      "data['cg'] = data['City Group'].apply(lambda x: st[x])\n",

      "\n",

      "data['TypeDT'] = np.where(data['Type']=='DT', 1, 0)\n",

      "data['TypeIL'] = np.where(data['Type']=='IL', 1, 0)\n",

      "data['TypeFC'] = np.where(data['Type']=='FC', 1, 0)\n",

      "\n",

      "data[:5]"

     ],

     "language": "python",

     "metadata": {},

     "outputs": [

      {

       "html": [

        "<div style=\"max-height:1000px;max-width:1500px;overflow:auto;\">\n",

        "<table border=\"1\" class=\"dataframe\">\n",

        "  <thead>\n",

        "    <tr style=\"text-align: right;\">\n",

        "      <th></th>\n",

        "      <th>Id</th>\n",

        "      <th>Open Date</th>\n",

        "      <th>City</th>\n",

        "      <th>City Group</th>\n",

        "      <th>Type</th>\n",

        "      <th>P1</th>\n",

        "      <th>P2</th>\n",

        "      <th>P3</th>\n",

        "      <th>P4</th>\n",

        "      <th>P5</th>\n",

        "      <th>...</th>\n",

        "      <th>P37</th>\n",

        "      <th>revenue</th>\n",

        "      <th>day</th>\n",

        "      <th>month</th>\n",

        "      <th>year</th>\n",

        "      <th>weekday</th>\n",

        "      <th>cg</th>\n",

        "      <th>TypeDT</th>\n",

        "      <th>TypeIL</th>\n",

        "      <th>TypeFC</th>\n",

        "    </tr>\n",

        "  </thead>\n",

        "  <tbody>\n",

        "    <tr>\n",

        "      <th>0</th>\n",

        "      <td> 0</td>\n",

        "      <td>1999-07-17</td>\n",

        "      <td>   \u0130stanbul</td>\n",

        "      <td> Big Cities</td>\n",

        "      <td> IL</td>\n",

        "      <td> 4</td>\n",

        "      <td> 5.0</td>\n",

        "      <td> 4</td>\n",

        "      <td> 4</td>\n",

        "      <td> 2</td>\n",

        "      <td>...</td>\n",

        "      <td> 4</td>\n",

        "      <td> 5653753</td>\n",

        "      <td> 17</td>\n",

        "      <td> 7</td>\n",

        "      <td> 1999</td>\n",

        "      <td> 5</td>\n",

        "      <td> 1</td>\n",

        "      <td> 0</td>\n",

        "      <td> 1</td>\n",

        "      <td> 1</td>\n",

        "    </tr>\n",

        "    <tr>\n",

        "      <th>1</th>\n",

        "      <td> 1</td>\n",

        "      <td>2008-02-14</td>\n",

        "      <td>     Ankara</td>\n",

        "      <td> Big Cities</td>\n",

        "      <td> FC</td>\n",

        "      <td> 4</td>\n",

        "      <td> 5.0</td>\n",

        "      <td> 4</td>\n",

        "      <td> 4</td>\n",

        "      <td> 1</td>\n",

        "      <td>...</td>\n",

        "      <td> 0</td>\n",

        "      <td> 6923131</td>\n",

        "      <td> 14</td>\n",

        "      <td> 2</td>\n",

        "      <td> 2008</td>\n",

        "      <td> 3</td>\n",

        "      <td> 1</td>\n",

        "      <td> 0</td>\n",

        "      <td> 0</td>\n",

        "      <td> 0</td>\n",

        "    </tr>\n",

        "    <tr>\n",

        "      <th>2</th>\n",

        "      <td> 2</td>\n",

        "      <td>2013-03-09</td>\n",

        "      <td> Diyarbak\u0131r</td>\n",

        "      <td>      Other</td>\n",

        "      <td> IL</td>\n",

        "      <td> 2</td>\n",

        "      <td> 4.0</td>\n",

        "      <td> 2</td>\n",

        "      <td> 5</td>\n",

        "      <td> 2</td>\n",

        "      <td>...</td>\n",

        "      <td> 0</td>\n",

        "      <td> 2055379</td>\n",

        "      <td>  9</td>\n",

        "      <td> 3</td>\n",

        "      <td> 2013</td>\n",

        "      <td> 5</td>\n",

        "      <td>-1</td>\n",

        "      <td> 0</td>\n",

        "      <td> 1</td>\n",

        "      <td> 1</td>\n",

        "    </tr>\n",

        "    <tr>\n",

        "      <th>3</th>\n",

        "      <td> 3</td>\n",

        "      <td>2012-02-02</td>\n",

        "      <td>      Tokat</td>\n",

        "      <td>      Other</td>\n",

        "      <td> IL</td>\n",

        "      <td> 6</td>\n",

        "      <td> 4.5</td>\n",

        "      <td> 6</td>\n",

        "      <td> 6</td>\n",

        "      <td> 4</td>\n",

        "      <td>...</td>\n",

        "      <td> 6</td>\n",

        "      <td> 2675511</td>\n",

        "      <td>  2</td>\n",

        "      <td> 2</td>\n",

        "      <td> 2012</td>\n",

        "      <td> 3</td>\n",

        "      <td>-1</td>\n",

        "      <td> 0</td>\n",

        "      <td> 1</td>\n",

        "      <td> 1</td>\n",

        "    </tr>\n",

        "    <tr>\n",

        "      <th>4</th>\n",

        "      <td> 4</td>\n",

        "      <td>2009-05-09</td>\n",

        "      <td>  Gaziantep</td>\n",

        "      <td>      Other</td>\n",

        "      <td> IL</td>\n",

        "      <td> 3</td>\n",

        "      <td> 4.0</td>\n",

        "      <td> 3</td>\n",

        "      <td> 4</td>\n",

        "      <td> 2</td>\n",

        "      <td>...</td>\n",

        "      <td> 3</td>\n",

        "      <td> 4316715</td>\n",

        "      <td>  9</td>\n",

        "      <td> 5</td>\n",

        "      <td> 2009</td>\n",

        "      <td> 5</td>\n",

        "      <td>-1</td>\n",

        "      <td> 0</td>\n",

        "      <td> 1</td>\n",

        "      <td> 1</td>\n",

        "    </tr>\n",

        "  </tbody>\n",

        "</table>\n",

        "<p>5 rows \u00d7 51 columns</p>\n",

        "</div>"

       ],

       "metadata": {},

       "output_type": "pyout",

       "prompt_number": 8,

       "text": [

        "   Id  Open Date        City  City Group Type  P1   P2  P3  P4  P5 ...  P37  \\\n",

        "0   0 1999-07-17    \u0130stanbul  Big Cities   IL   4  5.0   4   4   2 ...    4   \n",

        "1   1 2008-02-14      Ankara  Big Cities   FC   4  5.0   4   4   1 ...    0   \n",

        "2   2 2013-03-09  Diyarbak\u0131r       Other   IL   2  4.0   2   5   2 ...    0   \n",

        "3   3 2012-02-02       Tokat       Other   IL   6  4.5   6   6   4 ...    6   \n",

        "4   4 2009-05-09   Gaziantep       Other   IL   3  4.0   3   4   2 ...    3   \n",

        "\n",

        "   revenue  day  month  year  weekday  cg  TypeDT  TypeIL  TypeFC  \n",

        "0  5653753   17      7  1999        5   1       0       1       1  \n",

        "1  6923131   14      2  2008        3   1       0       0       0  \n",

        "2  2055379    9      3  2013        5  -1       0       1       1  \n",

        "3  2675511    2      2  2012        3  -1       0       1       1  \n",

        "4  4316715    9      5  2009        5  -1       0       1       1  \n",

        "\n",

        "[5 rows x 51 columns]"

       ]

      }

     ],

     "prompt_number": 8

    },

    {

     "cell_type": "code",

     "collapsed": false,

     "input": [

      "data['OpenDateNew'] = (data['Open Date'].values - np.datetime64('1970-01-01T00:00:00Z')) / np.timedelta64(1, 'h')"

     ],

     "language": "python",

     "metadata": {},

     "outputs": [],

     "prompt_number": 107

    },

    {

     "cell_type": "markdown",

     "metadata": {},

     "source": [

      "\u0421\u0440\u0435\u0434\u043d\u0438\u0435 P-\u043f\u0440\u0438\u0437\u043d\u0430\u043a\u0438 \u043f\u043e \u0433\u043e\u0440\u043e\u0434\u0430\u043c \u043a\u043e\u0440\u0440\u0435\u043b\u0438\u0440\u0443\u044e\u0442!"

     ]

    },

    {

     "cell_type": "markdown",

     "metadata": {},

     "source": [

      "\u041d\u0430\u0434\u043e \u043d\u0435 \u0437\u0430\u0431\u044b\u0442\u044c \u0438\u0441\u043f\u043e\u043b\u044c\u0437\u043e\u0432\u0430\u0442\u044c \u0432\u0441\u044e \u0432\u044b\u0431\u043e\u0440\u043a\u0443 \u0434\u043b\u044f \u043e\u0431\u0443\u0447\u0435\u043d\u0438\u044f!!!"

     ]

    },

    {

     "cell_type": "markdown",

     "metadata": {},

     "source": [

      "\u041d\u0435 \u0438\u0441\u043f\u043e\u043b\u044c\u0437\u0443\u044e u'Open Date' !!!"

     ]

    },

    {

     "cell_type": "code",

     "collapsed": false,

     "input": [

      "clms = [u'Id', u'P1', u'P2', u'P3', u'P4', u'P5', u'P6', u'P7', u'P8', \\\n",

      "        u'P9', u'P10', u'P11', u'P12', u'P13', u'P14', u'P15', u'P16', u'P17', u'P18', \\\n",

      "        u'P19', u'P20', u'P21', u'P22', u'P23', u'P24', u'P25', u'P26', u'P27', u'P28', \\\n",

      "        u'P29', u'P30', u'P31', u'P32', u'P33', u'P34', u'P35', u'P36', u'P37', \\\n",

      "        u'day', u'month', u'year', u'weekday', u'cg', u'TypeDT', u'TypeIL', u'TypeFC']\n",

      "\n",

      "data['tmp'] = 1\n",

      "\n",

      "for f in clms:\n",

      "    data['tmp'] = 0.001*np.random.rand(data.shape[0])\n",

      "    data['tmp'] = data['tmp'] + data[f]\n",

      "    st = data.groupby('City')['tmp'].apply(mean)\n",

      "    data['city_' + f] = data['City'].apply(lambda x: st[x]) \n",

      "    st2 = data.groupby('City')[f].apply(mean)\n",

      "    data['city2_' + f] = data[f] - data['City'].apply(lambda x: st2[x])"

     ],

     "language": "python",

     "metadata": {},

     "outputs": [],

     "prompt_number": 112

    },

    {

     "cell_type": "code",

     "collapsed": false,

     "input": [

      "print data.shape\n",

      "data[:5]"

     ],

     "language": "python",

     "metadata": {},

     "outputs": [

      {

       "output_type": "stream",

       "stream": "stdout",

       "text": [

        "(137, 145)\n"

       ]

      },

      {

       "html": [

        "<div style=\"max-height:1000px;max-width:1500px;overflow:auto;\">\n",

        "<table border=\"1\" class=\"dataframe\">\n",

        "  <thead>\n",

        "    <tr style=\"text-align: right;\">\n",

        "      <th></th>\n",

        "      <th>Id</th>\n",

        "      <th>Open Date</th>\n",

        "      <th>City</th>\n",

        "      <th>City Group</th>\n",

        "      <th>Type</th>\n",

        "      <th>P1</th>\n",

        "      <th>P2</th>\n",

        "      <th>P3</th>\n",

        "      <th>P4</th>\n",

        "      <th>P5</th>\n",

        "      <th>...</th>\n",

        "      <th>city2_P36</th>\n",

        "      <th>city2_P37</th>\n",

        "      <th>city2_day</th>\n",

        "      <th>city2_month</th>\n",

        "      <th>city2_year</th>\n",

        "      <th>city2_weekday</th>\n",

        "      <th>city2_cg</th>\n",

        "      <th>city2_TypeDT</th>\n",

        "      <th>city2_TypeIL</th>\n",

        "      <th>city2_TypeFC</th>\n",

        "    </tr>\n",

        "  </thead>\n",

        "  <tbody>\n",

        "    <tr>\n",

        "      <th>0</th>\n",

        "      <td> 0</td>\n",

        "      <td>1999-07-17</td>\n",

        "      <td>   \u0130stanbul</td>\n",

        "      <td> Big Cities</td>\n",

        "      <td> IL</td>\n",

        "      <td> 4</td>\n",

        "      <td> 5.0</td>\n",

        "      <td> 4</td>\n",

        "      <td> 4</td>\n",

        "      <td> 2</td>\n",

        "      <td>...</td>\n",

        "      <td>-0.100000</td>\n",

        "      <td> 2.480000</td>\n",

        "      <td> 2.500000</td>\n",

        "      <td> 0.460000</td>\n",

        "      <td>-8.560000</td>\n",

        "      <td> 2.340000</td>\n",

        "      <td> 0</td>\n",

        "      <td> 0.000000</td>\n",

        "      <td> 0.500000</td>\n",

        "      <td>-0.500000</td>\n",

        "    </tr>\n",

        "    <tr>\n",

        "      <th>1</th>\n",

        "      <td> 1</td>\n",

        "      <td>2008-02-14</td>\n",

        "      <td>     Ankara</td>\n",

        "      <td> Big Cities</td>\n",

        "      <td> FC</td>\n",

        "      <td> 4</td>\n",

        "      <td> 5.0</td>\n",

        "      <td> 4</td>\n",

        "      <td> 4</td>\n",

        "      <td> 1</td>\n",

        "      <td>...</td>\n",

        "      <td>-2.052632</td>\n",

        "      <td>-0.736842</td>\n",

        "      <td>-2.263158</td>\n",

        "      <td>-5.263158</td>\n",

        "      <td>-0.736842</td>\n",

        "      <td> 0.105263</td>\n",

        "      <td> 0</td>\n",

        "      <td>-0.052632</td>\n",

        "      <td>-0.421053</td>\n",

        "      <td> 0.473684</td>\n",

        "    </tr>\n",

        "    <tr>\n",

        "      <th>2</th>\n",

        "      <td> 2</td>\n",

        "      <td>2013-03-09</td>\n",

        "      <td> Diyarbak\u0131r</td>\n",

        "      <td>      Other</td>\n",

        "      <td> IL</td>\n",

        "      <td> 2</td>\n",

        "      <td> 4.0</td>\n",

        "      <td> 2</td>\n",

        "      <td> 5</td>\n",

        "      <td> 2</td>\n",

        "      <td>...</td>\n",

        "      <td> 0.000000</td>\n",

        "      <td> 0.000000</td>\n",

        "      <td>-6.666667</td>\n",

        "      <td>-4.666667</td>\n",

        "      <td> 3.666667</td>\n",

        "      <td>-0.333333</td>\n",

        "      <td> 0</td>\n",

        "      <td> 0.000000</td>\n",

        "      <td> 0.666667</td>\n",

        "      <td>-0.666667</td>\n",

        "    </tr>\n",

        "    <tr>\n",

        "      <th>3</th>\n",

        "      <td> 3</td>\n",

        "      <td>2012-02-02</td>\n",

        "      <td>      Tokat</td>\n",

        "      <td>      Other</td>\n",

        "      <td> IL</td>\n",

        "      <td> 6</td>\n",

        "      <td> 4.5</td>\n",

        "      <td> 6</td>\n",

        "      <td> 6</td>\n",

        "      <td> 4</td>\n",

        "      <td>...</td>\n",

        "      <td> 0.000000</td>\n",

        "      <td> 0.000000</td>\n",

        "      <td> 0.000000</td>\n",

        "      <td> 0.000000</td>\n",

        "      <td> 0.000000</td>\n",

        "      <td> 0.000000</td>\n",

        "      <td> 0</td>\n",

        "      <td> 0.000000</td>\n",

        "      <td> 0.000000</td>\n",

        "      <td> 0.000000</td>\n",

        "    </tr>\n",

        "    <tr>\n",

        "      <th>4</th>\n",

        "      <td> 4</td>\n",

        "      <td>2009-05-09</td>\n",

        "      <td>  Gaziantep</td>\n",

        "      <td>      Other</td>\n",

        "      <td> IL</td>\n",

        "      <td> 3</td>\n",

        "      <td> 4.0</td>\n",

        "      <td> 3</td>\n",

        "      <td> 4</td>\n",

        "      <td> 2</td>\n",

        "      <td>...</td>\n",

        "      <td> 0.000000</td>\n",

        "      <td> 0.000000</td>\n",

        "      <td> 0.000000</td>\n",

        "      <td> 0.000000</td>\n",

        "      <td> 0.000000</td>\n",

        "      <td> 0.000000</td>\n",

        "      <td> 0</td>\n",

        "      <td> 0.000000</td>\n",

        "      <td> 0.000000</td>\n",

        "      <td> 0.000000</td>\n",

        "    </tr>\n",

        "  </tbody>\n",

        "</table>\n",

        "<p>5 rows \u00d7 145 columns</p>\n",

        "</div>"

       ],

       "metadata": {},

       "output_type": "pyout",

       "prompt_number": 114,

       "text": [

        "   Id  Open Date        City  City Group Type  P1   P2  P3  P4  P5 ...  \\\n",

        "0   0 1999-07-17    \u0130stanbul  Big Cities   IL   4  5.0   4   4   2 ...   \n",

        "1   1 2008-02-14      Ankara  Big Cities   FC   4  5.0   4   4   1 ...   \n",

        "2   2 2013-03-09  Diyarbak\u0131r       Other   IL   2  4.0   2   5   2 ...   \n",

        "3   3 2012-02-02       Tokat       Other   IL   6  4.5   6   6   4 ...   \n",

        "4   4 2009-05-09   Gaziantep       Other   IL   3  4.0   3   4   2 ...   \n",

        "\n",

        "   city2_P36  city2_P37  city2_day  city2_month  city2_year  city2_weekday  \\\n",

        "0  -0.100000   2.480000   2.500000     0.460000   -8.560000       2.340000   \n",

        "1  -2.052632  -0.736842  -2.263158    -5.263158   -0.736842       0.105263   \n",

        "2   0.000000   0.000000  -6.666667    -4.666667    3.666667      -0.333333   \n",

        "3   0.000000   0.000000   0.000000     0.000000    0.000000       0.000000   \n",

        "4   0.000000   0.000000   0.000000     0.000000    0.000000       0.000000   \n",

        "\n",

        "   city2_cg  city2_TypeDT  city2_TypeIL  city2_TypeFC  \n",

        "0         0      0.000000      0.500000     -0.500000  \n",

        "1         0     -0.052632     -0.421053      0.473684  \n",

        "2         0      0.000000      0.666667     -0.666667  \n",

        "3         0      0.000000      0.000000      0.000000  \n",

        "4         0      0.000000      0.000000      0.000000  \n",

        "\n",

        "[5 rows x 145 columns]"

       ]

      }

     ],

     "prompt_number": 114

    },

    {

     "cell_type": "code",

     "collapsed": false,

     "input": [

      "data2 = data.copy()\n",

      "del data2['Id']\n",

      "del data2['Open Date']\n",

      "del data2['City']\n",

      "del data2['City Group']\n",

      "del data2['Type']\n",

      "data2[:5]"

     ],

     "language": "python",

     "metadata": {},

     "outputs": [

      {

       "html": [

        "<div style=\"max-height:1000px;max-width:1500px;overflow:auto;\">\n",

        "<table border=\"1\" class=\"dataframe\">\n",

        "  <thead>\n",

        "    <tr style=\"text-align: right;\">\n",

        "      <th></th>\n",

        "      <th>P1</th>\n",

        "      <th>P2</th>\n",

        "      <th>P3</th>\n",

        "      <th>P4</th>\n",

        "      <th>P5</th>\n",

        "      <th>P6</th>\n",

        "      <th>P7</th>\n",

        "      <th>P8</th>\n",

        "      <th>P9</th>\n",

        "      <th>P10</th>\n",

        "      <th>...</th>\n",

        "      <th>city2_P36</th>\n",

        "      <th>city2_P37</th>\n",

        "      <th>city2_day</th>\n",

        "      <th>city2_month</th>\n",

        "      <th>city2_year</th>\n",

        "      <th>city2_weekday</th>\n",

        "      <th>city2_cg</th>\n",

        "      <th>city2_TypeDT</th>\n",

        "      <th>city2_TypeIL</th>\n",

        "      <th>city2_TypeFC</th>\n",

        "    </tr>\n",

        "  </thead>\n",

        "  <tbody>\n",

        "    <tr>\n",

        "      <th>0</th>\n",

        "      <td> 4</td>\n",

        "      <td> 5.0</td>\n",

        "      <td> 4</td>\n",

        "      <td> 4</td>\n",

        "      <td> 2</td>\n",

        "      <td> 2</td>\n",

        "      <td>  5</td>\n",

        "      <td> 4</td>\n",

        "      <td>  5</td>\n",

        "      <td>  5</td>\n",

        "      <td>...</td>\n",

        "      <td>-0.100000</td>\n",

        "      <td> 2.480000</td>\n",

        "      <td> 2.500000</td>\n",

        "      <td> 0.460000</td>\n",

        "      <td>-8.560000</td>\n",

        "      <td> 2.340000</td>\n",

        "      <td> 0</td>\n",

        "      <td> 0.000000</td>\n",

        "      <td> 0.500000</td>\n",

        "      <td>-0.500000</td>\n",

        "    </tr>\n",

        "    <tr>\n",

        "      <th>1</th>\n",

        "      <td> 4</td>\n",

        "      <td> 5.0</td>\n",

        "      <td> 4</td>\n",

        "      <td> 4</td>\n",

        "      <td> 1</td>\n",

        "      <td> 2</td>\n",

        "      <td>  5</td>\n",

        "      <td> 5</td>\n",

        "      <td>  5</td>\n",

        "      <td>  5</td>\n",

        "      <td>...</td>\n",

        "      <td>-2.052632</td>\n",

        "      <td>-0.736842</td>\n",

        "      <td>-2.263158</td>\n",

        "      <td>-5.263158</td>\n",

        "      <td>-0.736842</td>\n",

        "      <td> 0.105263</td>\n",

        "      <td> 0</td>\n",

        "      <td>-0.052632</td>\n",

        "      <td>-0.421053</td>\n",

        "      <td> 0.473684</td>\n",

        "    </tr>\n",

        "    <tr>\n",

        "      <th>2</th>\n",

        "      <td> 2</td>\n",

        "      <td> 4.0</td>\n",

        "      <td> 2</td>\n",

        "      <td> 5</td>\n",

        "      <td> 2</td>\n",

        "      <td> 3</td>\n",

        "      <td>  5</td>\n",

        "      <td> 5</td>\n",

        "      <td>  5</td>\n",

        "      <td>  5</td>\n",

        "      <td>...</td>\n",

        "      <td> 0.000000</td>\n",

        "      <td> 0.000000</td>\n",

        "      <td>-6.666667</td>\n",

        "      <td>-4.666667</td>\n",

        "      <td> 3.666667</td>\n",

        "      <td>-0.333333</td>\n",

        "      <td> 0</td>\n",

        "      <td> 0.000000</td>\n",

        "      <td> 0.666667</td>\n",

        "      <td>-0.666667</td>\n",

        "    </tr>\n",

        "    <tr>\n",

        "      <th>3</th>\n",

        "      <td> 6</td>\n",

        "      <td> 4.5</td>\n",

        "      <td> 6</td>\n",

        "      <td> 6</td>\n",

        "      <td> 4</td>\n",

        "      <td> 4</td>\n",

        "      <td> 10</td>\n",

        "      <td> 8</td>\n",

        "      <td> 10</td>\n",

        "      <td> 10</td>\n",

        "      <td>...</td>\n",

        "      <td> 0.000000</td>\n",

        "      <td> 0.000000</td>\n",

        "      <td> 0.000000</td>\n",

        "      <td> 0.000000</td>\n",

        "      <td> 0.000000</td>\n",

        "      <td> 0.000000</td>\n",

        "      <td> 0</td>\n",

        "      <td> 0.000000</td>\n",

        "      <td> 0.000000</td>\n",

        "      <td> 0.000000</td>\n",

        "    </tr>\n",

        "    <tr>\n",

        "      <th>4</th>\n",

        "      <td> 3</td>\n",

        "      <td> 4.0</td>\n",

        "      <td> 3</td>\n",

        "      <td> 4</td>\n",

        "      <td> 2</td>\n",

        "      <td> 2</td>\n",

        "      <td>  5</td>\n",

        "      <td> 5</td>\n",

        "      <td>  5</td>\n",

        "      <td>  5</td>\n",

        "      <td>...</td>\n",

        "      <td> 0.000000</td>\n",

        "      <td> 0.000000</td>\n",

        "      <td> 0.000000</td>\n",

        "      <td> 0.000000</td>\n",

        "      <td> 0.000000</td>\n",

        "      <td> 0.000000</td>\n",

        "      <td> 0</td>\n",

        "      <td> 0.000000</td>\n",

        "      <td> 0.000000</td>\n",

        "      <td> 0.000000</td>\n",

        "    </tr>\n",

        "  </tbody>\n",

        "</table>\n",

        "<p>5 rows \u00d7 140 columns</p>\n",

        "</div>"

       ],

       "metadata": {},

       "output_type": "pyout",

       "prompt_number": 115,

       "text": [

        "   P1   P2  P3  P4  P5  P6  P7  P8  P9  P10 ...   city2_P36  city2_P37  \\\n",

        "0   4  5.0   4   4   2   2   5   4   5    5 ...   -0.100000   2.480000   \n",

        "1   4  5.0   4   4   1   2   5   5   5    5 ...   -2.052632  -0.736842   \n",

        "2   2  4.0   2   5   2   3   5   5   5    5 ...    0.000000   0.000000   \n",

        "3   6  4.5   6   6   4   4  10   8  10   10 ...    0.000000   0.000000   \n",

        "4   3  4.0   3   4   2   2   5   5   5    5 ...    0.000000   0.000000   \n",

        "\n",

        "   city2_day  city2_month  city2_year  city2_weekday  city2_cg  city2_TypeDT  \\\n",

        "0   2.500000     0.460000   -8.560000       2.340000         0      0.000000   \n",

        "1  -2.263158    -5.263158   -0.736842       0.105263         0     -0.052632   \n",

        "2  -6.666667    -4.666667    3.666667      -0.333333         0      0.000000   \n",

        "3   0.000000     0.000000    0.000000       0.000000         0      0.000000   \n",

        "4   0.000000     0.000000    0.000000       0.000000         0      0.000000   \n",

        "\n",

        "   city2_TypeIL  city2_TypeFC  \n",

        "0      0.500000     -0.500000  \n",

        "1     -0.421053      0.473684  \n",

        "2      0.666667     -0.666667  \n",

        "3      0.000000      0.000000  \n",

        "4      0.000000      0.000000  \n",

        "\n",

        "[5 rows x 140 columns]"

       ]

      }

     ],

     "prompt_number": 115

    },

    {

     "cell_type": "code",

     "collapsed": false,

     "input": [

      "print data2.shape\n",

      "for f in data2.columns:\n",

      "    print f, data2[f][:10].values"

     ],

     "language": "python",

     "metadata": {},

     "outputs": [

      {

       "output_type": "stream",

       "stream": "stdout",

       "text": [

        "(137, 140)\n",

        "P1 [4 4 2 6 3 6 2 4 1 6]\n",

        "P2 [ 5.   5.   4.   4.5  4.   6.   3.   5.   1.   4.5]\n",

        "P3 [ 4.   4.   2.   6.   3.   4.5  4.   4.   4.   6. ]\n",

        "P4 [ 4.   4.   5.   6.   4.   7.5  4.   5.   4.   7.5]\n",

        "P5 [2 1 2 4 2 8 1 2 1 6]\n",

        "P6 [ 2  2  3  4  2 10  5  3  2  4]\n",

        "P7 [ 5  5  5 10  5 10  5  5  1 10]\n",

        "P8 [ 4  5  5  8  5  8  5  4  5 10]\n",

        "P9 [ 5  5  5 10  5  8  5  4  5 10]\n",

        "P10 [ 5  5  5 10  5  8  5  4  5 10]\n",

        "P11 [ 3  1  2  8  2 10  2  4  1  2]\n",

        "P12 [ 5  5  5 10  5  8  5  3  5 10]\n",

        "P13 [ 5.   5.   5.   7.5  5.   6.   5.   4.   5.   7.5]\n",

        "P14 [1 0 0 6 2 0 3 0 1 0]\n",

        "P15 [2 0 0 4 1 0 4 0 1 0]\n",

        "P16 [2 0 0 9 2 0 4 0 2 0]\n",

        "P17 [2 0 0 3 1 0 3 0 1 0]\n",

        "P18 [ 4  0  0 12  4  0  4  0  4  0]\n",

        "P19 [ 5  3  1 20  2  5  2  3  1 25]\n",

        "P20 [ 4  2  1 12  2  6  4  5  1  3]\n",

        "P21 [1 1 1 6 1 3 1 2 1 3]\n",

        "P22 [3 3 1 1 2 1 2 4 1 1]\n",

        "P23 [ 3  2  1 10  1  5  1  2  1 10]\n",

        "P24 [1 0 0 2 2 0 5 0 4 0]\n",

        "P25 [1 0 0 2 3 0 4 0 4 0]\n",

        "P26 [ 1.   0.   0.   2.5  3.   0.   4.   0.   4.   0. ]\n",

        "P27 [ 4.   0.   0.   2.5  5.   0.   5.   0.   2.   0. ]\n",

        "P28 [ 2.   3.   1.   2.5  1.   7.5  1.   3.   2.   5. ]\n",

        "P29 [ 3.   3.   3.   7.5  3.   5.   3.   2.   3.   2.5]\n",

        "P30 [ 5  0  0 25  5  0  4  0  4  0]\n",

        "P31 [ 3  0  0 12  1  0  5  0  5  0]\n",

        "P32 [ 4  0  0 10  3  0  2  0  5  0]\n",

        "P33 [5 0 0 6 2 0 2 0 3 0]\n",

        "P34 [ 5  0  0 18  3  0  3  0  4  0]\n",

        "P35 [ 4  0  0 12  4  0  5  0  5  0]\n",

        "P36 [ 3  0  0 12  3  0  4  0  4  0]\n",

        "P37 [4 0 0 6 3 0 4 0 5 0]\n",

        "revenue [ 5653753.  6923131.  2055379.  2675511.  4316715.  5017319.  5166635.\n",

        "  4491607.  4952497.  5444227.]\n",

        "day [17 14  9  2  9 12 11 21 28 16]\n",

        "month [ 7  2  3  2  5  2 10  6  8 11]\n",

        "year [1999 2008 2013 2012 2009 2010 2010 2011 2010 2011]\n",

        "weekday [5 3 5 3 5 4 0 1 5 2]\n",

        "cg [ 1  1 -1 -1 -1  1  1  1 -1 -1]\n",

        "TypeDT [0 0 0 0 0 0 0 0 0 0]\n",

        "TypeIL [1 0 1 1 1 0 1 1 1 1]\n",

        "TypeFC [0 1 0 0 0 1 0 0 0 0]\n",

        "tmp [  2.24151715e-04   1.00054927e+00   1.93174122e-04   7.20417131e-05\n",

        "   4.54541867e-04   1.00091257e+00   9.02512288e-04   5.77884134e-04\n",

        "   1.28445477e-04   3.97200347e-04]\n",

        "city_Id [ 63.3204672   62.10585121  66.66736818   3.0008094    4.00095129\n",

        "  62.10585121  63.3204672   63.3204672    8.00051536   9.00045484]\n",

        "city_P1 [ 5.36049059  3.52683955  3.33406488  6.00050458  3.00055887  3.52683955\n",

        "  5.36049059  5.36049059  1.00003222  6.0007202 ]\n",

        "city_P2 [ 5.22043286  4.42148976  4.6672397   4.50078908  4.00004427  4.42148976\n",

        "  5.22043286  5.22043286  1.00031956  4.50060586]\n",

        "city_P3 [ 4.52046462  4.07949105  2.00023007  6.00067511  3.00018239  4.07949105\n",

        "  4.52046462  4.52046462  4.00099625  6.00052114]\n",

        "city_P4 [ 4.64048632  4.73729593  4.66717394  6.00057401  4.00090988  4.73729593\n",

        "  4.64048632  4.64048632  4.00084036  7.50056832]\n",

        "city_P5 [ 1.78050846  2.78997072  2.0003788   4.00034645  2.00012958  2.78997072\n",

        "  1.78050846  1.78050846  1.00084142  6.00037162]\n",

        "city_P6 [ 4.52045565  3.94786652  2.33388132  4.00036186  2.00024891  3.94786652\n",

        "  4.52045565  4.52045565  2.0005199   4.00026163]\n",

        "city_P7 [  6.12054412   5.36900502   5.00041056  10.00064864   5.00012167\n",

        "   5.36900502   6.12054412   6.12054412   1.00071671  10.00056881]\n",

        "city_P8 [  5.5205159    5.00051329   4.33382549   8.00030026   5.00057048\n",

        "   5.00051329   5.5205159    5.5205159    5.00093717  10.00048372]\n",

        "city_P9 [  5.72049554   5.21103592   4.33383606  10.00072952   5.00007595\n",

        "   5.21103592   5.72049554   5.72049554   5.00022089  10.0003695 ]\n",

        "city_P10 [  5.68054066   5.26379647   4.33398797  10.00075602   5.00090641\n",

        "   5.26379647   5.68054066   5.68054066   5.00060086  10.0003316 ]\n",

        "city_P11 [ 3.46045157  3.78995515  2.66719718  8.00094438  2.00013418  3.78995515\n",

        "  3.46045157  3.46045157  1.00013723  2.00098776]\n",

        "city_P12 [  5.50053434   4.89519926   4.33382368  10.00086238   5.00038835\n",

        "   4.89519926   5.50053434   5.50053434   5.00047165  10.00010168]\n",

        "city_P13 [ 5.12052838  4.92154173  4.33419432  7.50017574  5.00029248  4.92154173\n",

        "  5.12052838  5.12052838  5.00044469  7.50077794]\n",

        "city_P14 [  2.08055327e+00   8.42694645e-01   4.40860764e-04   6.00061537e+00\n",

        "   2.00043618e+00   8.42694645e-01   2.08055327e+00   2.08055327e+00\n",

        "   1.00075651e+00   9.94693073e-04]\n",

        "city_P15 [  2.02049258e+00   8.42634898e-01   7.60883477e-04   4.00005603e+00\n",

        "   1.00076500e+00   8.42634898e-01   2.02049258e+00   2.02049258e+00\n",

        "   1.00001649e+00   7.34158180e-04]\n",

        "city_P16 [  2.72044668e+00   1.68458002e+00   5.20848058e-04   9.00027198e+00\n",

        "   2.00099505e+00   1.68458002e+00   2.72044668e+00   2.72044668e+00\n",

        "   2.00056306e+00   6.07939486e-04]\n",

        "city_P17 [  1.68053042e+00   5.79452891e-01   3.87417715e-04   3.00045955e+00\n",

        "   1.00008944e+00   5.79452891e-01   1.68053042e+00   1.68053042e+00\n",

        "   1.00064583e+00   4.35435641e-04]\n",

        "city_P18 [  2.42054497e+00   2.15840263e+00   5.02369894e-04   1.20007258e+01\n",

        "   4.00004018e+00   2.15840263e+00   2.42054497e+00   2.42054497e+00\n",

        "   4.00098947e+00   2.27939815e-04]\n",

        "city_P19 [  5.94053189   4.42153093   2.66721122  20.00048902   2.00052614\n",

        "   4.42153093   5.94053189   5.94053189   1.00039977  25.00037618]\n",

        "city_P20 [  5.58047496   4.57958378   2.33375113  12.00099513   2.00037529\n",

        "   4.57958378   5.58047496   5.58047496   1.0004096    3.0007062 ]\n",

        "city_P21 [ 2.50049388  2.15843501  1.0003877   6.00007353  1.00073128  2.15843501\n",

        "  2.50049388  2.50049388  1.00039999  3.00035222]\n",

        "city_P22 [ 2.60048914  2.26364991  1.66710028  1.00003347  2.00031577  2.26364991\n",

        "  2.60048914  2.60048914  1.0001887   1.00034124]\n",

        "city_P23 [  3.82046266   3.00043218   2.33396457  10.00063879   1.00013404\n",

        "   3.00043218   3.82046266   3.82046266   1.00047141  10.0009001 ]\n",

        "city_P24 [  2.22049911e+00   7.90036527e-01   5.70832599e-04   2.00098303e+00\n",

        "   2.00009242e+00   7.90036527e-01   2.22049911e+00   2.22049911e+00\n",

        "   4.00052221e+00   1.00433926e-04]\n",

        "city_P25 [  1.96044619e+00   7.90003685e-01   6.50901533e-04   2.00071720e+00\n",

        "   3.00072359e+00   7.90003685e-01   1.96044619e+00   1.96044619e+00\n",

        "   4.00011474e+00   9.83311647e-06]\n",

        "city_P26 [  2.44048374e+00   8.95308529e-01   4.19768962e-04   2.50040110e+00\n",

        "   3.00005051e+00   8.95308529e-01   2.44048374e+00   2.44048374e+00\n",

        "   4.00026466e+00   1.73396856e-04]\n",

        "city_P27 [  1.71049260e+00   5.26779977e-01   3.53391855e-04   2.50034864e+00\n",

        "   5.00013204e+00   5.26779977e-01   1.71049260e+00   1.71049260e+00\n",

        "   2.00090928e+00   3.93911935e-04]\n",

        "city_P28 [ 4.24051313  3.15838984  1.33360937  2.50006065  1.00088103  3.15838984\n",

        "  4.24051313  4.24051313  2.00036641  5.00059815]\n",

        "city_P29 [ 3.23051247  2.84267453  2.66702522  7.50025683  3.00093817  2.84267453\n",

        "  3.23051247  3.23051247  3.00056798  2.50026887]\n",

        "city_P30 [  3.76051181e+00   2.68463774e+00   4.04165857e-04   2.50009556e+01\n",

        "   5.00095882e+00   2.68463774e+00   3.76051181e+00   3.76051181e+00\n",

        "   4.00059000e+00   7.17671732e-04]\n",

        "city_P31 [  2.78059344e+00   2.31639027e+00   5.14936122e-04   1.20008387e+01\n",

        "   1.00018476e+00   2.31639027e+00   2.78059344e+00   2.78059344e+00\n",

        "   5.00097042e+00   1.21121904e-04]\n",

        "city_P32 [  3.60052348e+00   3.15844809e+00   2.10855819e-04   1.00002460e+01\n",

        "   3.00037821e+00   3.15844809e+00   3.60052348e+00   3.60052348e+00\n",

        "   5.00080012e+00   3.39864570e-04]\n",

        "city_P33 [  1.38049013e+00   1.05322744e+00   4.97907872e-04   6.00070300e+00\n",

        "   2.00001077e+00   1.05322744e+00   1.38049013e+00   1.38049013e+00\n",

        "   3.00099188e+00   9.90561752e-04]\n",

        "city_P34 [  3.36052362e+00   2.68481845e+00   4.81058086e-04   1.80008938e+01\n",

        "   3.00081296e+00   2.68481845e+00   3.36052362e+00   3.36052362e+00\n",

        "   4.00004304e+00   3.53468696e-04]\n",

        "city_P35 [  2.50050267e+00   2.21096663e+00   5.10375735e-04   1.20001129e+01\n",

        "   4.00035557e+00   2.21096663e+00   2.50050267e+00   2.50050267e+00\n",

        "   5.00096253e+00   5.64703915e-04]\n",

        "city_P36 [  3.10052857e+00   2.05313419e+00   8.66354511e-04   1.20004692e+01\n",

        "   3.00053387e+00   2.05313419e+00   3.10052857e+00   3.10052857e+00\n",

        "   4.00053898e+00   1.53029803e-04]\n",

        "city_P37 [  1.52053000e+00   7.37389153e-01   4.31068055e-04   6.00015093e+00\n",

        "   3.00097750e+00   7.37389153e-01   1.52053000e+00   1.52053000e+00\n",

        "   5.00050365e+00   6.43995816e-04]\n",

        "city_day [ 14.50054317  16.26361357  15.66734367   2.00071538   9.00040151\n",

        "  16.26361357  14.50054317  14.50054317  28.00029973  16.0002313 ]\n",

        "city_month [  6.54049827   7.26358681   7.66725704   2.00021124   5.00080945\n",

        "   7.26358681   6.54049827   6.54049827   8.00022352  11.0006886 ]\n",

        "city_year [ 2007.56049601  2008.7374208   2009.33373832  2012.00070327  2009.00026381\n",

        "  2008.7374208   2007.56049601  2007.56049601  2010.00048817  2011.00033836]\n",

        "city_weekday [ 2.66052159  2.89534114  5.33370425  3.00041258  5.00049255  2.89534114\n",

        "  2.66052159  2.66052159  5.00076238  2.00001344]\n",

        "city_cg [ 1.0005034   1.00039766 -0.99942208 -0.99989562 -0.99981229  1.00039766\n",

        "  1.0005034   1.0005034  -0.9990331  -0.99998551]\n",

        "city_TypeDT [ 0.00048145  0.0530834   0.00047851  0.00098755  0.00065962  0.0530834\n",

        "  0.00048145  0.00048145  0.00042683  0.00028891]\n",

        "city_TypeIL [ 0.50053504  0.42157922  0.3338423   1.00044883  1.00045626  0.42157922\n",

        "  0.50053504  0.50053504  1.00011482  1.00077138]\n",

        "city_TypeFC [  5.00546938e-01   5.26804927e-01   6.67025250e-01   7.20417131e-05\n",

        "   4.54541867e-04   5.26804927e-01   5.00546938e-01   5.00546938e-01\n",

        "   1.28445477e-04   3.97200347e-04]\n",

        "OpenDateNew [ 258936.  334152.  378552.  368928.  344952.  351648.  357432.  363504.\n",

        "  356376.  367056.]\n",

        "city2_Id [-63.32       -61.10526316 -64.66666667   0.           0.         -57.10526316\n",

        " -57.32       -56.32         0.           0.        ]\n",

        "city2_P1 [-1.36        0.47368421 -1.33333333  0.          0.          2.47368421\n",

        " -3.36       -1.36        0.          0.        ]\n",

        "city2_P2 [-0.22        0.57894737 -0.66666667  0.          0.          1.57894737\n",

        " -2.22       -0.22        0.          0.        ]\n",

        "city2_P3 [-0.52       -0.07894737  0.          0.          0.          0.42105263\n",

        " -0.52       -0.52        0.          0.        ]\n",

        "city2_P4 [-0.64       -0.73684211  0.33333333  0.          0.          2.76315789\n",

        " -0.64        0.36        0.          0.        ]\n",

        "city2_P5 [ 0.22       -1.78947368  0.          0.          0.          5.21052632\n",

        " -0.78        0.22        0.          0.        ]\n",

        "city2_P6 [-2.52       -1.94736842  0.66666667  0.          0.          6.05263158\n",

        "  0.48       -1.52        0.          0.        ]\n",

        "city2_P7 [-1.12       -0.36842105  0.          0.          0.          4.63157895\n",

        " -1.12       -1.12        0.          0.        ]\n",

        "city2_P8 [-1.52        0.          0.66666667  0.          0.          3.         -0.52\n",

        " -1.52        0.          0.        ]\n",

        "city2_P9 [-0.72       -0.21052632  0.66666667  0.          0.          2.78947368\n",

        " -0.72       -1.72        0.          0.        ]\n",

        "city2_P10 [-0.68       -0.26315789  0.66666667  0.          0.          2.73684211\n",

        " -0.68       -1.68        0.          0.        ]\n",

        "city2_P11 [-0.46       -2.78947368 -0.66666667  0.          0.          6.21052632\n",

        " -1.46        0.54        0.          0.        ]\n",

        "city2_P12 [-0.5         0.10526316  0.66666667  0.          0.          3.10526316\n",

        " -0.5        -2.5         0.          0.        ]\n",

        "city2_P13 [-0.12        0.07894737  0.66666667  0.          0.          1.07894737\n",

        " -0.12       -1.12        0.          0.        ]\n",

        "city2_P14 [-1.08       -0.84210526  0.          0.          0.         -0.84210526\n",

        "  0.92       -2.08        0.          0.        ]\n",

        "city2_P15 [-0.02       -0.84210526  0.          0.          0.         -0.84210526\n",

        "  1.98       -2.02        0.          0.        ]\n",

        "city2_P16 [-0.72       -1.68421053  0.          0.          0.         -1.68421053\n",

        "  1.28       -2.72        0.          0.        ]\n",

        "city2_P17 [ 0.32       -0.57894737  0.          0.          0.         -0.57894737\n",

        "  1.32       -1.68        0.          0.        ]\n",

        "city2_P18 [ 1.58       -2.15789474  0.          0.          0.         -2.15789474\n",

        "  1.58       -2.42        0.          0.        ]\n",

        "city2_P19 [-0.94       -1.42105263 -1.66666667  0.          0.          0.57894737\n",

        " -3.94       -2.94        0.          0.        ]"

       ]

      },

      {

       "output_type": "stream",

       "stream": "stdout",

       "text": [

        "\n",

        "city2_P20 [-1.58       -2.57894737 -1.33333333  0.          0.          1.42105263\n",

        " -1.58       -0.58        0.          0.        ]\n",

        "city2_P21 [-1.5        -1.15789474  0.          0.          0.          0.84210526\n",

        " -1.5        -0.5         0.          0.        ]\n",

        "city2_P22 [ 0.4         0.73684211 -0.66666667  0.          0.         -1.26315789\n",

        " -0.6         1.4         0.          0.        ]\n",

        "city2_P23 [-0.82       -1.         -1.33333333  0.          0.          2.         -2.82\n",

        " -1.82        0.          0.        ]\n",

        "city2_P24 [-1.22       -0.78947368  0.          0.          0.         -0.78947368\n",

        "  2.78       -2.22        0.          0.        ]\n",

        "city2_P25 [-0.96       -0.78947368  0.          0.          0.         -0.78947368\n",

        "  2.04       -1.96        0.          0.        ]\n",

        "city2_P26 [-1.44       -0.89473684  0.          0.          0.         -0.89473684\n",

        "  1.56       -2.44        0.          0.        ]\n",

        "city2_P27 [ 2.29       -0.52631579  0.          0.          0.         -0.52631579\n",

        "  3.29       -1.71        0.          0.        ]\n",

        "city2_P28 [-2.24       -0.15789474 -0.33333333  0.          0.          4.34210526\n",

        " -3.24       -1.24        0.          0.        ]\n",

        "city2_P29 [-0.23        0.15789474  0.33333333  0.          0.          2.15789474\n",

        " -0.23       -1.23        0.          0.        ]\n",

        "city2_P30 [ 1.24       -2.68421053  0.          0.          0.         -2.68421053\n",

        "  0.24       -3.76        0.          0.        ]\n",

        "city2_P31 [ 0.22       -2.31578947  0.          0.          0.         -2.31578947\n",

        "  2.22       -2.78        0.          0.        ]\n",

        "city2_P32 [ 0.4        -3.15789474  0.          0.          0.         -3.15789474\n",

        " -1.6        -3.6         0.          0.        ]\n",

        "city2_P33 [ 3.62       -1.05263158  0.          0.          0.         -1.05263158\n",

        "  0.62       -1.38        0.          0.        ]\n",

        "city2_P34 [ 1.64       -2.68421053  0.          0.          0.         -2.68421053\n",

        " -0.36       -3.36        0.          0.        ]\n",

        "city2_P35 [ 1.5        -2.21052632  0.          0.          0.         -2.21052632\n",

        "  2.5        -2.5         0.          0.        ]\n",

        "city2_P36 [-0.1        -2.05263158  0.          0.          0.         -2.05263158\n",

        "  0.9        -3.1         0.          0.        ]\n",

        "city2_P37 [ 2.48       -0.73684211  0.          0.          0.         -0.73684211\n",

        "  2.48       -1.52        0.          0.        ]\n",

        "city2_day [ 2.5        -2.26315789 -6.66666667  0.          0.         -4.26315789\n",

        " -3.5         6.5         0.          0.        ]\n",

        "city2_month [ 0.46       -5.26315789 -4.66666667  0.          0.         -5.26315789\n",

        "  3.46       -0.54        0.          0.        ]\n",

        "city2_year [-8.56       -0.73684211  3.66666667  0.          0.          1.26315789\n",

        "  2.44        3.44        0.          0.        ]\n",

        "city2_weekday [ 2.34        0.10526316 -0.33333333  0.          0.          1.10526316\n",

        " -2.66       -1.66        0.          0.        ]\n",

        "city2_cg [ 0.  0.  0.  0.  0.  0.  0.  0.  0.  0.]\n",

        "city2_TypeDT [ 0.         -0.05263158  0.          0.          0.         -0.05263158\n",

        "  0.          0.          0.          0.        ]\n",

        "city2_TypeIL [ 0.5        -0.42105263  0.66666667  0.          0.         -0.42105263\n",

        "  0.5         0.5         0.          0.        ]\n",

        "city2_TypeFC [-0.5         0.47368421 -0.66666667  0.          0.          0.47368421\n",

        " -0.5        -0.5         0.          0.        ]\n"

       ]

      }

     ],

     "prompt_number": 116

    },

    {

     "cell_type": "code",

     "collapsed": false,

     "input": [

      "import sklearn\n",

      "from sklearn import ensemble\n",

      "from sklearn import linear_model\n",

      "from sklearn.ensemble import GradientBoostingRegressor\n",

      "\n",

      "def runtest(data2, clf, nfolds):\n",

      "    a = data2['revenue'].values*0\n",

      "    for jfold in range(nfolds):\n",

      "        # \u043f\u043e\u0434\u0433\u043e\u0442\u043e\u0432\u0438\u0442\u044c \u043e\u0431\u0443\u0447\u0435\u043d\u0438\u0435 \u0438 \u043a\u043e\u043d\u0442\u0440\u043e\u043b\u044c\n",

      "        itest = (data2.index % nfolds) == jfold\n",

      "        test = data2[itest]\n",

      "        ytest = test['revenue']\n",

      "        test = test[test.columns - ['revenue']]\n",

      "        train = data2[~itest]\n",

      "        ytrain = train['revenue']\n",

      "        train = train[train.columns - ['revenue']]\n",

      "        clf.fit(train, ytrain)\n",

      "        a[itest] = clf.predict(test)\n",

      "    return (a)"

     ],

     "language": "python",

     "metadata": {},

     "outputs": [],

     "prompt_number": 28

    },

    {

     "cell_type": "code",

     "collapsed": false,

     "input": [

      "# \u043f\u0435\u0440\u0435\u0431\u043e\u0440 \u0432\u0441\u0435\u0445 \u0444\u043e\u043b\u0434\u043e\u0432\n",

      "clf = sklearn.ensemble.RandomForestRegressor(n_estimators = 200, \\\n",

      "                                             max_features = 20)\n",

      "\n",

      "models = [sklearn.ensemble.RandomForestRegressor(n_estimators = 200, \\\n",

      "                                             max_features = 20), \\\n",

      "          linear_model.Ridge (alpha = .5), \\\n",

      "          GradientBoostingRegressor(n_estimators=100, learning_rate=0.1,\\\n",

      "                                    max_depth=1, random_state=0, loss='ls')\n",

      "          \n",

      "          ]\n",

      "y = data2['revenue'].values\n",

      "\n",

      "for clf in models:\n",

      "    a = runtest(data2, clf, 10)\n",

      "    print clf\n",

      "    print '\u0421\u041a-\u043e\u0442\u043a\u043b\u043e\u043d\u0435\u043d\u0438\u0435:' + str(np.sqrt((((a-y))**2).mean()))"

     ],

     "language": "python",

     "metadata": {},

     "outputs": [

      {

       "output_type": "stream",

       "stream": "stdout",

       "text": [

        "RandomForestRegressor(bootstrap=True, compute_importances=None, criterion=mse,\n",

        "           max_depth=None, max_features=20, min_density=None,\n",

        "           min_samples_leaf=1, min_samples_split=2, n_estimators=200,\n",

        "           n_jobs=1, oob_score=False, random_state=None, verbose=0)\n",

        "\u0421\u041a-\u043e\u0442\u043a\u043b\u043e\u043d\u0435\u043d\u0438\u0435:2455022.19611\n",

        "Ridge(alpha=0.5, copy_X=True, fit_intercept=True, max_iter=None,\n",

        "   normalize=False, solver=auto, tol=0.001)\n",

        "\u0421\u041a-\u043e\u0442\u043a\u043b\u043e\u043d\u0435\u043d\u0438\u0435:3408420.12791\n",

        "GradientBoostingRegressor(alpha=0.9, init=None, learning_rate=0.1, loss=ls,\n",

        "             max_depth=1, max_features=None, min_samples_leaf=1,\n",

        "             min_samples_split=2, n_estimators=100, random_state=0,\n",

        "             subsample=1.0, verbose=0)"

       ]

      },

      {

       "output_type": "stream",

       "stream": "stdout",

       "text": [

        "\n",

        "\u0421\u041a-\u043e\u0442\u043a\u043b\u043e\u043d\u0435\u043d\u0438\u0435:2628192.05001\n"

       ]

      }

     ],

     "prompt_number": 54

    },

    {

     "cell_type": "code",

     "collapsed": false,

     "input": [

      "# \u0441\u043a\u043e\u043b\u044c\u043a\u043e \u0434\u0435\u0440\u0435\u0432\u044c\u0435\u0432 \u043d\u0430\u0434\u043e\n",

      "y = data2['revenue'].values\n",

      "\n",

      "clf = sklearn.ensemble.RandomForestRegressor(n_estimators = 10, \\\n",

      "                                             max_features = 10, \\\n",

      "                                             min_samples_leaf = 5,\n",

      "                                             bootstrap=True)\n",

      "# max_depth = 10\n",

      "\n",

      "suma = 0\n",

      "es = []\n",

      "for i in range(200):\n",

      "    a = runtest(data2, clf, 20)\n",

      "    suma = suma + a\n",

      "    aa = suma/(i+1)\n",

      "    es.append(np.sqrt((((aa-y))**2).mean()))\n",

      "    if i % 10 == 9:\n",

      "        print 'i=' + str(i) + ' \u0421\u041a-\u043e\u0442\u043a\u043b\u043e\u043d\u0435\u043d\u0438\u0435:' + str(np.sqrt((((aa-y))**2).mean()))\n",

      "plot(es)"

     ],

     "language": "python",

     "metadata": {},

     "outputs": [

      {

       "output_type": "stream",

       "stream": "stdout",

       "text": [

        "i=9 \u0421\u041a-\u043e\u0442\u043a\u043b\u043e\u043d\u0435\u043d\u0438\u0435:2391550.53674\n",

        "i=19 \u0421\u041a-\u043e\u0442\u043a\u043b\u043e\u043d\u0435\u043d\u0438\u0435:2397108.98711"

       ]

      },

      {

       "output_type": "stream",

       "stream": "stdout",

       "text": [

        "\n",

        "i=29 \u0421\u041a-\u043e\u0442\u043a\u043b\u043e\u043d\u0435\u043d\u0438\u0435:2394294.34537"

       ]

      },

      {

       "output_type": "stream",

       "stream": "stdout",

       "text": [

        "\n",

        "i=39 \u0421\u041a-\u043e\u0442\u043a\u043b\u043e\u043d\u0435\u043d\u0438\u0435:2393431.20088"

       ]

      },

      {

       "output_type": "stream",

       "stream": "stdout",

       "text": [

        "\n",

        "i=49 \u0421\u041a-\u043e\u0442\u043a\u043b\u043e\u043d\u0435\u043d\u0438\u0435:2396512.6101"

       ]

      },

      {

       "output_type": "stream",

       "stream": "stdout",

       "text": [

        "\n",

        "i=59 \u0421\u041a-\u043e\u0442\u043a\u043b\u043e\u043d\u0435\u043d\u0438\u0435:2389470.57375"

       ]

      },

      {

       "output_type": "stream",

       "stream": "stdout",

       "text": [

        "\n",

        "i=69 \u0421\u041a-\u043e\u0442\u043a\u043b\u043e\u043d\u0435\u043d\u0438\u0435:2390218.63417"

       ]

      },

      {

       "output_type": "stream",

       "stream": "stdout",

       "text": [

        "\n",

        "i=79 \u0421\u041a-\u043e\u0442\u043a\u043b\u043e\u043d\u0435\u043d\u0438\u0435:2392884.83794"

       ]

      },

      {

       "output_type": "stream",

       "stream": "stdout",

       "text": [

        "\n",

        "i=89 \u0421\u041a-\u043e\u0442\u043a\u043b\u043e\u043d\u0435\u043d\u0438\u0435:2392566.07237"

       ]

      },

      {

       "output_type": "stream",

       "stream": "stdout",

       "text": [

        "\n",

        "i=99 \u0421\u041a-\u043e\u0442\u043a\u043b\u043e\u043d\u0435\u043d\u0438\u0435:2392813.27159"

       ]

      },

      {

       "output_type": "stream",

       "stream": "stdout",

       "text": [

        "\n",

        "i=109 \u0421\u041a-\u043e\u0442\u043a\u043b\u043e\u043d\u0435\u043d\u0438\u0435:2393232.86064"

       ]

      },

      {

       "output_type": "stream",

       "stream": "stdout",

       "text": [

        "\n",

        "i=119 \u0421\u041a-\u043e\u0442\u043a\u043b\u043e\u043d\u0435\u043d\u0438\u0435:2393561.13938"

       ]

      },

      {

       "output_type": "stream",

       "stream": "stdout",

       "text": [

        "\n",

        "i=129 \u0421\u041a-\u043e\u0442\u043a\u043b\u043e\u043d\u0435\u043d\u0438\u0435:2394529.83471"

       ]

      },

      {

       "output_type": "stream",

       "stream": "stdout",

       "text": [

        "\n",

        "i=139 \u0421\u041a-\u043e\u0442\u043a\u043b\u043e\u043d\u0435\u043d\u0438\u0435:2392815.49032"

       ]

      },

      {

       "output_type": "stream",

       "stream": "stdout",

       "text": [

        "\n",

        "i=149 \u0421\u041a-\u043e\u0442\u043a\u043b\u043e\u043d\u0435\u043d\u0438\u0435:2392373.40178"

       ]

      },

      {

       "output_type": "stream",

       "stream": "stdout",

       "text": [

        "\n",

        "i=159 \u0421\u041a-\u043e\u0442\u043a\u043b\u043e\u043d\u0435\u043d\u0438\u0435:2393317.92572"

       ]

      },

      {

       "output_type": "stream",

       "stream": "stdout",

       "text": [

        "\n",

        "i=169 \u0421\u041a-\u043e\u0442\u043a\u043b\u043e\u043d\u0435\u043d\u0438\u0435:2393087.56111"

       ]

      },

      {

       "output_type": "stream",

       "stream": "stdout",

       "text": [

        "\n",

        "i=179 \u0421\u041a-\u043e\u0442\u043a\u043b\u043e\u043d\u0435\u043d\u0438\u0435:2392404.65124"

       ]

      },

      {

       "output_type": "stream",

       "stream": "stdout",

       "text": [

        "\n",

        "i=189 \u0421\u041a-\u043e\u0442\u043a\u043b\u043e\u043d\u0435\u043d\u0438\u0435:2392279.63574"

       ]

      },

      {

       "output_type": "stream",

       "stream": "stdout",

       "text": [

        "\n",

        "i=199 \u0421\u041a-\u043e\u0442\u043a\u043b\u043e\u043d\u0435\u043d\u0438\u0435:2390980.76617"

       ]

      },

      {

       "output_type": "stream",

       "stream": "stdout",

       "text": [

        "\n"

       ]

      },

      {

       "metadata": {},

       "output_type": "pyout",

       "prompt_number": 118,

       "text": [

        "[<matplotlib.lines.Line2D at 0x1b98a208>]"

       ]

      },

      {

       "metadata": {},

       "output_type": "display_data",

       "png": "[encoded data removed]",

       "text": [

        "<matplotlib.figure.Figure at 0x1b1f9ef0>"

       ]

      }

     ],

     "prompt_number": 118

    },

    {

     "cell_type": "code",

     "collapsed": false,

     "input": [

      "np.sqrt((((y.mean()-y))**2).mean())\n",

      "figsize(10, 10)\n",

      "matplotlib.pyplot.scatter(aa,y)"

     ],

     "language": "python",

     "metadata": {},

     "outputs": [

      {

       "metadata": {},

       "output_type": "pyout",

       "prompt_number": 74,

       "text": [

        "<matplotlib.collections.PathCollection at 0x18cb8710>"

       ]

      },

      {

       "metadata": {},

       "output_type": "display_data",

       "png": "[encoded data removed]",

       "text": [

        "<matplotlib.figure.Figure at 0x18df2a58>"

       ]

      }

     ],

     "prompt_number": 74

    },

    {

     "cell_type": "code",

     "collapsed": false,

     "input": [

      "clf = GradientBoostingRegressor(n_estimators=100, learning_rate=0.001,\\\n",

      "                                max_depth=5, random_state=0, loss='ls')\n",

      "a = runtest(data2, clf, 10)\n",

      "print clf\n",

      "print (np.sqrt((((a-y))**2).mean()))"

     ],

     "language": "python",

     "metadata": {},

     "outputs": [

      {

       "output_type": "stream",

       "stream": "stdout",

       "text": [

        "GradientBoostingRegressor(alpha=0.9, init=None, learning_rate=0.001, loss=ls,\n",

        "             max_depth=5, max_features=None, min_samples_leaf=1,\n",

        "             min_samples_split=2, n_estimators=100, random_state=0,\n",

        "             subsample=1.0, verbose=0)\n",

        "2530728.03146\n"

       ]

      }

     ],

     "prompt_number": 63

    },

    {

     "cell_type": "code",

     "collapsed": false,

     "input": [

      "clf = sklearn.ensemble.RandomForestRegressor(n_estimators = 100, \\\n",

      "                                             max_features = 10, \\\n",

      "                                             min_samples_leaf = 5,\n",

      "                                             bootstrap=False)\n",

      "\n",

      "y = data2['revenue'].values\n",

      "train = data2[data2.columns - ['revenue']]\n",

      "clf.fit(train, y)\n",

      "clf.predict(train)\n",

      "print '\u043e\u0448\u0438\u0431\u043a\u0430 \u043d\u0430\u0441\u0442\u0440\u043e\u0439\u043a\u0438 = ' + str(np.sqrt((((aa-y))**2).mean()))\n",

      "\n",

      "d = pd.DataFrame({\"imp\": clf.feature_importances_})\n",

      "d.index = train.columns.values\n",

      "d.plot(kind='barh', figsize=[10,10])"

     ],

     "language": "python",

     "metadata": {},

     "outputs": [

      {

       "output_type": "stream",

       "stream": "stdout",

       "text": [

        "\u043e\u0448\u0438\u0431\u043a\u0430 \u043d\u0430\u0441\u0442\u0440\u043e\u0439\u043a\u0438 = 2387675.65224\n"

       ]

      },

      {

       "metadata": {},

       "output_type": "pyout",

       "prompt_number": 111,

       "text": [

        "<matplotlib.axes.AxesSubplot at 0x18fbeeb8>"

       ]

      },

      {

       "metadata": {},

       "output_type": "display_data",

       "png": "[encoded data removed]",

       "text": [

        "<matplotlib.figure.Figure at 0x179a29e8>"

       ]

      }

     ],

     "prompt_number": 111

    },

    {

     "cell_type": "code",

     "collapsed": false,

     "input": [

      "data3 = data2.copy()\n",

      "\n",

      "for i in range(37):\n",

      "    for j in range(37):\n",

      "        if i<j:\n",

      "            a = 'P' + str(i+1)\n",

      "            b = 'P' + str(j+1)\n",

      "            data3[a+b] = np.abs(data3[a] - data3[b])\n",

      "    #print i\n",

      "\n",

      "data3[:3]"

     ],

     "language": "python",

     "metadata": {},

     "outputs": [

      {

       "html": [

        "<div style=\"max-height:1000px;max-width:1500px;overflow:auto;\">\n",

        "<table border=\"1\" class=\"dataframe\">\n",

        "  <thead>\n",

        "    <tr style=\"text-align: right;\">\n",

        "      <th></th>\n",

        "      <th>P1</th>\n",

        "      <th>P2</th>\n",

        "      <th>P3</th>\n",

        "      <th>P4</th>\n",

        "      <th>P5</th>\n",

        "      <th>P6</th>\n",

        "      <th>P7</th>\n",

        "      <th>P8</th>\n",

        "      <th>P9</th>\n",

        "      <th>P10</th>\n",

        "      <th>...</th>\n",

        "      <th>P33P34</th>\n",

        "      <th>P33P35</th>\n",

        "      <th>P33P36</th>\n",

        "      <th>P33P37</th>\n",

        "      <th>P34P35</th>\n",

        "      <th>P34P36</th>\n",

        "      <th>P34P37</th>\n",

        "      <th>P35P36</th>\n",

        "      <th>P35P37</th>\n",

        "      <th>P36P37</th>\n",

        "    </tr>\n",

        "  </thead>\n",

        "  <tbody>\n",

        "    <tr>\n",

        "      <th>0</th>\n",

        "      <td> 4</td>\n",

        "      <td> 5</td>\n",

        "      <td> 4</td>\n",

        "      <td> 4</td>\n",

        "      <td> 2</td>\n",

        "      <td> 2</td>\n",

        "      <td> 5</td>\n",

        "      <td> 4</td>\n",

        "      <td> 5</td>\n",

        "      <td> 5</td>\n",

        "      <td>...</td>\n",

        "      <td> 0</td>\n",

        "      <td> 1</td>\n",

        "      <td> 2</td>\n",

        "      <td> 1</td>\n",

        "      <td> 1</td>\n",

        "      <td> 2</td>\n",

        "      <td> 1</td>\n",

        "      <td> 1</td>\n",

        "      <td> 0</td>\n",

        "      <td> 1</td>\n",

        "    </tr>\n",

        "    <tr>\n",

        "      <th>1</th>\n",

        "      <td> 4</td>\n",

        "      <td> 5</td>\n",

        "      <td> 4</td>\n",

        "      <td> 4</td>\n",

        "      <td> 1</td>\n",

        "      <td> 2</td>\n",

        "      <td> 5</td>\n",

        "      <td> 5</td>\n",

        "      <td> 5</td>\n",

        "      <td> 5</td>\n",

        "      <td>...</td>\n",

        "      <td> 0</td>\n",

        "      <td> 0</td>\n",

        "      <td> 0</td>\n",

        "      <td> 0</td>\n",

        "      <td> 0</td>\n",

        "      <td> 0</td>\n",

        "      <td> 0</td>\n",

        "      <td> 0</td>\n",

        "      <td> 0</td>\n",

        "      <td> 0</td>\n",

        "    </tr>\n",

        "    <tr>\n",

        "      <th>2</th>\n",

        "      <td> 2</td>\n",

        "      <td> 4</td>\n",

        "      <td> 2</td>\n",

        "      <td> 5</td>\n",

        "      <td> 2</td>\n",

        "      <td> 3</td>\n",

        "      <td> 5</td>\n",

        "      <td> 5</td>\n",

        "      <td> 5</td>\n",

        "      <td> 5</td>\n",

        "      <td>...</td>\n",

        "      <td> 0</td>\n",

        "      <td> 0</td>\n",

        "      <td> 0</td>\n",

        "      <td> 0</td>\n",

        "      <td> 0</td>\n",

        "      <td> 0</td>\n",

        "      <td> 0</td>\n",

        "      <td> 0</td>\n",

        "      <td> 0</td>\n",

        "      <td> 0</td>\n",

        "    </tr>\n",

        "  </tbody>\n",

        "</table>\n",

        "<p>3 rows \u00d7 712 columns</p>\n",

        "</div>"

       ],

       "metadata": {},

       "output_type": "pyout",

       "prompt_number": 78,

       "text": [

        "   P1  P2  P3  P4  P5  P6  P7  P8  P9  P10 ...   P33P34  P33P35  P33P36  \\\n",

        "0   4   5   4   4   2   2   5   4   5    5 ...        0       1       2   \n",

        "1   4   5   4   4   1   2   5   5   5    5 ...        0       0       0   \n",

        "2   2   4   2   5   2   3   5   5   5    5 ...        0       0       0   \n",

        "\n",

        "   P33P37  P34P35  P34P36  P34P37  P35P36  P35P37  P36P37  \n",

        "0       1       1       2       1       1       0       1  \n",

        "1       0       0       0       0       0       0       0  \n",

        "2       0       0       0       0       0       0       0  \n",

        "\n",

        "[3 rows x 712 columns]"

       ]

      }

     ],

     "prompt_number": 78

    },

    {

     "cell_type": "code",

     "collapsed": false,

     "input": [

      "data3.columns"

     ],

     "language": "python",

     "metadata": {},

     "outputs": [

      {

       "metadata": {},

       "output_type": "pyout",

       "prompt_number": 79,

       "text": [

        "Index([u'P1', u'P2', u'P3', u'P4', u'P5', u'P6', u'P7', u'P8', u'P9', u'P10', u'P11', u'P12', u'P13', u'P14', u'P15', u'P16', u'P17', u'P18', u'P19', u'P20', u'P21', u'P22', u'P23', u'P24', u'P25', u'P26', u'P27', u'P28', u'P29', u'P30', u'P31', u'P32', u'P33', u'P34', u'P35', u'P36', u'P37', u'revenue', u'day', u'month', u'year', u'weekday', u'cg', u'tp', u'cp1', u'cod', u'P1P2', u'P1P3', u'P1P4', u'P1P5', u'P1P6', u'P1P7', u'P1P8', u'P1P9', u'P1P10', u'P1P11', u'P1P12', u'P1P13', u'P1P14', u'P1P15', u'P1P16', u'P1P17', u'P1P18', u'P1P19', u'P1P20', u'P1P21', u'P1P22', u'P1P23', u'P1P24', u'P1P25', u'P1P26', u'P1P27', u'P1P28', u'P1P29', u'P1P30', u'P1P31', u'P1P32', u'P1P33', u'P1P34', u'P1P35', u'P1P36', u'P1P37', u'P2P3', u'P2P4', u'P2P5', u'P2P6', u'P2P7', u'P2P8', u'P2P9', u'P2P10', u'P2P11', u'P2P12', u'P2P13', u'P2P14', u'P2P15', u'P2P16', u'P2P17', u'P2P18', u'P2P19', u'P2P20', ...], dtype='object')"

       ]

      }

     ],

     "prompt_number": 79

    },

    {

     "cell_type": "code",

     "collapsed": false,

     "input": [

      "# \u0441\u043a\u043e\u043b\u044c\u043a\u043e \u0434\u0435\u0440\u0435\u0432\u044c\u0435\u0432 \u043d\u0430\u0434\u043e\n",

      "\n",

      "clf = sklearn.ensemble.RandomForestRegressor(n_estimators = 10, max_features = 40, min_samples_leaf = 5, bootstrap=False)\n",

      "# max_depth = 10\n",

      "\n",

      "suma = 0\n",

      "es = []\n",

      "for i in range(10):\n",

      "    a = runtest(data3, clf, 10)\n",

      "    suma = suma + a\n",

      "    aa = suma/(i+1)\n",

      "    es.append(np.sqrt((((aa-y))**2).mean()))\n",

      "    print 'i=' + str(i) + ' \u0421\u041a-\u043e\u0442\u043a\u043b\u043e\u043d\u0435\u043d\u0438\u0435:' + str(np.sqrt((((aa-y))**2).mean()))\n",

      "plot(es)"

     ],

     "language": "python",

     "metadata": {},

     "outputs": [

      {

       "output_type": "stream",

       "stream": "stdout",

       "text": [

        "i=0 \u0421\u041a-\u043e\u0442\u043a\u043b\u043e\u043d\u0435\u043d\u0438\u0435:2506191.02004\n",

        "i=1 \u0421\u041a-\u043e\u0442\u043a\u043b\u043e\u043d\u0435\u043d\u0438\u0435:2454129.39806"

       ]

      },

      {

       "output_type": "stream",

       "stream": "stdout",

       "text": [

        "\n",

        "i=2 \u0421\u041a-\u043e\u0442\u043a\u043b\u043e\u043d\u0435\u043d\u0438\u0435:2435909.0172"

       ]

      },

      {

       "output_type": "stream",

       "stream": "stdout",

       "text": [

        "\n",

        "i=3 \u0421\u041a-\u043e\u0442\u043a\u043b\u043e\u043d\u0435\u043d\u0438\u0435:2460908.8044"

       ]

      },

      {

       "output_type": "stream",

       "stream": "stdout",

       "text": [

        "\n",

        "i=4 \u0421\u041a-\u043e\u0442\u043a\u043b\u043e\u043d\u0435\u043d\u0438\u0435:2456812.12481"

       ]

      },

      {

       "output_type": "stream",

       "stream": "stdout",

       "text": [

        "\n",

        "i=5 \u0421\u041a-\u043e\u0442\u043a\u043b\u043e\u043d\u0435\u043d\u0438\u0435:2446342.79597"

       ]

      },

      {

       "output_type": "stream",

       "stream": "stdout",

       "text": [

        "\n",

        "i=6 \u0421\u041a-\u043e\u0442\u043a\u043b\u043e\u043d\u0435\u043d\u0438\u0435:2449211.45001"

       ]

      },

      {

       "output_type": "stream",

       "stream": "stdout",

       "text": [

        "\n",

        "i=7 \u0421\u041a-\u043e\u0442\u043a\u043b\u043e\u043d\u0435\u043d\u0438\u0435:2444298.22975"

       ]

      },

      {

       "output_type": "stream",

       "stream": "stdout",

       "text": [

        "\n",

        "i=8 \u0421\u041a-\u043e\u0442\u043a\u043b\u043e\u043d\u0435\u043d\u0438\u0435:2443681.05202"

       ]

      },

      {

       "output_type": "stream",

       "stream": "stdout",

       "text": [

        "\n",

        "i=9 \u0421\u041a-\u043e\u0442\u043a\u043b\u043e\u043d\u0435\u043d\u0438\u0435:2445885.52379"

       ]

      },

      {

       "output_type": "stream",

       "stream": "stdout",

       "text": [

        "\n"

       ]

      },

      {

       "metadata": {},

       "output_type": "pyout",

       "prompt_number": 83,

       "text": [

        "[<matplotlib.lines.Line2D at 0x23388b00>]"

       ]

      },

      {

       "metadata": {},

       "output_type": "display_data",

       "png": "[encoded data removed]",

       "text": [

        "<matplotlib.figure.Figure at 0x2224e0f0>"

       ]

      }

     ],

     "prompt_number": 83

    },

    {

     "cell_type": "code",

     "collapsed": false,

     "input": [

      "\n",

      "#mport time\n",

      "#ime.mktime(s)\n",

      "\n",

      "#(datetime.datetime(1970,1,1) - s).total_seconds()\n",

      "#t = datetime.datetime(1970,1,1)\n",

      "#s\n",

      "\n",

      "from datetime import datetime\n",

      "import numpy as np\n",

      "dt = datetime.utcnow()\n",

      "print dt\n",

      "dt64 = np.datetime64(dt)\n",

      "ts = (dt64 - np.datetime64('1970-01-01T00:00:00Z')) / np.timedelta64(1, 's')\n",

      "print ts\n",

      "\n",

      "#np.datetime64(data['Open Date'])\n",

      "t= s[0]\n",

      "t\n",

      "\n",

      "ts = (data['Open Date'].values - np.datetime64('1970-01-01T00:00:00Z')) / np.timedelta64(1, 'h')\n",

      "print ts\n",

      "plot (ts)"

     ],

     "language": "python",

     "metadata": {},

     "outputs": [

      {

       "output_type": "stream",

       "stream": "stdout",

       "text": [

        "2015-04-19 09:56:00.727000\n",

        "1429437360.73\n",

        "[ 258936.  334152.  378552.  368928.  344952.  351648.  357432.  363504.\n",

        "  356376.  367056.  382224.  371568.  378336.  357552.  368088.  369048.\n",

        "  263112.  349344.  370824.  364848.  356304.  386280.  319920.  345552.\n",

        "  348168.  367944.  351912.  260952.  246096.  322416.  341136.  376920.\n",

        "  342264.  379632.  370080.  230976.  336192.  356256.  359808.  343944.\n",

        "  360336.  345504.  365856.  348264.  304896.  368928.  365064.  350424.\n",

        "  367896.  335280.  353520.  366864.  384504.  379032.  257928.  338472.\n",

        "  378720.  337224.  370584.  332352.  371064.  336696.  358272.  382128.\n",

        "  250080.  385440.  350832.  360816.  352416.  365184.  323496.  323712.\n",

        "  347064.  366024.  367416.  313704.  340992.  384072.  374688.  351216.\n",

        "  348792.  315192.  351912.  250800.  348624.  263112.  364344.  334080.\n",

        "  381504.  345000.  382200.  328416.  287808.  375048.  364656.  371976.\n",

        "  367320.  342480.  361056.  262632.  330648.  374208.  304128.  367536.\n",

        "  324840.  334872.  337080.  362280.  372720.  330000.  374616.  373488.\n",

        "  247176.  323784.  341256.  371136.  370296.  315456.  350472.  385752.\n",

        "  364896.  305640.  239064.  366792.  312312.  356472.  337920.  330312.\n",

        "  366264.  325248.  366624.  287928.  337320.  322392.  320088.  357864.\n",

        "  347712.]\n"

       ]

      },

      {

       "metadata": {},

       "output_type": "pyout",

       "prompt_number": 106,

       "text": [

        "[<matplotlib.lines.Line2D at 0x18cd9748>]"

       ]

      },

      {

       "metadata": {},

       "output_type": "display_data",

       "png": "[encoded data removed]",

       "text": [

        "<matplotlib.figure.Figure at 0x19dcf160>"

       ]

      }

     ],

     "prompt_number": 106

    }

   ],

   "metadata": {}

  }

 ]

}
