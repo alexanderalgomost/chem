{
 "metadata": {
  "name": "",
  "signature": "sha256:4d033a89e9f5a9e41ef80773985b9fc75e2914c2b5e43def1d430844a4eb1132"
 },
 "nbformat": 3,
 "nbformat_minor": 0,
 "worksheets": [
  {
   "cells": [
    {
     "cell_type": "code",
     "collapsed": true,
     "input": [
      "import numpy as np\n",
      "import pandas as pd\n",
      "from pandas import DataFrame as df\n",
      "from pandas import read_csv\n",
      "\n",
      "import logging\n",
      "reload(logging)\n",
      "logging.basicConfig(format = u'[%(asctime)s]  %(message)s', level = logging.INFO)\n",
      "logging.info('')\n",
      "\n",
      "import sklearn, random, sys, os\n",
      "from __future__ import division\n",
      "\n",
      "sys.path.append('/home/ml/xgboost/wrapper/')\n",
      "import xgboost as xgb\n",
      "\n",
      "from multiprocessing import Pool"
     ],
     "language": "python",
     "metadata": {},
     "outputs": []
    },
    {
     "cell_type": "code",
     "collapsed": false,
     "input": [
      "train = read_csv('data/trainXYtransformed.csv').values"
     ],
     "language": "python",
     "metadata": {},
     "outputs": []
    },
    {
     "cell_type": "code",
     "collapsed": false,
     "input": [
      "test = read_csv('data/testXtransformed.csv').values"
     ],
     "language": "python",
     "metadata": {},
     "outputs": []
    },
    {
     "cell_type": "heading",
     "level": 2,
     "metadata": {},
     "source": [
      "SUBMIT"
     ]
    },
    {
     "cell_type": "code",
     "collapsed": false,
     "input": [
      "train64 = np.zeros((train.shape[0],64))\n",
      "test64 = np.zeros((test.shape[0],64))\n",
      "\n",
      "k = 0\n",
      "for i in range(16):\n",
      "    for j in range(16):\n",
      "        if i > j:            \n",
      "            train64[:, j] += train[:,:240][:,-k - 2]\n",
      "            train64[:, 16 + i] += train[:,:240][:,-k - 1]\n",
      "            test64[:, j] += test[:,-k - 2]\n",
      "            test64[:, 16 + i] += test[:,-k - 1]\n",
      "            k += 2\n",
      "            \n",
      "k = 0\n",
      "for j in range(16):\n",
      "    for i in range(16):\n",
      "        if i > j:            \n",
      "            train64[:, 32 + j] += train[:,:240][:,-k - 2]\n",
      "            train64[:, 48 + i] += train[:,:240][:,-k - 1]\n",
      "            test64[:, 32 + j] += test[:,-k - 2]\n",
      "            test64[:, 48 + i] += test[:,-k - 1]\n",
      "            k += 2"
     ],
     "language": "python",
     "metadata": {},
     "outputs": []
    },
    {
     "cell_type": "code",
     "collapsed": false,
     "input": [
      "logging.info('')\n",
      "\n",
      "param = {}\n",
      "param['objective'] = 'binary:logistic'\n",
      "param['eta'] = 0.1\n",
      "param['max_depth'] = 15\n",
      "param['eval_metric'] = 'auc'\n",
      "param['silent'] = 1\n",
      "param['nthread'] = 15\n",
      "num_round = 100\n",
      "plst = list(param.items())\n",
      "\n",
      "N = 50\n",
      "for k in range(N) :\n",
      "    print k\n",
      "    features = [i for i in range(64)]\n",
      "    random.shuffle(features)\n",
      "    bag = features[:32]\n",
      "    \n",
      "    nums = [i for i in range(train.shape[0])]\n",
      "    random.shuffle(nums)\n",
      "    rows = nums[:int(train.shape[0] / 2)]\n",
      "    \n",
      "    Gtrain = xgb.DMatrix( train64[:,bag][rows,:], label = train[:,240][rows] )\n",
      "    Gcv = xgb.DMatrix( test64 [:,bag] )\n",
      "    \n",
      "    bst = xgb.train( plst, Gtrain, num_round )\n",
      "    if k == 0 :\n",
      "        p_xgb = bst.predict( Gcv )\n",
      "    else :\n",
      "        p_xgb += bst.predict( Gcv )\n",
      "\n",
      "p_xgb /= N\n",
      "\n",
      "logging.info('')"
     ],
     "language": "python",
     "metadata": {},
     "outputs": []
    },
    {
     "cell_type": "code",
     "collapsed": false,
     "input": [
      "logging.info('')\n",
      "\n",
      "param = {}\n",
      "param['objective'] = 'binary:logistic'\n",
      "param['eta'] = 0.1\n",
      "param['max_depth'] = 15\n",
      "param['eval_metric'] = 'auc'\n",
      "param['silent'] = 1\n",
      "param['nthread'] = 15\n",
      "num_round = 100\n",
      "plst = list(param.items())\n",
      "\n",
      "N = 34\n",
      "for k in range(N) :\n",
      "    print k\n",
      "    features = [i for i in range(240)]\n",
      "    random.shuffle(features)\n",
      "    bag = features[:120]\n",
      "    \n",
      "    nums = [i for i in range(train.shape[0])]\n",
      "    random.shuffle(nums)\n",
      "    rows = nums[:int(train.shape[0] / 2)]\n",
      "    \n",
      "    Gtrain = xgb.DMatrix( train[:,:240][:,bag][rows,:], label = train[:,240][rows] )\n",
      "    Gcv = xgb.DMatrix( test [:,bag] )\n",
      "    \n",
      "    bst = xgb.train( plst, Gtrain, num_round )\n",
      "    if k == 0 :\n",
      "        p_xgb2 = bst.predict( Gcv )\n",
      "    else :\n",
      "        p_xgb2 += bst.predict( Gcv )\n",
      "        \n",
      "p_xgb2 /= N\n",
      "\n",
      "logging.info('')"
     ],
     "language": "python",
     "metadata": {},
     "outputs": []
    },
    {
     "cell_type": "code",
     "collapsed": false,
     "input": [
      "ans = ( p_xgb * 34 + p_xgb2 * 50 ) / 84"
     ],
     "language": "python",
     "metadata": {},
     "outputs": []
    },
    {
     "cell_type": "code",
     "collapsed": false,
     "input": [
      "df(ans).to_csv('submissions/28_33.txt',index=False,header=False)"
     ],
     "language": "python",
     "metadata": {},
     "outputs": []
    }
   ],
   "metadata": {}
  }
 ]
}
