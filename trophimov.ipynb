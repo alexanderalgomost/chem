{
 "metadata": {
  "name": "",
  "signature": "sha256:140c9d1316c922108193d7ecd3c1accf6b0c65a204ee4aae65535063a6661297"
 },
 "nbformat": 3,
 "nbformat_minor": 0,
 "worksheets": [
  {
   "cells": [
    {
     "cell_type": "heading",
     "level": 3,
     "metadata": {},
     "source": [
      "\u0420\u0435\u0448\u0435\u043d\u0438\u0435 \u043a\u043e\u043d\u043a\u0443\u0440\u0441\u0430 \"\u0410\u043d\u0430\u043b\u0438\u0437 \u0434\u0430\u043d\u043d\u044b\u0445 \u0432 \u044d\u043a\u0441\u043f\u0435\u0440\u0438\u043c\u0435\u043d\u0442\u0430\u043b\u044c\u043d\u043e\u0439 \u0445\u0438\u043c\u0438\u0438\""
     ]
    },
    {
     "cell_type": "markdown",
     "metadata": {},
     "source": [
      "(http://algomost.com/ru/tasks/chem)\n",
      "\n",
      "\u0410\u0432\u0442\u043e\u0440: \u0422\u0440\u043e\u0444\u0438\u043c\u043e\u0432 \u041c\u0438\u0445\u0430\u0438\u043b, gef"
     ]
    },
    {
     "cell_type": "heading",
     "level": 1,
     "metadata": {},
     "source": [
      "\u0418\u043c\u043f\u043e\u0440\u0442\u0438\u0440\u0443\u0435\u043c \u0431\u0430\u0437\u043e\u0432\u044b\u0435 \u0431\u0438\u0431\u043b\u0438\u043e\u0442\u0435\u043a\u0438"
     ]
    },
    {
     "cell_type": "code",
     "collapsed": false,
     "input": [
      "import pandas as pd\n",
      "import numpy as np\n",
      "from sklearn.externals import joblib\n",
      "\n",
      "import logging\n",
      "\n",
      "reload(logging)\n",
      "logging.basicConfig(format = u'[%(asctime)s]  %(message)s', level = logging.INFO)\n",
      "\n",
      "from collections import Counter\n",
      "\n",
      "from sklearn.metrics import roc_auc_score\n",
      "from sklearn.cross_validation import train_test_split"
     ],
     "language": "python",
     "metadata": {},
     "outputs": []
    },
    {
     "cell_type": "heading",
     "level": 1,
     "metadata": {},
     "source": [
      "\u041f\u043e\u0434\u0433\u043e\u0442\u043e\u0432\u043a\u0430 \u0434\u0430\u043d\u043d\u044b\u0445"
     ]
    },
    {
     "cell_type": "markdown",
     "metadata": {},
     "source": [
      "\u0412\u0430\u0436\u043d\u044b\u0439 \u044d\u0442\u0430\u043f - \u0443\u0434\u0430\u043b\u0435\u043d\u0438\u0435 \u0434\u0443\u0431\u043b\u0438\u043a\u0430\u0442\u043e\u0432 \u0438\u0437 \u043e\u0431\u0443\u0447\u0430\u044e\u0449\u0435\u0433\u043e \u043c\u043d\u043e\u0436\u0435\u0441\u0442\u0432\u0430"
     ]
    },
    {
     "cell_type": "code",
     "collapsed": false,
     "input": [
      "# \u0437\u0430\u0433\u0440\u0443\u0436\u0430\u0435\u043c \u043f\u0440\u0438\u0437\u043d\u0430\u043a\u043e\u0432\u0443\u044e \u043c\u0430\u0442\u0440\u0438\u0446\u0443\n",
      "train_df = pd.read_csv('./raw_data/algomostchem_train.txt', header=None, engine='c', dtype=np.int32)\n",
      "\n",
      "# \u0437\u0430\u0433\u0440\u0443\u0436\u0430\u0435\u043c \u043c\u0435\u0442\u043a\u0438\n",
      "y_df = pd.read_csv('./raw_data/algomostchem_trainY.txt', header=None, engine='c', dtype=np.int32)\n",
      "y_all = y_df[0].values\n",
      "\n",
      "# \u0443\u0434\u0430\u043b\u044f\u0435\u043c \u0434\u0443\u0431\u043b\u0438\u043a\u0430\u0442\u044b\n",
      "train_df['target'] = y_all\n",
      "print 'Before: {}'.format(len(train_df))\n",
      "train_df.drop_duplicates(cols =range(30), inplace=True)\n",
      "print 'After: {}'.format(len(train_df))\n",
      "\n",
      "# \u0441\u043e\u0445\u0440\u0430\u043d\u044f\u0435\u043c \u0440\u0435\u0437\u0443\u043b\u044c\u0442\u0430\u0442\n",
      "y_all = train_df['target'].values\n",
      "joblib.dump(y_all, './tmp/train_y_rm')\n",
      "del train_df['target']\n",
      "joblib.dump(train_df.as_matrix(), './tmp/train_X_rm')\n",
      "del train_df"
     ],
     "language": "python",
     "metadata": {},
     "outputs": []
    },
    {
     "cell_type": "markdown",
     "metadata": {},
     "source": [
      "\u041f\u0440\u0438\u0437\u043d\u0430\u043a\u0438 \u0431\u044b\u043b\u0438 \"\u0441\u0431\u0438\u0442\u044b\" \u0432 \u0431\u043b\u043e\u043a\u0438 \u043f\u043e 200\u043a"
     ]
    },
    {
     "cell_type": "code",
     "collapsed": false,
     "input": [
      "X_all = joblib.load('./tmp/train_X_rm')\n",
      "\n",
      "X_xgb = np.zeros((X_all.shape[0], X_all.shape[1]), dtype=np.int32)\n",
      "for i in range(X_all.shape[1]):\n",
      "    X_xgb[:, i] = (X_all[:, i] / 200000).astype(int)\n",
      "joblib.dump(X_xgb, './tmp/train_xgb_all_rm')"
     ],
     "language": "python",
     "metadata": {},
     "outputs": []
    },
    {
     "cell_type": "markdown",
     "metadata": {},
     "source": [
      "\u0410\u043d\u0430\u043b\u043e\u0433\u0438\u0447\u043d\u043e\u0439 \u043f\u0440\u0435\u0434\u043e\u0431\u0440\u0430\u0431\u043e\u0442\u043a\u0435 \u043f\u043e\u0434\u0432\u0435\u0440\u0433\u0430\u0435\u043c \u0442\u0435\u0441\u0442\u043e\u0432\u043e\u0435 \u043c\u043d\u043e\u0436\u0435\u0441\u0442\u0432\u043e"
     ]
    },
    {
     "cell_type": "code",
     "collapsed": false,
     "input": [
      "test_df = pd.read_csv('./raw_data/algomostchem_test.txt', header=None, engine='c', dtype=np.int32)\n",
      "X_test = test_df.as_matrix()\n",
      "\n",
      "X_lb = np.zeros((X_test.shape[0], X_test.shape[1]), dtype=np.int32)\n",
      "for i in range(X_test.shape[1]):\n",
      "    X_lb[:, i] = (X_test[:, i] / 200000).astype(int)\n",
      "joblib.dump(X_lb, './tmp/X_lb')"
     ],
     "language": "python",
     "metadata": {},
     "outputs": []
    },
    {
     "cell_type": "heading",
     "level": 1,
     "metadata": {},
     "source": [
      "\u041e\u0431\u0443\u0447\u0435\u043d\u0438\u0435"
     ]
    },
    {
     "cell_type": "markdown",
     "metadata": {},
     "source": [
      "\u0418\u043d\u0438\u0446\u0438\u0430\u043b\u0438\u0437\u0430\u0446\u0438\u044f"
     ]
    },
    {
     "cell_type": "code",
     "collapsed": false,
     "input": [
      "X_xgb = joblib.load('./tmp/train_xgb_all_rm')\n",
      "y_all = joblib.load('./tmp/train_y_rm')\n",
      "X_lb = joblib.load('./tmp/X_lb')\n",
      "# \u0442\u0443\u0442 \u043d\u0443\u0436\u043d\u043e \u043f\u043e\u0434\u0441\u0442\u0430\u0432\u0438\u0442\u044c \u043f\u0443\u0442\u044c \u043a \u0434\u0438\u0440\u0435\u043a\u0442\u043e\u0440\u0438\u0438 XGBoost (\u0441\u043c. https://github.com/tqchen/xgboost)\n",
      "sys.path.append('../tools/xgboost/wrapper/')\n",
      "import xgboost as xgb\n",
      "dall = xgb.DMatrix(X_xgb, label=y_all)\n",
      "dtest = xgb.DMatrix(data=X_lb)"
     ],
     "language": "python",
     "metadata": {},
     "outputs": []
    },
    {
     "cell_type": "markdown",
     "metadata": {},
     "source": [
      "\u041e\u0431\u0443\u0447\u0435\u043d\u0438\u0435 \u043e\u0442\u0434\u0435\u043b\u044c\u043d\u044b\u0445 \u043c\u043e\u0434\u0435\u043b\u0435\u0439"
     ]
    },
    {
     "cell_type": "code",
     "collapsed": false,
     "input": [
      "# version 5\n",
      "param = {'max_depth':12, 'eta':0.4, \n",
      "         'silent':1, \n",
      "         'objective':\"binary:logistic\", \n",
      "         'subsample': 1,\n",
      "         'colsample_bytree': 1,\n",
      "         'eval_metric':'auc',\n",
      "         'gamma':20,\n",
      "         'nthread':16}\n",
      "\n",
      "num_round = 35\n",
      "\n",
      "watchlist = [(dall,'all')]\n",
      "\n",
      "bst = xgb.train(param, dall, num_round, watchlist)\n",
      "y_lb = bst.predict(dtest)\n",
      "np.savetxt('./version5.txt', y_lb, fmt='%.5f')"
     ],
     "language": "python",
     "metadata": {},
     "outputs": []
    },
    {
     "cell_type": "code",
     "collapsed": false,
     "input": [
      "# version 9\n",
      "param = {'max_depth':14, 'eta':0.4, \n",
      "         'silent':1, \n",
      "         'objective':\"binary:logistic\", \n",
      "         'subsample': 1,\n",
      "         'colsample_bytree': 1,\n",
      "         'eval_metric':'auc',\n",
      "         'gamma':25,\n",
      "         'nthread':16}\n",
      "\n",
      "num_round = 35\n",
      "\n",
      "watchlist = [(dall,'all')]\n",
      "\n",
      "bst = xgb.train(param, dall, num_round, watchlist)\n",
      "y_lb = bst.predict(dtest)\n",
      "np.savetxt('./version9.txt', y_lb, fmt='%.5f')"
     ],
     "language": "python",
     "metadata": {},
     "outputs": []
    },
    {
     "cell_type": "code",
     "collapsed": false,
     "input": [
      "# version 13\n",
      "param = {'max_depth':16, 'eta':0.3, \n",
      "         'silent':1, \n",
      "         'objective':\"binary:logistic\", \n",
      "         'subsample': 1,\n",
      "         'colsample_bytree': 1,\n",
      "         'eval_metric':'auc',\n",
      "         'gamma':15,\n",
      "         'nthread':16}\n",
      "\n",
      "num_round = 50\n",
      "\n",
      "watchlist = [(dall,'all')]\n",
      "\n",
      "bst = xgb.train(param, dall, num_round, watchlist)\n",
      "y_lb = bst.predict(dtest)\n",
      "np.savetxt('./version13.txt', y_lb, fmt='%.5f')"
     ],
     "language": "python",
     "metadata": {},
     "outputs": []
    },
    {
     "cell_type": "code",
     "collapsed": false,
     "input": [
      "# version 16 (\u043e\u0442\u0434\u0435\u043b\u044c\u043d\u043e \u043d\u0435 \u0431\u044b\u043b\u0430 \u043e\u0442\u043f\u0440\u0430\u0432\u043b\u0435\u043d\u0430)\n",
      "param = {'max_depth':15, 'eta':0.25, \n",
      "         'silent':1, \n",
      "         'objective':\"binary:logistic\", \n",
      "         'subsample': 1,\n",
      "         'colsample_bytree': 1,\n",
      "         'eval_metric':'auc',\n",
      "         'gamma':23,\n",
      "         'nthread':16}\n",
      "\n",
      "num_round = 50\n",
      "\n",
      "watchlist = [(dall,'all')]\n",
      "\n",
      "bst = xgb.train(param, dall, num_round, watchlist)\n",
      "y_lb = bst.predict(dtest)\n",
      "np.savetxt('./version16.txt', y_lb, fmt='%.5f')"
     ],
     "language": "python",
     "metadata": {},
     "outputs": []
    },
    {
     "cell_type": "code",
     "collapsed": false,
     "input": [
      "# version 14 \n",
      "param = {'max_depth':17, 'eta':0.3, \n",
      "         'silent':1, \n",
      "         'objective':\"binary:logistic\", \n",
      "         'subsample': 1,\n",
      "         'colsample_bytree': 1,\n",
      "         'eval_metric':'auc',\n",
      "         'gamma':12,\n",
      "         'nthread':16}\n",
      "\n",
      "num_round = 50\n",
      "\n",
      "watchlist = [(dall,'all')]\n",
      "\n",
      "bst = xgb.train(param, dall, num_round, watchlist)\n",
      "y_lb = bst.predict(dtest)\n",
      "np.savetxt('./version14.txt', y_lb, fmt='%.5f')"
     ],
     "language": "python",
     "metadata": {},
     "outputs": []
    },
    {
     "cell_type": "markdown",
     "metadata": {},
     "source": [
      "\u0421\u043c\u0435\u0448\u0438\u0432\u0430\u043d\u0438\u0435 \u0444\u0438\u043d\u0430\u043b\u044c\u043d\u043e\u0433\u043e \u0440\u0435\u0437\u0443\u043b\u044c\u0442\u0430\u0442\u0430"
     ]
    },
    {
     "cell_type": "code",
     "collapsed": false,
     "input": [
      "y_5 = pd.read_csv('./version5.txt', header=None)[0].values\n",
      "y_9 = pd.read_csv('./version9.txt', header=None)[0].values\n",
      "y_13 = pd.read_csv('./version13.txt', header=None)[0].values\n",
      "y_16 = pd.read_csv('./version16.txt', header=None)[0].values\n",
      "y_14 = pd.read_csv('./version14.txt', header=None)[0].values\n",
      "y_lb = 0.2*y_5 + 0.2*y_9 + 0.2*y_13 + 0.2*y_16 + 0.2*y_14\n",
      "np.savetxt('./submit_final.txt', y_lb, fmt='%.5f')"
     ],
     "language": "python",
     "metadata": {},
     "outputs": []
    }
   ],
   "metadata": {}
  }
 ]
}
